{
 "cells": [
  {
   "cell_type": "code",
   "execution_count": 10,
   "id": "e6bb2cd8",
   "metadata": {},
   "outputs": [
    {
     "name": "stdout",
     "output_type": "stream",
     "text": [
      "\n",
      "==============================\n",
      " PROCESSING EXPERIMENT: CODER \n",
      "==============================\n",
      "\n",
      "--- Model Categorization (Coder) ---\n",
      "Base Model: Qwen2.5-7B (Qwen2.5 Base)\n",
      "Instruct Model: Qwen2.5-7B-Instruct (Qwen2.5 Instruct)\n",
      "Specialist Model: Qwen2.5-Coder-7B (Qwen2.5 Coder)\n",
      "Merged Models (5):\n",
      "  - Qwen2.5-7B-Instruct-Qwen2.5-Coder-7B-Merged-task_arithmetic-29 (Task Arithmetic)\n",
      "  - Qwen2.5-7B-Instruct-Qwen2.5-Coder-7B-Merged-dare_ties-29 (DARE Ties)\n",
      "  - Qwen2.5-7B-Instruct-Qwen2.5-Coder-7B-Merged-ties-29 (Ties)\n",
      "  - Qwen2.5-7B-Instruct-Qwen2.5-Coder-7B-Merged-slerp-29 (Slerp)\n",
      "  - Qwen2.5-7B-Instruct-Qwen2.5-Coder-7B-Merged-linear-29 (Linear)\n",
      "-------------------------\n",
      "Models for comparison: ['Qwen2.5 Base', 'Qwen2.5 Instruct', 'Qwen2.5 Coder', 'Task Arithmetic', 'DARE Ties', 'Ties', 'Slerp', 'Linear']\n",
      "-------------------------\n",
      "\n",
      "--- Main Leaderboard Tasks DataFrame (Coder) ---\n",
      "                  subtask subtask_cleaned        group  Qwen2.5-7B  \\\n",
      "0         leaderboard_bbh             bbh  leaderboard   51.432043   \n",
      "25       leaderboard_gpqa            gpqa  leaderboard   32.382550   \n",
      "29  leaderboard_math_hard       math_hard  leaderboard   20.317221   \n",
      "37   leaderboard_mmlu_pro        mmlu_pro  leaderboard   41.264960   \n",
      "38       leaderboard_musr            musr  leaderboard   46.825397   \n",
      "\n",
      "    Qwen2.5-7B-Instruct  Qwen2.5-Coder-7B  \\\n",
      "0             54.244055         50.008679   \n",
      "25            33.305369         31.543624   \n",
      "29            42.220544         16.691843   \n",
      "37            42.046210         37.674535   \n",
      "38            42.460317         41.269841   \n",
      "\n",
      "    Qwen2.5-7B-Instruct-Qwen2.5-Coder-7B-Merged-task_arithmetic-29  \\\n",
      "0                                           30.654400                \n",
      "25                                          20.973154                \n",
      "29                                           1.359517                \n",
      "37                                          15.932513                \n",
      "38                                          42.063492                \n",
      "\n",
      "    Qwen2.5-7B-Instruct-Qwen2.5-Coder-7B-Merged-dare_ties-29  \\\n",
      "0                                           28.988023          \n",
      "25                                          23.741611          \n",
      "29                                           0.000000          \n",
      "37                                          11.469415          \n",
      "38                                          37.037037          \n",
      "\n",
      "    Qwen2.5-7B-Instruct-Qwen2.5-Coder-7B-Merged-ties-29  \\\n",
      "0                                           29.300469     \n",
      "25                                          26.510067     \n",
      "29                                           1.132931     \n",
      "37                                          11.103723     \n",
      "38                                          38.624339     \n",
      "\n",
      "    Qwen2.5-7B-Instruct-Qwen2.5-Coder-7B-Merged-slerp-29  \\\n",
      "0                                           51.588266      \n",
      "25                                          33.053691      \n",
      "29                                          14.501511      \n",
      "37                                          39.893617      \n",
      "38                                          40.211640      \n",
      "\n",
      "    Qwen2.5-7B-Instruct-Qwen2.5-Coder-7B-Merged-linear-29  \n",
      "0                                           30.359313      \n",
      "25                                          24.580537      \n",
      "29                                           1.057402      \n",
      "37                                          11.893285      \n",
      "38                                          36.111111      \n",
      "--------------------------------------------------\n",
      "\n",
      "==============================\n",
      " PROCESSING EXPERIMENT: MATH \n",
      "==============================\n",
      "\n",
      "--- Model Categorization (Math) ---\n",
      "Base Model: Qwen2.5-7B (Qwen2.5 Base)\n",
      "Instruct Model: Qwen2.5-7B-Instruct (Qwen2.5 Instruct)\n",
      "Specialist Model: Qwen2.5-Math-7B (Qwen2.5 Math)\n",
      "Merged Models (5):\n",
      "  - Qwen2.5-7B-Instruct-Qwen2.5-Math-7B-Merged-task_arithmetic-26 (Task Arithmetic)\n",
      "  - Qwen2.5-7B-Instruct-Qwen2.5-Math-7B-Merged-dare_ties-27 (DARE Ties)\n",
      "  - Qwen2.5-7B-Instruct-Qwen2.5-Math-7B-Merged-ties-26 (Ties)\n",
      "  - Qwen2.5-7B-Instruct-Qwen2.5-Math-7B-Merged-slerp-24 (Slerp)\n",
      "  - Qwen2.5-7B-Instruct-Qwen2.5-Math-7B-Merged-linear-24 (Linear)\n",
      "-------------------------\n",
      "Models for comparison: ['Qwen2.5 Base', 'Qwen2.5 Instruct', 'Qwen2.5 Math', 'Task Arithmetic', 'DARE Ties', 'Ties', 'Slerp', 'Linear']\n",
      "-------------------------\n",
      "\n",
      "--- Main Leaderboard Tasks DataFrame (Math) ---\n",
      "                  subtask subtask_cleaned        group  Qwen2.5-7B  \\\n",
      "0         leaderboard_bbh             bbh  leaderboard   51.432043   \n",
      "25       leaderboard_gpqa            gpqa  leaderboard   32.382550   \n",
      "29  leaderboard_math_hard       math_hard  leaderboard   20.317221   \n",
      "37   leaderboard_mmlu_pro        mmlu_pro  leaderboard   41.264960   \n",
      "38       leaderboard_musr            musr  leaderboard   46.825397   \n",
      "\n",
      "    Qwen2.5-7B-Instruct  Qwen2.5-Math-7B  \\\n",
      "0             54.244055        46.207256   \n",
      "25            33.305369        30.956376   \n",
      "29            42.220544        27.719033   \n",
      "37            42.046210        29.720745   \n",
      "38            42.460317        42.989418   \n",
      "\n",
      "    Qwen2.5-7B-Instruct-Qwen2.5-Math-7B-Merged-task_arithmetic-26  \\\n",
      "0                                           46.554418               \n",
      "25                                          28.942953               \n",
      "29                                           8.459215               \n",
      "37                                          33.219747               \n",
      "38                                          42.989418               \n",
      "\n",
      "    Qwen2.5-7B-Instruct-Qwen2.5-Math-7B-Merged-dare_ties-27  \\\n",
      "0                                           37.910085         \n",
      "25                                          25.503356         \n",
      "29                                           1.208459         \n",
      "37                                          16.564162         \n",
      "38                                          38.359788         \n",
      "\n",
      "    Qwen2.5-7B-Instruct-Qwen2.5-Math-7B-Merged-ties-26  \\\n",
      "0                                                 NaN    \n",
      "25                                                NaN    \n",
      "29                                                NaN    \n",
      "37                                                NaN    \n",
      "38                                                NaN    \n",
      "\n",
      "    Qwen2.5-7B-Instruct-Qwen2.5-Math-7B-Merged-slerp-24  \\\n",
      "0                                           51.171672     \n",
      "25                                          30.788591     \n",
      "29                                          18.202417     \n",
      "37                                          40.068152     \n",
      "38                                          47.486772     \n",
      "\n",
      "    Qwen2.5-7B-Instruct-Qwen2.5-Math-7B-Merged-linear-24  \n",
      "0                                           47.491755     \n",
      "25                                          28.020134     \n",
      "29                                          11.706949     \n",
      "37                                          32.770944     \n",
      "38                                          44.179894     \n",
      "--------------------------------------------------\n",
      "\n",
      "==============================\n",
      " GENERATING COMBINED PLOT \n",
      "==============================\n",
      "\n"
     ]
    },
    {
     "data": {
      "application/vnd.plotly.v1+json": {
       "config": {
        "plotlyServerURL": "https://plot.ly"
       },
       "data": [
        {
         "cliponaxis": false,
         "insidetextanchor": "middle",
         "marker": {
          "color": "rgb(100, 149, 237)"
         },
         "name": "Base",
         "orientation": "h",
         "text": [
          "<b>Qwen2.5 Base</b>: 51.4%"
         ],
         "textfont": {
          "color": [
           "white"
          ],
          "size": 12
         },
         "textposition": [
          "inside"
         ],
         "type": "bar",
         "x": {
          "bdata": "7/zEL023SUA=",
          "dtype": "f8"
         },
         "xaxis": "x",
         "y": [
          "Qwen2.5 Base"
         ],
         "yaxis": "y"
        },
        {
         "cliponaxis": false,
         "insidetextanchor": "middle",
         "marker": {
          "color": "rgb(50, 205, 50)"
         },
         "name": "Instruct",
         "orientation": "h",
         "text": [
          "<b>Qwen2.5 Instruct</b>: 54.2%"
         ],
         "textfont": {
          "color": [
           "white"
          ],
          "size": 12
         },
         "textposition": [
          "inside"
         ],
         "type": "bar",
         "x": {
          "bdata": "OQB7MD0fS0A=",
          "dtype": "f8"
         },
         "xaxis": "x",
         "y": [
          "Qwen2.5 Instruct"
         ],
         "yaxis": "y"
        },
        {
         "cliponaxis": false,
         "insidetextanchor": "middle",
         "marker": {
          "color": "rgb(255, 165, 0)"
         },
         "name": "Specialist",
         "orientation": "h",
         "text": [
          "<b>Qwen2.5 Coder</b>: 50.0%"
         ],
         "textfont": {
          "color": [
           "white"
          ],
          "size": 12
         },
         "textposition": [
          "inside"
         ],
         "type": "bar",
         "x": {
          "bdata": "w1MjZRwBSUA=",
          "dtype": "f8"
         },
         "xaxis": "x",
         "y": [
          "Qwen2.5 Coder"
         ],
         "yaxis": "y"
        },
        {
         "cliponaxis": false,
         "insidetextanchor": "middle",
         "marker": {
          "color": "rgb(192, 192, 192)"
         },
         "name": "Merged",
         "orientation": "h",
         "text": [
          "<b>Task Arithmetic</b>: 30.7%",
          "<b>DARE Ties</b>: 29.0%",
          "<b>Ties</b>: 29.3%",
          "<b>Slerp</b>: 51.6%",
          "<b>Linear</b>: 30.4%"
         ],
         "textfont": {
          "color": [
           "white",
           "white",
           "white",
           "white",
           "white"
          ],
          "size": 12
         },
         "textposition": [
          "inside",
          "inside",
          "inside",
          "inside",
          "inside"
         ],
         "type": "bar",
         "x": {
          "bdata": "f1fPxoanPkBqstER7/w8QF5BwYPrTD1Aq+BATEzLSUCYF23p+1s+QA==",
          "dtype": "f8"
         },
         "xaxis": "x",
         "y": [
          "Task Arithmetic",
          "DARE Ties",
          "Ties",
          "Slerp",
          "Linear"
         ],
         "yaxis": "y"
        },
        {
         "cliponaxis": false,
         "insidetextanchor": "middle",
         "marker": {
          "color": "rgb(100, 149, 237)"
         },
         "name": "Base",
         "orientation": "h",
         "text": [
          "<b>Qwen2.5 Base</b>: 51.4%"
         ],
         "textfont": {
          "color": [
           "white"
          ],
          "size": 22
         },
         "textposition": [
          "inside"
         ],
         "type": "bar",
         "x": {
          "bdata": "7/zEL023SUA=",
          "dtype": "f8"
         },
         "xaxis": "x2",
         "y": [
          "Qwen2.5 Base"
         ],
         "yaxis": "y2"
        },
        {
         "cliponaxis": false,
         "insidetextanchor": "middle",
         "marker": {
          "color": "rgb(50, 205, 50)"
         },
         "name": "Instruct",
         "orientation": "h",
         "text": [
          "<b>Qwen2.5 Instruct</b>: 54.2%"
         ],
         "textfont": {
          "color": [
           "white"
          ],
          "size": 22
         },
         "textposition": [
          "inside"
         ],
         "type": "bar",
         "x": {
          "bdata": "OQB7MD0fS0A=",
          "dtype": "f8"
         },
         "xaxis": "x2",
         "y": [
          "Qwen2.5 Instruct"
         ],
         "yaxis": "y2"
        },
        {
         "cliponaxis": false,
         "insidetextanchor": "middle",
         "marker": {
          "color": "rgb(255, 165, 0)"
         },
         "name": "Specialist",
         "orientation": "h",
         "text": [
          "<b>Qwen2.5 Math</b>: 46.2%"
         ],
         "textfont": {
          "color": [
           "white"
          ],
          "size": 22
         },
         "textposition": [
          "inside"
         ],
         "type": "bar",
         "x": {
          "bdata": "dwOyWocaR0A=",
          "dtype": "f8"
         },
         "xaxis": "x2",
         "y": [
          "Qwen2.5 Math"
         ],
         "yaxis": "y2"
        },
        {
         "cliponaxis": false,
         "insidetextanchor": "middle",
         "marker": {
          "color": "rgb(192, 192, 192)"
         },
         "name": "Merged",
         "orientation": "h",
         "text": [
          "<b>Task Arithmetic</b>: 46.6%",
          "<b>DARE Ties</b>: 37.9%",
          "<b>Slerp</b>: 51.2%",
          "<b>Linear</b>: 47.5%"
         ],
         "textfont": {
          "color": [
           "white",
           "white",
           "white",
           "white"
          ],
          "size": 22
         },
         "textposition": [
          "inside",
          "inside",
          "inside",
          "inside"
         ],
         "type": "bar",
         "x": {
          "bdata": "/xk3KPdGR0DQNcWqffRCQAosoVX5lUlAbXAe0/G+R0A=",
          "dtype": "f8"
         },
         "xaxis": "x2",
         "y": [
          "Task Arithmetic",
          "DARE Ties",
          "Slerp",
          "Linear"
         ],
         "yaxis": "y2"
        },
        {
         "cliponaxis": false,
         "insidetextanchor": "middle",
         "marker": {
          "color": "rgb(100, 149, 237)"
         },
         "name": "Base",
         "orientation": "h",
         "text": [
          "<b>Qwen2.5 Base</b>: 32.4%"
         ],
         "textfont": {
          "color": [
           "white"
          ],
          "size": 12
         },
         "textposition": [
          "inside"
         ],
         "type": "bar",
         "x": {
          "bdata": "rCzOaPcwQEA=",
          "dtype": "f8"
         },
         "xaxis": "x3",
         "y": [
          "Qwen2.5 Base"
         ],
         "yaxis": "y3"
        },
        {
         "cliponaxis": false,
         "insidetextanchor": "middle",
         "marker": {
          "color": "rgb(50, 205, 50)"
         },
         "name": "Instruct",
         "orientation": "h",
         "text": [
          "<b>Qwen2.5 Instruct</b>: 33.3%"
         ],
         "textfont": {
          "color": [
           "white"
          ],
          "size": 12
         },
         "textposition": [
          "inside"
         ],
         "type": "bar",
         "x": {
          "bdata": "QfLnVRanQEA=",
          "dtype": "f8"
         },
         "xaxis": "x3",
         "y": [
          "Qwen2.5 Instruct"
         ],
         "yaxis": "y3"
        },
        {
         "cliponaxis": false,
         "insidetextanchor": "middle",
         "marker": {
          "color": "rgb(255, 165, 0)"
         },
         "name": "Specialist",
         "orientation": "h",
         "text": [
          "<b>Qwen2.5 Coder</b>: 31.5%"
         ],
         "textfont": {
          "color": [
           "white"
          ],
          "size": 12
         },
         "textposition": [
          "inside"
         ],
         "type": "bar",
         "x": {
          "bdata": "pSD58yqLP0A=",
          "dtype": "f8"
         },
         "xaxis": "x3",
         "y": [
          "Qwen2.5 Coder"
         ],
         "yaxis": "y3"
        },
        {
         "cliponaxis": false,
         "insidetextanchor": "middle",
         "marker": {
          "color": "rgb(192, 192, 192)"
         },
         "name": "Merged",
         "orientation": "h",
         "text": [
          "<b>Task Arithmetic</b>: 21.0%",
          "<b>DARE Ties</b>: 23.7%",
          "<b>Ties</b>: 26.5%",
          "<b>Slerp</b>: 33.1%",
          "<b>Linear</b>: 24.6%"
         ],
         "textfont": {
          "color": [
           "white",
           "white",
           "white",
           "white",
           "white"
          ],
          "size": 12
         },
         "textposition": [
          "inside",
          "inside",
          "inside",
          "inside",
          "inside"
         ],
         "type": "bar",
         "x": {
          "bdata": "c4nwpCD5NED0Kosz2r03QHXMJcKTgjpAjXYPW9+GQECmYy4RnpQ4QA==",
          "dtype": "f8"
         },
         "xaxis": "x3",
         "y": [
          "Task Arithmetic",
          "DARE Ties",
          "Ties",
          "Slerp",
          "Linear"
         ],
         "yaxis": "y3"
        },
        {
         "cliponaxis": false,
         "insidetextanchor": "middle",
         "marker": {
          "color": "rgb(100, 149, 237)"
         },
         "name": "Base",
         "orientation": "h",
         "text": [
          "<b>Qwen2.5 Base</b>: 32.4%"
         ],
         "textfont": {
          "color": [
           "white"
          ],
          "size": 22
         },
         "textposition": [
          "inside"
         ],
         "type": "bar",
         "x": {
          "bdata": "rCzOaPcwQEA=",
          "dtype": "f8"
         },
         "xaxis": "x4",
         "y": [
          "Qwen2.5 Base"
         ],
         "yaxis": "y4"
        },
        {
         "cliponaxis": false,
         "insidetextanchor": "middle",
         "marker": {
          "color": "rgb(50, 205, 50)"
         },
         "name": "Instruct",
         "orientation": "h",
         "text": [
          "<b>Qwen2.5 Instruct</b>: 33.3%"
         ],
         "textfont": {
          "color": [
           "white"
          ],
          "size": 22
         },
         "textposition": [
          "inside"
         ],
         "type": "bar",
         "x": {
          "bdata": "QfLnVRanQEA=",
          "dtype": "f8"
         },
         "xaxis": "x4",
         "y": [
          "Qwen2.5 Instruct"
         ],
         "yaxis": "y4"
        },
        {
         "cliponaxis": false,
         "insidetextanchor": "middle",
         "marker": {
          "color": "rgb(255, 165, 0)"
         },
         "name": "Specialist",
         "orientation": "h",
         "text": [
          "<b>Qwen2.5 Math</b>: 31.0%"
         ],
         "textfont": {
          "color": [
           "white"
          ],
          "size": 22
         },
         "textposition": [
          "inside"
         ],
         "type": "bar",
         "x": {
          "bdata": "W98GDNX0PkA=",
          "dtype": "f8"
         },
         "xaxis": "x4",
         "y": [
          "Qwen2.5 Math"
         ],
         "yaxis": "y4"
        },
        {
         "cliponaxis": false,
         "insidetextanchor": "middle",
         "marker": {
          "color": "rgb(192, 192, 192)"
         },
         "name": "Merged",
         "orientation": "h",
         "text": [
          "<b>Task Arithmetic</b>: 28.9%",
          "<b>DARE Ties</b>: 25.5%",
          "<b>Slerp</b>: 30.8%",
          "<b>Linear</b>: 28.0%"
         ],
         "textfont": {
          "color": [
           "white",
           "white",
           "white",
           "white"
          ],
          "size": 22
         },
         "textposition": [
          "inside",
          "inside",
          "inside",
          "inside"
         ],
         "type": "bar",
         "x": {
          "bdata": "FCR/XmXxPEDS7mHr24A5QGo65hLhyT5A6phLhCcFPEA=",
          "dtype": "f8"
         },
         "xaxis": "x4",
         "y": [
          "Task Arithmetic",
          "DARE Ties",
          "Slerp",
          "Linear"
         ],
         "yaxis": "y4"
        },
        {
         "cliponaxis": false,
         "insidetextanchor": "middle",
         "marker": {
          "color": "rgb(100, 149, 237)"
         },
         "name": "Base",
         "orientation": "h",
         "text": [
          "<b>Qwen2.5 Base</b>: 20.3%"
         ],
         "textfont": {
          "color": [
           "white"
          ],
          "size": 12
         },
         "textposition": [
          "inside"
         ],
         "type": "bar",
         "x": {
          "bdata": "1kSVXTVRNEA=",
          "dtype": "f8"
         },
         "xaxis": "x5",
         "y": [
          "Qwen2.5 Base"
         ],
         "yaxis": "y5"
        },
        {
         "cliponaxis": false,
         "insidetextanchor": "middle",
         "marker": {
          "color": "rgb(50, 205, 50)"
         },
         "name": "Instruct",
         "orientation": "h",
         "text": [
          "<b>Qwen2.5 Instruct</b>: 42.2%"
         ],
         "textfont": {
          "color": [
           "white"
          ],
          "size": 12
         },
         "textposition": [
          "inside"
         ],
         "type": "bar",
         "x": {
          "bdata": "63CKxzocRUA=",
          "dtype": "f8"
         },
         "xaxis": "x5",
         "y": [
          "Qwen2.5 Instruct"
         ],
         "yaxis": "y5"
        },
        {
         "cliponaxis": false,
         "insidetextanchor": "middle",
         "marker": {
          "color": "rgb(255, 165, 0)"
         },
         "name": "Specialist",
         "orientation": "h",
         "text": [
          "<b>Qwen2.5 Coder</b>: 16.7%"
         ],
         "textfont": {
          "color": [
           "white"
          ],
          "size": 12
         },
         "textposition": [
          "inside"
         ],
         "type": "bar",
         "x": {
          "bdata": "csTGnRyxMEA=",
          "dtype": "f8"
         },
         "xaxis": "x5",
         "y": [
          "Qwen2.5 Coder"
         ],
         "yaxis": "y5"
        },
        {
         "cliponaxis": false,
         "insidetextanchor": "middle",
         "marker": {
          "color": "rgb(192, 192, 192)"
         },
         "name": "Merged",
         "orientation": "h",
         "text": [
          "<b>Task Arithmetic</b>: 1.4%",
          "<b>DARE Ties</b>: 0.0%",
          "<b>Ties</b>: 1.1%",
          "<b>Slerp</b>: 14.5%",
          "<b>Linear</b>: 1.1%"
         ],
         "textfont": {
          "color": [
           "black",
           "black",
           "black",
           "black",
           "black"
          ],
          "size": 12
         },
         "textposition": [
          "outside",
          "outside",
          "outside",
          "outside",
          "outside"
         ],
         "type": "bar",
         "x": {
          "bdata": "UgLXfpTA9T8AAAAAAAAAAO+BCL97IPI/GQN0/sUALUB5rMMpHuvwPw==",
          "dtype": "f8"
         },
         "xaxis": "x5",
         "y": [
          "Task Arithmetic",
          "DARE Ties",
          "Ties",
          "Slerp",
          "Linear"
         ],
         "yaxis": "y5"
        },
        {
         "cliponaxis": false,
         "insidetextanchor": "middle",
         "marker": {
          "color": "rgb(100, 149, 237)"
         },
         "name": "Base",
         "orientation": "h",
         "text": [
          "<b>Qwen2.5 Base</b>: 20.3%"
         ],
         "textfont": {
          "color": [
           "white"
          ],
          "size": 22
         },
         "textposition": [
          "inside"
         ],
         "type": "bar",
         "x": {
          "bdata": "1kSVXTVRNEA=",
          "dtype": "f8"
         },
         "xaxis": "x6",
         "y": [
          "Qwen2.5 Base"
         ],
         "yaxis": "y6"
        },
        {
         "cliponaxis": false,
         "insidetextanchor": "middle",
         "marker": {
          "color": "rgb(50, 205, 50)"
         },
         "name": "Instruct",
         "orientation": "h",
         "text": [
          "<b>Qwen2.5 Instruct</b>: 42.2%"
         ],
         "textfont": {
          "color": [
           "white"
          ],
          "size": 22
         },
         "textposition": [
          "inside"
         ],
         "type": "bar",
         "x": {
          "bdata": "63CKxzocRUA=",
          "dtype": "f8"
         },
         "xaxis": "x6",
         "y": [
          "Qwen2.5 Instruct"
         ],
         "yaxis": "y6"
        },
        {
         "cliponaxis": false,
         "insidetextanchor": "middle",
         "marker": {
          "color": "rgb(255, 165, 0)"
         },
         "name": "Specialist",
         "orientation": "h",
         "text": [
          "<b>Qwen2.5 Math</b>: 27.7%"
         ],
         "textfont": {
          "color": [
           "white"
          ],
          "size": 22
         },
         "textposition": [
          "inside"
         ],
         "type": "bar",
         "x": {
          "bdata": "SuDajxK4O0A=",
          "dtype": "f8"
         },
         "xaxis": "x6",
         "y": [
          "Qwen2.5 Math"
         ],
         "yaxis": "y6"
        },
        {
         "cliponaxis": false,
         "insidetextanchor": "middle",
         "marker": {
          "color": "rgb(192, 192, 192)"
         },
         "name": "Merged",
         "orientation": "h",
         "text": [
          "<b>Task Arithmetic</b>: 8.5%",
          "<b>DARE Ties</b>: 1.2%",
          "<b>Slerp</b>: 18.2%",
          "<b>Linear</b>: 11.7%"
         ],
         "textfont": {
          "color": [
           "black",
           "black",
           "white",
           "black"
          ],
          "size": 22
         },
         "textposition": [
          "outside",
          "outside",
          "inside",
          "outside"
         ],
         "type": "bar",
         "x": {
          "bdata": "eazDKR7rIEBlV01U2VXzP0fPXJjRMzJA1KcVLPVpJ0A=",
          "dtype": "f8"
         },
         "xaxis": "x6",
         "y": [
          "Task Arithmetic",
          "DARE Ties",
          "Slerp",
          "Linear"
         ],
         "yaxis": "y6"
        },
        {
         "cliponaxis": false,
         "insidetextanchor": "middle",
         "marker": {
          "color": "rgb(100, 149, 237)"
         },
         "name": "Base",
         "orientation": "h",
         "text": [
          "<b>Qwen2.5 Base</b>: 41.3%"
         ],
         "textfont": {
          "color": [
           "white"
          ],
          "size": 12
         },
         "textposition": [
          "inside"
         ],
         "type": "bar",
         "x": {
          "bdata": "bdR3NuqhREA=",
          "dtype": "f8"
         },
         "xaxis": "x7",
         "y": [
          "Qwen2.5 Base"
         ],
         "yaxis": "y7"
        },
        {
         "cliponaxis": false,
         "insidetextanchor": "middle",
         "marker": {
          "color": "rgb(50, 205, 50)"
         },
         "name": "Instruct",
         "orientation": "h",
         "text": [
          "<b>Qwen2.5 Instruct</b>: 42.0%"
         ],
         "textfont": {
          "color": [
           "white"
          ],
          "size": 12
         },
         "textposition": [
          "inside"
         ],
         "type": "bar",
         "x": {
          "bdata": "bdR3NuoFRUA=",
          "dtype": "f8"
         },
         "xaxis": "x7",
         "y": [
          "Qwen2.5 Instruct"
         ],
         "yaxis": "y7"
        },
        {
         "cliponaxis": false,
         "insidetextanchor": "middle",
         "marker": {
          "color": "rgb(255, 165, 0)"
         },
         "name": "Specialist",
         "orientation": "h",
         "text": [
          "<b>Qwen2.5 Coder</b>: 37.7%"
         ],
         "textfont": {
          "color": [
           "white"
          ],
          "size": 12
         },
         "textposition": [
          "inside"
         ],
         "type": "bar",
         "x": {
          "bdata": "TK4gJlfWQkA=",
          "dtype": "f8"
         },
         "xaxis": "x7",
         "y": [
          "Qwen2.5 Coder"
         ],
         "yaxis": "y7"
        },
        {
         "cliponaxis": false,
         "insidetextanchor": "middle",
         "marker": {
          "color": "rgb(192, 192, 192)"
         },
         "name": "Merged",
         "orientation": "h",
         "text": [
          "<b>Task Arithmetic</b>: 15.9%",
          "<b>DARE Ties</b>: 11.5%",
          "<b>Ties</b>: 11.1%",
          "<b>Slerp</b>: 39.9%",
          "<b>Linear</b>: 11.9%"
         ],
         "textfont": {
          "color": [
           "white",
           "black",
           "black",
           "white",
           "black"
          ],
          "size": 12
         },
         "textposition": [
          "inside",
          "outside",
          "outside",
          "inside",
          "outside"
         ],
         "type": "bar",
         "x": {
          "bdata": "xeQKYnLdL0BMriAmV/AmQHg26jsbNSZAFsTkCmLyQ0AxuYKYXMknQA==",
          "dtype": "f8"
         },
         "xaxis": "x7",
         "y": [
          "Task Arithmetic",
          "DARE Ties",
          "Ties",
          "Slerp",
          "Linear"
         ],
         "yaxis": "y7"
        },
        {
         "cliponaxis": false,
         "insidetextanchor": "middle",
         "marker": {
          "color": "rgb(100, 149, 237)"
         },
         "name": "Base",
         "orientation": "h",
         "text": [
          "<b>Qwen2.5 Base</b>: 41.3%"
         ],
         "textfont": {
          "color": [
           "white"
          ],
          "size": 22
         },
         "textposition": [
          "inside"
         ],
         "type": "bar",
         "x": {
          "bdata": "bdR3NuqhREA=",
          "dtype": "f8"
         },
         "xaxis": "x8",
         "y": [
          "Qwen2.5 Base"
         ],
         "yaxis": "y8"
        },
        {
         "cliponaxis": false,
         "insidetextanchor": "middle",
         "marker": {
          "color": "rgb(50, 205, 50)"
         },
         "name": "Instruct",
         "orientation": "h",
         "text": [
          "<b>Qwen2.5 Instruct</b>: 42.0%"
         ],
         "textfont": {
          "color": [
           "white"
          ],
          "size": 22
         },
         "textposition": [
          "inside"
         ],
         "type": "bar",
         "x": {
          "bdata": "bdR3NuoFRUA=",
          "dtype": "f8"
         },
         "xaxis": "x8",
         "y": [
          "Qwen2.5 Instruct"
         ],
         "yaxis": "y8"
        },
        {
         "cliponaxis": false,
         "insidetextanchor": "middle",
         "marker": {
          "color": "rgb(255, 165, 0)"
         },
         "name": "Specialist",
         "orientation": "h",
         "text": [
          "<b>Qwen2.5 Math</b>: 29.7%"
         ],
         "textfont": {
          "color": [
           "white"
          ],
          "size": 22
         },
         "textposition": [
          "inside"
         ],
         "type": "bar",
         "x": {
          "bdata": "cgUxuYK4PUA=",
          "dtype": "f8"
         },
         "xaxis": "x8",
         "y": [
          "Qwen2.5 Math"
         ],
         "yaxis": "y8"
        },
        {
         "cliponaxis": false,
         "insidetextanchor": "middle",
         "marker": {
          "color": "rgb(192, 192, 192)"
         },
         "name": "Merged",
         "orientation": "h",
         "text": [
          "<b>Task Arithmetic</b>: 33.2%",
          "<b>DARE Ties</b>: 16.6%",
          "<b>Slerp</b>: 40.1%",
          "<b>Linear</b>: 32.8%"
         ],
         "textfont": {
          "color": [
           "white",
           "white",
           "white",
           "white"
          ],
          "size": 22
         },
         "textposition": [
          "inside",
          "inside",
          "inside",
          "inside"
         ],
         "type": "bar",
         "x": {
          "bdata": "XUFMriCcQEDf2ajvbJAwQGJyBTG5CERAmVxBTK5iQEA=",
          "dtype": "f8"
         },
         "xaxis": "x8",
         "y": [
          "Task Arithmetic",
          "DARE Ties",
          "Slerp",
          "Linear"
         ],
         "yaxis": "y8"
        },
        {
         "cliponaxis": false,
         "insidetextanchor": "middle",
         "marker": {
          "color": "rgb(100, 149, 237)"
         },
         "name": "Base",
         "orientation": "h",
         "text": [
          "<b>Qwen2.5 Base</b>: 46.8%"
         ],
         "textfont": {
          "color": [
           "white"
          ],
          "size": 12
         },
         "textposition": [
          "inside"
         ],
         "type": "bar",
         "x": {
          "bdata": "mqZpmqZpR0A=",
          "dtype": "f8"
         },
         "xaxis": "x9",
         "y": [
          "Qwen2.5 Base"
         ],
         "yaxis": "y9"
        },
        {
         "cliponaxis": false,
         "insidetextanchor": "middle",
         "marker": {
          "color": "rgb(50, 205, 50)"
         },
         "name": "Instruct",
         "orientation": "h",
         "text": [
          "<b>Qwen2.5 Instruct</b>: 42.5%"
         ],
         "textfont": {
          "color": [
           "white"
          ],
          "size": 12
         },
         "textposition": [
          "inside"
         ],
         "type": "bar",
         "x": {
          "bdata": "r+u6rus6RUA=",
          "dtype": "f8"
         },
         "xaxis": "x9",
         "y": [
          "Qwen2.5 Instruct"
         ],
         "yaxis": "y9"
        },
        {
         "cliponaxis": false,
         "insidetextanchor": "middle",
         "marker": {
          "color": "rgb(255, 165, 0)"
         },
         "name": "Specialist",
         "orientation": "h",
         "text": [
          "<b>Qwen2.5 Coder</b>: 41.3%"
         ],
         "textfont": {
          "color": [
           "white"
          ],
          "size": 12
         },
         "textposition": [
          "inside"
         ],
         "type": "bar",
         "x": {
          "bdata": "KIqiKIqiREA=",
          "dtype": "f8"
         },
         "xaxis": "x9",
         "y": [
          "Qwen2.5 Coder"
         ],
         "yaxis": "y9"
        },
        {
         "cliponaxis": false,
         "insidetextanchor": "middle",
         "marker": {
          "color": "rgb(192, 192, 192)"
         },
         "name": "Merged",
         "orientation": "h",
         "text": [
          "<b>Task Arithmetic</b>: 42.1%",
          "<b>DARE Ties</b>: 37.0%",
          "<b>Ties</b>: 38.6%",
          "<b>Slerp</b>: 40.2%",
          "<b>Linear</b>: 36.1%"
         ],
         "textfont": {
          "color": [
           "white",
           "white",
           "white",
           "white",
           "white"
          ],
          "size": 12
         },
         "textposition": [
          "inside",
          "inside",
          "inside",
          "inside",
          "inside"
         ],
         "type": "bar",
         "x": {
          "bdata": "giAIgiAIRUBMaC+hvYRCQP6U+lPqT0NAscHFBhcbREDjOI7jOA5CQA==",
          "dtype": "f8"
         },
         "xaxis": "x9",
         "y": [
          "Task Arithmetic",
          "DARE Ties",
          "Ties",
          "Slerp",
          "Linear"
         ],
         "yaxis": "y9"
        },
        {
         "cliponaxis": false,
         "insidetextanchor": "middle",
         "marker": {
          "color": "rgb(100, 149, 237)"
         },
         "name": "Base",
         "orientation": "h",
         "text": [
          "<b>Qwen2.5 Base</b>: 46.8%"
         ],
         "textfont": {
          "color": [
           "white"
          ],
          "size": 22
         },
         "textposition": [
          "inside"
         ],
         "type": "bar",
         "x": {
          "bdata": "mqZpmqZpR0A=",
          "dtype": "f8"
         },
         "xaxis": "x10",
         "y": [
          "Qwen2.5 Base"
         ],
         "yaxis": "y10"
        },
        {
         "cliponaxis": false,
         "insidetextanchor": "middle",
         "marker": {
          "color": "rgb(50, 205, 50)"
         },
         "name": "Instruct",
         "orientation": "h",
         "text": [
          "<b>Qwen2.5 Instruct</b>: 42.5%"
         ],
         "textfont": {
          "color": [
           "white"
          ],
          "size": 22
         },
         "textposition": [
          "inside"
         ],
         "type": "bar",
         "x": {
          "bdata": "r+u6rus6RUA=",
          "dtype": "f8"
         },
         "xaxis": "x10",
         "y": [
          "Qwen2.5 Instruct"
         ],
         "yaxis": "y10"
        },
        {
         "cliponaxis": false,
         "insidetextanchor": "middle",
         "marker": {
          "color": "rgb(255, 165, 0)"
         },
         "name": "Specialist",
         "orientation": "h",
         "text": [
          "<b>Qwen2.5 Math</b>: 43.0%"
         ],
         "textfont": {
          "color": [
           "white"
          ],
          "size": 22
         },
         "textposition": [
          "inside"
         ],
         "type": "bar",
         "x": {
          "bdata": "6k+pP6V+RUA=",
          "dtype": "f8"
         },
         "xaxis": "x10",
         "y": [
          "Qwen2.5 Math"
         ],
         "yaxis": "y10"
        },
        {
         "cliponaxis": false,
         "insidetextanchor": "middle",
         "marker": {
          "color": "rgb(192, 192, 192)"
         },
         "name": "Merged",
         "orientation": "h",
         "text": [
          "<b>Task Arithmetic</b>: 43.0%",
          "<b>DARE Ties</b>: 38.4%",
          "<b>Slerp</b>: 47.5%",
          "<b>Linear</b>: 44.2%"
         ],
         "textfont": {
          "color": [
           "white",
           "white",
           "white",
           "white"
          ],
          "size": 22
         },
         "textposition": [
          "inside",
          "inside",
          "inside",
          "inside"
         ],
         "type": "bar",
         "x": {
          "bdata": "6k+pP6V+RUDhYoOLDS5DQOWjk49OvkdAcLHBxQYXRkA=",
          "dtype": "f8"
         },
         "xaxis": "x10",
         "y": [
          "Task Arithmetic",
          "DARE Ties",
          "Slerp",
          "Linear"
         ],
         "yaxis": "y10"
        }
       ],
       "layout": {
        "annotations": [
         {
          "font": {
           "size": 16
          },
          "showarrow": false,
          "text": "bbh",
          "x": 0.2425,
          "xanchor": "center",
          "xref": "paper",
          "y": 1,
          "yanchor": "bottom",
          "yref": "paper"
         },
         {
          "font": {
           "size": 16
          },
          "showarrow": false,
          "text": "bbh",
          "x": 0.7575000000000001,
          "xanchor": "center",
          "xref": "paper",
          "y": 1,
          "yanchor": "bottom",
          "yref": "paper"
         },
         {
          "font": {
           "size": 16
          },
          "showarrow": false,
          "text": "gpqa",
          "x": 0.2425,
          "xanchor": "center",
          "xref": "paper",
          "y": 0.79,
          "yanchor": "bottom",
          "yref": "paper"
         },
         {
          "font": {
           "size": 16
          },
          "showarrow": false,
          "text": "gpqa",
          "x": 0.7575000000000001,
          "xanchor": "center",
          "xref": "paper",
          "y": 0.79,
          "yanchor": "bottom",
          "yref": "paper"
         },
         {
          "font": {
           "size": 16
          },
          "showarrow": false,
          "text": "math_hard",
          "x": 0.2425,
          "xanchor": "center",
          "xref": "paper",
          "y": 0.5800000000000001,
          "yanchor": "bottom",
          "yref": "paper"
         },
         {
          "font": {
           "size": 16
          },
          "showarrow": false,
          "text": "math_hard",
          "x": 0.7575000000000001,
          "xanchor": "center",
          "xref": "paper",
          "y": 0.5800000000000001,
          "yanchor": "bottom",
          "yref": "paper"
         },
         {
          "font": {
           "size": 16
          },
          "showarrow": false,
          "text": "mmlu_pro",
          "x": 0.2425,
          "xanchor": "center",
          "xref": "paper",
          "y": 0.37,
          "yanchor": "bottom",
          "yref": "paper"
         },
         {
          "font": {
           "size": 16
          },
          "showarrow": false,
          "text": "mmlu_pro",
          "x": 0.7575000000000001,
          "xanchor": "center",
          "xref": "paper",
          "y": 0.37,
          "yanchor": "bottom",
          "yref": "paper"
         },
         {
          "font": {
           "size": 16
          },
          "showarrow": false,
          "text": "musr",
          "x": 0.2425,
          "xanchor": "center",
          "xref": "paper",
          "y": 0.16,
          "yanchor": "bottom",
          "yref": "paper"
         },
         {
          "font": {
           "size": 16
          },
          "showarrow": false,
          "text": "musr",
          "x": 0.7575000000000001,
          "xanchor": "center",
          "xref": "paper",
          "y": 0.16,
          "yanchor": "bottom",
          "yref": "paper"
         },
         {
          "font": {
           "size": 20
          },
          "showarrow": false,
          "text": "<b>Coder Experiment</b>",
          "x": 0.18,
          "xref": "paper",
          "y": 1.02,
          "yanchor": "bottom",
          "yref": "paper"
         },
         {
          "font": {
           "size": 20
          },
          "showarrow": false,
          "text": "<b>Math Experiment</b>",
          "x": 0.8,
          "xref": "paper",
          "y": 1.02,
          "yanchor": "bottom",
          "yref": "paper"
         }
        ],
        "barmode": "stack",
        "font": {
         "size": 18
        },
        "height": 1000,
        "legend": {
         "font": {
          "size": 22
         },
         "title": {
          "font": {
           "size": 24
          }
         }
        },
        "margin": {
         "b": 50,
         "l": 10,
         "r": 10,
         "t": 100
        },
        "shapes": [
         {
          "fillcolor": "rgba(255, 128, 128, 0.2)",
          "layer": "below",
          "line": {
           "width": 0
          },
          "type": "rect",
          "x0": 50.00867904877625,
          "x1": 54.24405485158827,
          "xref": "x",
          "y0": -0.5,
          "y1": 7.5,
          "yref": "y"
         },
         {
          "layer": "above",
          "line": {
           "color": "rgb(50, 205, 50)",
           "dash": "dash",
           "width": 2
          },
          "type": "line",
          "x0": 54.24405485158827,
          "x1": 54.24405485158827,
          "xref": "x",
          "y0": -0.5,
          "y1": 7.5,
          "yref": "y"
         },
         {
          "layer": "above",
          "line": {
           "color": "rgb(255, 165, 0)",
           "dash": "dash",
           "width": 2
          },
          "type": "line",
          "x0": 50.00867904877625,
          "x1": 50.00867904877625,
          "xref": "x",
          "y0": -0.5,
          "y1": 7.5,
          "yref": "y"
         },
         {
          "fillcolor": "rgba(255, 128, 128, 0.2)",
          "layer": "below",
          "line": {
           "width": 0
          },
          "type": "rect",
          "x0": 46.207255684776946,
          "x1": 54.24405485158827,
          "xref": "x2",
          "y0": -0.5,
          "y1": 6.5,
          "yref": "y2"
         },
         {
          "layer": "above",
          "line": {
           "color": "rgb(50, 205, 50)",
           "dash": "dash",
           "width": 2
          },
          "type": "line",
          "x0": 54.24405485158827,
          "x1": 54.24405485158827,
          "xref": "x2",
          "y0": -0.5,
          "y1": 6.5,
          "yref": "y2"
         },
         {
          "layer": "above",
          "line": {
           "color": "rgb(255, 165, 0)",
           "dash": "dash",
           "width": 2
          },
          "type": "line",
          "x0": 46.207255684776946,
          "x1": 46.207255684776946,
          "xref": "x2",
          "y0": -0.5,
          "y1": 6.5,
          "yref": "y2"
         },
         {
          "fillcolor": "rgba(255, 128, 128, 0.2)",
          "layer": "below",
          "line": {
           "width": 0
          },
          "type": "rect",
          "x0": 31.543624161073826,
          "x1": 33.30536912751678,
          "xref": "x3",
          "y0": -0.5,
          "y1": 7.5,
          "yref": "y3"
         },
         {
          "layer": "above",
          "line": {
           "color": "rgb(50, 205, 50)",
           "dash": "dash",
           "width": 2
          },
          "type": "line",
          "x0": 33.30536912751678,
          "x1": 33.30536912751678,
          "xref": "x3",
          "y0": -0.5,
          "y1": 7.5,
          "yref": "y3"
         },
         {
          "layer": "above",
          "line": {
           "color": "rgb(255, 165, 0)",
           "dash": "dash",
           "width": 2
          },
          "type": "line",
          "x0": 31.543624161073826,
          "x1": 31.543624161073826,
          "xref": "x3",
          "y0": -0.5,
          "y1": 7.5,
          "yref": "y3"
         },
         {
          "fillcolor": "rgba(255, 128, 128, 0.2)",
          "layer": "below",
          "line": {
           "width": 0
          },
          "type": "rect",
          "x0": 30.956375838926174,
          "x1": 33.30536912751678,
          "xref": "x4",
          "y0": -0.5,
          "y1": 6.5,
          "yref": "y4"
         },
         {
          "layer": "above",
          "line": {
           "color": "rgb(50, 205, 50)",
           "dash": "dash",
           "width": 2
          },
          "type": "line",
          "x0": 33.30536912751678,
          "x1": 33.30536912751678,
          "xref": "x4",
          "y0": -0.5,
          "y1": 6.5,
          "yref": "y4"
         },
         {
          "layer": "above",
          "line": {
           "color": "rgb(255, 165, 0)",
           "dash": "dash",
           "width": 2
          },
          "type": "line",
          "x0": 30.956375838926174,
          "x1": 30.956375838926174,
          "xref": "x4",
          "y0": -0.5,
          "y1": 6.5,
          "yref": "y4"
         },
         {
          "fillcolor": "rgba(255, 128, 128, 0.2)",
          "layer": "below",
          "line": {
           "width": 0
          },
          "type": "rect",
          "x0": 16.691842900302113,
          "x1": 42.220543806646525,
          "xref": "x5",
          "y0": -0.5,
          "y1": 7.5,
          "yref": "y5"
         },
         {
          "layer": "above",
          "line": {
           "color": "rgb(50, 205, 50)",
           "dash": "dash",
           "width": 2
          },
          "type": "line",
          "x0": 42.220543806646525,
          "x1": 42.220543806646525,
          "xref": "x5",
          "y0": -0.5,
          "y1": 7.5,
          "yref": "y5"
         },
         {
          "layer": "above",
          "line": {
           "color": "rgb(255, 165, 0)",
           "dash": "dash",
           "width": 2
          },
          "type": "line",
          "x0": 16.691842900302113,
          "x1": 16.691842900302113,
          "xref": "x5",
          "y0": -0.5,
          "y1": 7.5,
          "yref": "y5"
         },
         {
          "fillcolor": "rgba(255, 128, 128, 0.2)",
          "layer": "below",
          "line": {
           "width": 0
          },
          "type": "rect",
          "x0": 27.719033232628398,
          "x1": 42.220543806646525,
          "xref": "x6",
          "y0": -0.5,
          "y1": 6.5,
          "yref": "y6"
         },
         {
          "layer": "above",
          "line": {
           "color": "rgb(50, 205, 50)",
           "dash": "dash",
           "width": 2
          },
          "type": "line",
          "x0": 42.220543806646525,
          "x1": 42.220543806646525,
          "xref": "x6",
          "y0": -0.5,
          "y1": 6.5,
          "yref": "y6"
         },
         {
          "layer": "above",
          "line": {
           "color": "rgb(255, 165, 0)",
           "dash": "dash",
           "width": 2
          },
          "type": "line",
          "x0": 27.719033232628398,
          "x1": 27.719033232628398,
          "xref": "x6",
          "y0": -0.5,
          "y1": 6.5,
          "yref": "y6"
         },
         {
          "fillcolor": "rgba(255, 128, 128, 0.2)",
          "layer": "below",
          "line": {
           "width": 0
          },
          "type": "rect",
          "x0": 37.67453457446808,
          "x1": 42.04621010638298,
          "xref": "x7",
          "y0": -0.5,
          "y1": 7.5,
          "yref": "y7"
         },
         {
          "layer": "above",
          "line": {
           "color": "rgb(50, 205, 50)",
           "dash": "dash",
           "width": 2
          },
          "type": "line",
          "x0": 42.04621010638298,
          "x1": 42.04621010638298,
          "xref": "x7",
          "y0": -0.5,
          "y1": 7.5,
          "yref": "y7"
         },
         {
          "layer": "above",
          "line": {
           "color": "rgb(255, 165, 0)",
           "dash": "dash",
           "width": 2
          },
          "type": "line",
          "x0": 37.67453457446808,
          "x1": 37.67453457446808,
          "xref": "x7",
          "y0": -0.5,
          "y1": 7.5,
          "yref": "y7"
         },
         {
          "fillcolor": "rgba(255, 128, 128, 0.2)",
          "layer": "below",
          "line": {
           "width": 0
          },
          "type": "rect",
          "x0": 29.720744680851062,
          "x1": 42.04621010638298,
          "xref": "x8",
          "y0": -0.5,
          "y1": 6.5,
          "yref": "y8"
         },
         {
          "layer": "above",
          "line": {
           "color": "rgb(50, 205, 50)",
           "dash": "dash",
           "width": 2
          },
          "type": "line",
          "x0": 42.04621010638298,
          "x1": 42.04621010638298,
          "xref": "x8",
          "y0": -0.5,
          "y1": 6.5,
          "yref": "y8"
         },
         {
          "layer": "above",
          "line": {
           "color": "rgb(255, 165, 0)",
           "dash": "dash",
           "width": 2
          },
          "type": "line",
          "x0": 29.720744680851062,
          "x1": 29.720744680851062,
          "xref": "x8",
          "y0": -0.5,
          "y1": 6.5,
          "yref": "y8"
         },
         {
          "fillcolor": "rgba(255, 128, 128, 0.2)",
          "layer": "below",
          "line": {
           "width": 0
          },
          "type": "rect",
          "x0": 41.269841269841265,
          "x1": 42.46031746031746,
          "xref": "x9",
          "y0": -0.5,
          "y1": 7.5,
          "yref": "y9"
         },
         {
          "layer": "above",
          "line": {
           "color": "rgb(50, 205, 50)",
           "dash": "dash",
           "width": 2
          },
          "type": "line",
          "x0": 42.46031746031746,
          "x1": 42.46031746031746,
          "xref": "x9",
          "y0": -0.5,
          "y1": 7.5,
          "yref": "y9"
         },
         {
          "layer": "above",
          "line": {
           "color": "rgb(255, 165, 0)",
           "dash": "dash",
           "width": 2
          },
          "type": "line",
          "x0": 41.269841269841265,
          "x1": 41.269841269841265,
          "xref": "x9",
          "y0": -0.5,
          "y1": 7.5,
          "yref": "y9"
         },
         {
          "fillcolor": "rgba(255, 128, 128, 0.2)",
          "layer": "below",
          "line": {
           "width": 0
          },
          "type": "rect",
          "x0": 42.46031746031746,
          "x1": 42.98941798941799,
          "xref": "x10",
          "y0": -0.5,
          "y1": 6.5,
          "yref": "y10"
         },
         {
          "layer": "above",
          "line": {
           "color": "rgb(50, 205, 50)",
           "dash": "dash",
           "width": 2
          },
          "type": "line",
          "x0": 42.46031746031746,
          "x1": 42.46031746031746,
          "xref": "x10",
          "y0": -0.5,
          "y1": 6.5,
          "yref": "y10"
         },
         {
          "layer": "above",
          "line": {
           "color": "rgb(255, 165, 0)",
           "dash": "dash",
           "width": 2
          },
          "type": "line",
          "x0": 42.98941798941799,
          "x1": 42.98941798941799,
          "xref": "x10",
          "y0": -0.5,
          "y1": 6.5,
          "yref": "y10"
         }
        ],
        "showlegend": false,
        "template": {
         "data": {
          "bar": [
           {
            "error_x": {
             "color": "#2a3f5f"
            },
            "error_y": {
             "color": "#2a3f5f"
            },
            "marker": {
             "line": {
              "color": "white",
              "width": 0.5
             },
             "pattern": {
              "fillmode": "overlay",
              "size": 10,
              "solidity": 0.2
             }
            },
            "type": "bar"
           }
          ],
          "barpolar": [
           {
            "marker": {
             "line": {
              "color": "white",
              "width": 0.5
             },
             "pattern": {
              "fillmode": "overlay",
              "size": 10,
              "solidity": 0.2
             }
            },
            "type": "barpolar"
           }
          ],
          "carpet": [
           {
            "aaxis": {
             "endlinecolor": "#2a3f5f",
             "gridcolor": "#C8D4E3",
             "linecolor": "#C8D4E3",
             "minorgridcolor": "#C8D4E3",
             "startlinecolor": "#2a3f5f"
            },
            "baxis": {
             "endlinecolor": "#2a3f5f",
             "gridcolor": "#C8D4E3",
             "linecolor": "#C8D4E3",
             "minorgridcolor": "#C8D4E3",
             "startlinecolor": "#2a3f5f"
            },
            "type": "carpet"
           }
          ],
          "choropleth": [
           {
            "colorbar": {
             "outlinewidth": 0,
             "ticks": ""
            },
            "type": "choropleth"
           }
          ],
          "contour": [
           {
            "colorbar": {
             "outlinewidth": 0,
             "ticks": ""
            },
            "colorscale": [
             [
              0,
              "#0d0887"
             ],
             [
              0.1111111111111111,
              "#46039f"
             ],
             [
              0.2222222222222222,
              "#7201a8"
             ],
             [
              0.3333333333333333,
              "#9c179e"
             ],
             [
              0.4444444444444444,
              "#bd3786"
             ],
             [
              0.5555555555555556,
              "#d8576b"
             ],
             [
              0.6666666666666666,
              "#ed7953"
             ],
             [
              0.7777777777777778,
              "#fb9f3a"
             ],
             [
              0.8888888888888888,
              "#fdca26"
             ],
             [
              1,
              "#f0f921"
             ]
            ],
            "type": "contour"
           }
          ],
          "contourcarpet": [
           {
            "colorbar": {
             "outlinewidth": 0,
             "ticks": ""
            },
            "type": "contourcarpet"
           }
          ],
          "heatmap": [
           {
            "colorbar": {
             "outlinewidth": 0,
             "ticks": ""
            },
            "colorscale": [
             [
              0,
              "#0d0887"
             ],
             [
              0.1111111111111111,
              "#46039f"
             ],
             [
              0.2222222222222222,
              "#7201a8"
             ],
             [
              0.3333333333333333,
              "#9c179e"
             ],
             [
              0.4444444444444444,
              "#bd3786"
             ],
             [
              0.5555555555555556,
              "#d8576b"
             ],
             [
              0.6666666666666666,
              "#ed7953"
             ],
             [
              0.7777777777777778,
              "#fb9f3a"
             ],
             [
              0.8888888888888888,
              "#fdca26"
             ],
             [
              1,
              "#f0f921"
             ]
            ],
            "type": "heatmap"
           }
          ],
          "histogram": [
           {
            "marker": {
             "pattern": {
              "fillmode": "overlay",
              "size": 10,
              "solidity": 0.2
             }
            },
            "type": "histogram"
           }
          ],
          "histogram2d": [
           {
            "colorbar": {
             "outlinewidth": 0,
             "ticks": ""
            },
            "colorscale": [
             [
              0,
              "#0d0887"
             ],
             [
              0.1111111111111111,
              "#46039f"
             ],
             [
              0.2222222222222222,
              "#7201a8"
             ],
             [
              0.3333333333333333,
              "#9c179e"
             ],
             [
              0.4444444444444444,
              "#bd3786"
             ],
             [
              0.5555555555555556,
              "#d8576b"
             ],
             [
              0.6666666666666666,
              "#ed7953"
             ],
             [
              0.7777777777777778,
              "#fb9f3a"
             ],
             [
              0.8888888888888888,
              "#fdca26"
             ],
             [
              1,
              "#f0f921"
             ]
            ],
            "type": "histogram2d"
           }
          ],
          "histogram2dcontour": [
           {
            "colorbar": {
             "outlinewidth": 0,
             "ticks": ""
            },
            "colorscale": [
             [
              0,
              "#0d0887"
             ],
             [
              0.1111111111111111,
              "#46039f"
             ],
             [
              0.2222222222222222,
              "#7201a8"
             ],
             [
              0.3333333333333333,
              "#9c179e"
             ],
             [
              0.4444444444444444,
              "#bd3786"
             ],
             [
              0.5555555555555556,
              "#d8576b"
             ],
             [
              0.6666666666666666,
              "#ed7953"
             ],
             [
              0.7777777777777778,
              "#fb9f3a"
             ],
             [
              0.8888888888888888,
              "#fdca26"
             ],
             [
              1,
              "#f0f921"
             ]
            ],
            "type": "histogram2dcontour"
           }
          ],
          "mesh3d": [
           {
            "colorbar": {
             "outlinewidth": 0,
             "ticks": ""
            },
            "type": "mesh3d"
           }
          ],
          "parcoords": [
           {
            "line": {
             "colorbar": {
              "outlinewidth": 0,
              "ticks": ""
             }
            },
            "type": "parcoords"
           }
          ],
          "pie": [
           {
            "automargin": true,
            "type": "pie"
           }
          ],
          "scatter": [
           {
            "fillpattern": {
             "fillmode": "overlay",
             "size": 10,
             "solidity": 0.2
            },
            "type": "scatter"
           }
          ],
          "scatter3d": [
           {
            "line": {
             "colorbar": {
              "outlinewidth": 0,
              "ticks": ""
             }
            },
            "marker": {
             "colorbar": {
              "outlinewidth": 0,
              "ticks": ""
             }
            },
            "type": "scatter3d"
           }
          ],
          "scattercarpet": [
           {
            "marker": {
             "colorbar": {
              "outlinewidth": 0,
              "ticks": ""
             }
            },
            "type": "scattercarpet"
           }
          ],
          "scattergeo": [
           {
            "marker": {
             "colorbar": {
              "outlinewidth": 0,
              "ticks": ""
             }
            },
            "type": "scattergeo"
           }
          ],
          "scattergl": [
           {
            "marker": {
             "colorbar": {
              "outlinewidth": 0,
              "ticks": ""
             }
            },
            "type": "scattergl"
           }
          ],
          "scattermap": [
           {
            "marker": {
             "colorbar": {
              "outlinewidth": 0,
              "ticks": ""
             }
            },
            "type": "scattermap"
           }
          ],
          "scattermapbox": [
           {
            "marker": {
             "colorbar": {
              "outlinewidth": 0,
              "ticks": ""
             }
            },
            "type": "scattermapbox"
           }
          ],
          "scatterpolar": [
           {
            "marker": {
             "colorbar": {
              "outlinewidth": 0,
              "ticks": ""
             }
            },
            "type": "scatterpolar"
           }
          ],
          "scatterpolargl": [
           {
            "marker": {
             "colorbar": {
              "outlinewidth": 0,
              "ticks": ""
             }
            },
            "type": "scatterpolargl"
           }
          ],
          "scatterternary": [
           {
            "marker": {
             "colorbar": {
              "outlinewidth": 0,
              "ticks": ""
             }
            },
            "type": "scatterternary"
           }
          ],
          "surface": [
           {
            "colorbar": {
             "outlinewidth": 0,
             "ticks": ""
            },
            "colorscale": [
             [
              0,
              "#0d0887"
             ],
             [
              0.1111111111111111,
              "#46039f"
             ],
             [
              0.2222222222222222,
              "#7201a8"
             ],
             [
              0.3333333333333333,
              "#9c179e"
             ],
             [
              0.4444444444444444,
              "#bd3786"
             ],
             [
              0.5555555555555556,
              "#d8576b"
             ],
             [
              0.6666666666666666,
              "#ed7953"
             ],
             [
              0.7777777777777778,
              "#fb9f3a"
             ],
             [
              0.8888888888888888,
              "#fdca26"
             ],
             [
              1,
              "#f0f921"
             ]
            ],
            "type": "surface"
           }
          ],
          "table": [
           {
            "cells": {
             "fill": {
              "color": "#EBF0F8"
             },
             "line": {
              "color": "white"
             }
            },
            "header": {
             "fill": {
              "color": "#C8D4E3"
             },
             "line": {
              "color": "white"
             }
            },
            "type": "table"
           }
          ]
         },
         "layout": {
          "annotationdefaults": {
           "arrowcolor": "#2a3f5f",
           "arrowhead": 0,
           "arrowwidth": 1
          },
          "autotypenumbers": "strict",
          "coloraxis": {
           "colorbar": {
            "outlinewidth": 0,
            "ticks": ""
           }
          },
          "colorscale": {
           "diverging": [
            [
             0,
             "#8e0152"
            ],
            [
             0.1,
             "#c51b7d"
            ],
            [
             0.2,
             "#de77ae"
            ],
            [
             0.3,
             "#f1b6da"
            ],
            [
             0.4,
             "#fde0ef"
            ],
            [
             0.5,
             "#f7f7f7"
            ],
            [
             0.6,
             "#e6f5d0"
            ],
            [
             0.7,
             "#b8e186"
            ],
            [
             0.8,
             "#7fbc41"
            ],
            [
             0.9,
             "#4d9221"
            ],
            [
             1,
             "#276419"
            ]
           ],
           "sequential": [
            [
             0,
             "#0d0887"
            ],
            [
             0.1111111111111111,
             "#46039f"
            ],
            [
             0.2222222222222222,
             "#7201a8"
            ],
            [
             0.3333333333333333,
             "#9c179e"
            ],
            [
             0.4444444444444444,
             "#bd3786"
            ],
            [
             0.5555555555555556,
             "#d8576b"
            ],
            [
             0.6666666666666666,
             "#ed7953"
            ],
            [
             0.7777777777777778,
             "#fb9f3a"
            ],
            [
             0.8888888888888888,
             "#fdca26"
            ],
            [
             1,
             "#f0f921"
            ]
           ],
           "sequentialminus": [
            [
             0,
             "#0d0887"
            ],
            [
             0.1111111111111111,
             "#46039f"
            ],
            [
             0.2222222222222222,
             "#7201a8"
            ],
            [
             0.3333333333333333,
             "#9c179e"
            ],
            [
             0.4444444444444444,
             "#bd3786"
            ],
            [
             0.5555555555555556,
             "#d8576b"
            ],
            [
             0.6666666666666666,
             "#ed7953"
            ],
            [
             0.7777777777777778,
             "#fb9f3a"
            ],
            [
             0.8888888888888888,
             "#fdca26"
            ],
            [
             1,
             "#f0f921"
            ]
           ]
          },
          "colorway": [
           "#636efa",
           "#EF553B",
           "#00cc96",
           "#ab63fa",
           "#FFA15A",
           "#19d3f3",
           "#FF6692",
           "#B6E880",
           "#FF97FF",
           "#FECB52"
          ],
          "font": {
           "color": "#2a3f5f"
          },
          "geo": {
           "bgcolor": "white",
           "lakecolor": "white",
           "landcolor": "white",
           "showlakes": true,
           "showland": true,
           "subunitcolor": "#C8D4E3"
          },
          "hoverlabel": {
           "align": "left"
          },
          "hovermode": "closest",
          "mapbox": {
           "style": "light"
          },
          "paper_bgcolor": "white",
          "plot_bgcolor": "white",
          "polar": {
           "angularaxis": {
            "gridcolor": "#EBF0F8",
            "linecolor": "#EBF0F8",
            "ticks": ""
           },
           "bgcolor": "white",
           "radialaxis": {
            "gridcolor": "#EBF0F8",
            "linecolor": "#EBF0F8",
            "ticks": ""
           }
          },
          "scene": {
           "xaxis": {
            "backgroundcolor": "white",
            "gridcolor": "#DFE8F3",
            "gridwidth": 2,
            "linecolor": "#EBF0F8",
            "showbackground": true,
            "ticks": "",
            "zerolinecolor": "#EBF0F8"
           },
           "yaxis": {
            "backgroundcolor": "white",
            "gridcolor": "#DFE8F3",
            "gridwidth": 2,
            "linecolor": "#EBF0F8",
            "showbackground": true,
            "ticks": "",
            "zerolinecolor": "#EBF0F8"
           },
           "zaxis": {
            "backgroundcolor": "white",
            "gridcolor": "#DFE8F3",
            "gridwidth": 2,
            "linecolor": "#EBF0F8",
            "showbackground": true,
            "ticks": "",
            "zerolinecolor": "#EBF0F8"
           }
          },
          "shapedefaults": {
           "line": {
            "color": "#2a3f5f"
           }
          },
          "ternary": {
           "aaxis": {
            "gridcolor": "#DFE8F3",
            "linecolor": "#A2B1C6",
            "ticks": ""
           },
           "baxis": {
            "gridcolor": "#DFE8F3",
            "linecolor": "#A2B1C6",
            "ticks": ""
           },
           "bgcolor": "white",
           "caxis": {
            "gridcolor": "#DFE8F3",
            "linecolor": "#A2B1C6",
            "ticks": ""
           }
          },
          "title": {
           "x": 0.05
          },
          "xaxis": {
           "automargin": true,
           "gridcolor": "#EBF0F8",
           "linecolor": "#EBF0F8",
           "ticks": "",
           "title": {
            "standoff": 15
           },
           "zerolinecolor": "#EBF0F8",
           "zerolinewidth": 2
          },
          "yaxis": {
           "automargin": true,
           "gridcolor": "#EBF0F8",
           "linecolor": "#EBF0F8",
           "ticks": "",
           "title": {
            "standoff": 15
           },
           "zerolinecolor": "#EBF0F8",
           "zerolinewidth": 2
          }
         }
        },
        "title": {
         "font": {
          "size": 24
         },
         "text": "Absolute Performance Comparison by Task: Coder vs. Math Experiments"
        },
        "width": 2000,
        "xaxis": {
         "anchor": "y",
         "domain": [
          0,
          0.485
         ],
         "range": [
          0,
          65.09286582190592
         ],
         "tickfont": {
          "size": 16
         },
         "title": {
          "font": {
           "size": 18
          }
         }
        },
        "xaxis10": {
         "anchor": "y10",
         "domain": [
          0.515,
          1
         ],
         "range": [
          0,
          56.98412698412698
         ]
        },
        "xaxis2": {
         "anchor": "y2",
         "domain": [
          0.515,
          1
         ],
         "range": [
          0,
          65.09286582190592
         ]
        },
        "xaxis3": {
         "anchor": "y3",
         "domain": [
          0,
          0.485
         ],
         "range": [
          0,
          39.96644295302013
         ]
        },
        "xaxis4": {
         "anchor": "y4",
         "domain": [
          0.515,
          1
         ],
         "range": [
          0,
          39.96644295302013
         ]
        },
        "xaxis5": {
         "anchor": "y5",
         "domain": [
          0,
          0.485
         ],
         "range": [
          0,
          50.66465256797583
         ]
        },
        "xaxis6": {
         "anchor": "y6",
         "domain": [
          0.515,
          1
         ],
         "range": [
          0,
          50.66465256797583
         ]
        },
        "xaxis7": {
         "anchor": "y7",
         "domain": [
          0,
          0.485
         ],
         "range": [
          0,
          50.455452127659576
         ]
        },
        "xaxis8": {
         "anchor": "y8",
         "domain": [
          0.515,
          1
         ],
         "range": [
          0,
          50.455452127659576
         ]
        },
        "xaxis9": {
         "anchor": "y9",
         "domain": [
          0,
          0.485
         ],
         "range": [
          0,
          56.19047619047618
         ]
        },
        "yaxis": {
         "anchor": "x",
         "categoryarray": [
          "Qwen2.5 Base",
          "Qwen2.5 Instruct",
          "Qwen2.5 Coder",
          "DARE Ties",
          "Linear",
          "Slerp",
          "Task Arithmetic",
          "Ties"
         ],
         "categoryorder": "array",
         "domain": [
          0.8400000000000001,
          1
         ],
         "showticklabels": false,
         "tickfont": {
          "size": 16
         },
         "title": {
          "font": {
           "size": 18
          }
         }
        },
        "yaxis10": {
         "anchor": "x10",
         "categoryarray": [
          "Qwen2.5 Base",
          "Qwen2.5 Instruct",
          "Qwen2.5 Math",
          "DARE Ties",
          "Linear",
          "Slerp",
          "Task Arithmetic"
         ],
         "categoryorder": "array",
         "domain": [
          0,
          0.16
         ],
         "showticklabels": false
        },
        "yaxis2": {
         "anchor": "x2",
         "categoryarray": [
          "Qwen2.5 Base",
          "Qwen2.5 Instruct",
          "Qwen2.5 Math",
          "DARE Ties",
          "Linear",
          "Slerp",
          "Task Arithmetic"
         ],
         "categoryorder": "array",
         "domain": [
          0.8400000000000001,
          1
         ],
         "showticklabels": false
        },
        "yaxis3": {
         "anchor": "x3",
         "categoryarray": [
          "Qwen2.5 Base",
          "Qwen2.5 Instruct",
          "Qwen2.5 Coder",
          "DARE Ties",
          "Linear",
          "Slerp",
          "Task Arithmetic",
          "Ties"
         ],
         "categoryorder": "array",
         "domain": [
          0.63,
          0.79
         ],
         "showticklabels": false
        },
        "yaxis4": {
         "anchor": "x4",
         "categoryarray": [
          "Qwen2.5 Base",
          "Qwen2.5 Instruct",
          "Qwen2.5 Math",
          "DARE Ties",
          "Linear",
          "Slerp",
          "Task Arithmetic"
         ],
         "categoryorder": "array",
         "domain": [
          0.63,
          0.79
         ],
         "showticklabels": false
        },
        "yaxis5": {
         "anchor": "x5",
         "categoryarray": [
          "Qwen2.5 Base",
          "Qwen2.5 Instruct",
          "Qwen2.5 Coder",
          "DARE Ties",
          "Linear",
          "Slerp",
          "Task Arithmetic",
          "Ties"
         ],
         "categoryorder": "array",
         "domain": [
          0.42000000000000004,
          0.5800000000000001
         ],
         "showticklabels": false
        },
        "yaxis6": {
         "anchor": "x6",
         "categoryarray": [
          "Qwen2.5 Base",
          "Qwen2.5 Instruct",
          "Qwen2.5 Math",
          "DARE Ties",
          "Linear",
          "Slerp",
          "Task Arithmetic"
         ],
         "categoryorder": "array",
         "domain": [
          0.42000000000000004,
          0.5800000000000001
         ],
         "showticklabels": false
        },
        "yaxis7": {
         "anchor": "x7",
         "categoryarray": [
          "Qwen2.5 Base",
          "Qwen2.5 Instruct",
          "Qwen2.5 Coder",
          "DARE Ties",
          "Linear",
          "Slerp",
          "Task Arithmetic",
          "Ties"
         ],
         "categoryorder": "array",
         "domain": [
          0.21000000000000002,
          0.37
         ],
         "showticklabels": false
        },
        "yaxis8": {
         "anchor": "x8",
         "categoryarray": [
          "Qwen2.5 Base",
          "Qwen2.5 Instruct",
          "Qwen2.5 Math",
          "DARE Ties",
          "Linear",
          "Slerp",
          "Task Arithmetic"
         ],
         "categoryorder": "array",
         "domain": [
          0.21000000000000002,
          0.37
         ],
         "showticklabels": false
        },
        "yaxis9": {
         "anchor": "x9",
         "categoryarray": [
          "Qwen2.5 Base",
          "Qwen2.5 Instruct",
          "Qwen2.5 Coder",
          "DARE Ties",
          "Linear",
          "Slerp",
          "Task Arithmetic",
          "Ties"
         ],
         "categoryorder": "array",
         "domain": [
          0,
          0.16
         ],
         "showticklabels": false
        }
       }
      }
     },
     "metadata": {},
     "output_type": "display_data"
    },
    {
     "name": "stdout",
     "output_type": "stream",
     "text": [
      "Generated combined plot: Absolute Performance Comparison by Task: Coder vs. Math Experiments\n",
      "\n",
      "--- Script Finished ---\n"
     ]
    }
   ],
   "source": [
    "# -*- coding: utf-8 -*-\n",
    "import os\n",
    "import json\n",
    "import numpy as np\n",
    "import pandas as pd\n",
    "from sklearn.metrics.pairwise import cosine_similarity, euclidean_distances, manhattan_distances\n",
    "from scipy.cluster.hierarchy import linkage, leaves_list\n",
    "from scipy.spatial.distance import pdist\n",
    "from sklearn.preprocessing import StandardScaler\n",
    "from collections import defaultdict\n",
    "import plotly.express as px\n",
    "import plotly.graph_objects as go\n",
    "import plotly.figure_factory as ff\n",
    "from plotly.subplots import make_subplots\n",
    "import plotly.io as pio\n",
    "import re # Added for cleaning plot names\n",
    "\n",
    "# Set default plotly template for better aesthetics\n",
    "pio.templates.default = \"plotly_white\"\n",
    "\n",
    "# --- Helper function for cleaning model names for plots ---\n",
    "def clean_plot_name(name):\n",
    "    if name is None: # Handle potential None input\n",
    "        return \"Unknown\"\n",
    "    name_str = str(name)\n",
    "    # For merged models, remove the trailing _XX\n",
    "    if not name_str.startswith(\"Qwen2.5\") or \"Merged_\" in name_str :\n",
    "        name_str = re.sub(r'_\\d+$', '', name_str)\n",
    "    return name_str\n",
    "\n",
    "# --- Font configuration for plots ---\n",
    "font_config = {\n",
    "    \"title_font_size\": 24,\n",
    "    \"font_size\": 18,\n",
    "    \"xaxis_title_font_size\": 18,\n",
    "    \"yaxis_title_font_size\": 18,\n",
    "    \"xaxis_tickfont_size\": 16,\n",
    "    \"yaxis_tickfont_size\": 16,\n",
    "    \"legend_title_font_size\": 24,\n",
    "    \"legend_font_size\": 22,\n",
    "}\n",
    "\n",
    "# --- Default Plot Dimensions ---\n",
    "default_plot_height = 400\n",
    "default_plot_width = 1400\n",
    "\n",
    "# --- Core Analysis and Plotting Function ---\n",
    "def run_analysis_for_experiment(experiment_name, models, short_names, tasks, paths):\n",
    "    \"\"\"\n",
    "    Runs the full data loading, analysis, and plotting pipeline for a given experiment.\n",
    "    Returns the processed comparison dataframe for later use in the combined plot.\n",
    "    \"\"\"\n",
    "    print(\"\\n\" + \"=\"*30)\n",
    "    print(f\" PROCESSING EXPERIMENT: {experiment_name.upper()} \")\n",
    "    print(\"=\"*30 + \"\\n\")\n",
    "\n",
    "    # --- 1. Model Categorization ---\n",
    "    instruct_model = None; coder_model = None; merged_models = []; base_model = None\n",
    "    for m_full_name in models:\n",
    "        m_short = short_names.get(m_full_name, \"\")\n",
    "        is_instruct = (m_short == \"Qwen2.5 Instruct\")\n",
    "        # Use .startswith for Coder/Math to handle variations\n",
    "        is_coder = (m_short.startswith(\"Qwen2.5 Coder\") or m_short.startswith(\"Qwen2.5 Math\"))\n",
    "        is_base = (m_short == \"Qwen2.5 Base\")\n",
    "        \n",
    "        is_merged = not (is_instruct or is_coder or is_base)\n",
    "        if is_instruct:\n",
    "            instruct_model = m_full_name\n",
    "        elif is_coder:\n",
    "            coder_model = m_full_name\n",
    "        elif is_base:\n",
    "            base_model = m_full_name\n",
    "        elif is_merged:\n",
    "            if m_full_name in models:\n",
    "                merged_models.append(m_full_name)\n",
    "\n",
    "    if not instruct_model: print(\"CRITICAL ERROR: Instruct model not identified.\"); exit()\n",
    "    if not coder_model: print(f\"CRITICAL ERROR: {experiment_name} model not identified.\"); exit()\n",
    "    if not merged_models: print(\"WARNING: No merged models identified.\")\n",
    "    if not base_model: print(\"WARNING: Base model not identified in setup.\")\n",
    "\n",
    "    print(f\"--- Model Categorization ({experiment_name}) ---\")\n",
    "    if base_model: print(f\"Base Model: {base_model} ({short_names.get(base_model, 'N/A')})\")\n",
    "    print(f\"Instruct Model: {instruct_model} ({short_names.get(instruct_model, 'N/A')})\")\n",
    "    print(f\"Specialist Model: {coder_model} ({short_names.get(coder_model, 'N/A')})\")\n",
    "    print(f\"Merged Models ({len(merged_models)}):\")\n",
    "    for m in merged_models: print(f\"  - {m} ({short_names.get(m, 'N/A')})\")\n",
    "    print(\"-\" * 25)\n",
    "\n",
    "    comparison_models_ordered = []\n",
    "    if base_model: comparison_models_ordered.append(base_model)\n",
    "    if instruct_model: comparison_models_ordered.append(instruct_model)\n",
    "    if coder_model: comparison_models_ordered.append(coder_model)\n",
    "    comparison_models_ordered.extend([m for m in merged_models if m])\n",
    "    comparison_models = list(dict.fromkeys(m for m in comparison_models_ordered if m))\n",
    "    print(f\"Models for comparison: {[clean_plot_name(short_names.get(m, m)) for m in comparison_models]}\")\n",
    "    print(\"-\" * 25)\n",
    "\n",
    "    # --- 2. Data Loading ---\n",
    "    def load_leaderboard_with_groups(paths_dict, model_list):\n",
    "        agg = defaultdict(dict); inv_group = {}\n",
    "        leaderboard_paths = {m: paths_dict.get(m, {}).get('leaderboard') for m in model_list}\n",
    "        leaderboard_paths = {m: p for m, p in leaderboard_paths.items() if p}\n",
    "        if not any(os.path.isfile(fp) for fp in leaderboard_paths.values() if fp):\n",
    "            return pd.DataFrame(columns=['subtask'] + model_list + ['group'])\n",
    "        first_valid_file_checked_for_groups = False\n",
    "        for m, fp in leaderboard_paths.items():\n",
    "            if not fp or not os.path.isfile(fp): continue\n",
    "            try:\n",
    "                with open(fp, 'r') as f: data = json.load(f)\n",
    "                if 'group_subtasks' in data and not inv_group and not first_valid_file_checked_for_groups:\n",
    "                    for grp, subs in data['group_subtasks'].items():\n",
    "                        clean_grp_name = grp.replace('leaderboard_', '') if isinstance(grp, str) else grp\n",
    "                        for sub in subs: inv_group[sub] = clean_grp_name\n",
    "                    first_valid_file_checked_for_groups = True\n",
    "                for key, metrics in data.get('results', {}).items():\n",
    "                    if isinstance(key, str) and key.startswith('leaderboard_') and key != 'leaderboard':\n",
    "                        score = metrics.get('acc_norm,none', metrics.get('acc,none', metrics.get('exact_match,none', np.nan)))\n",
    "                        if not pd.isna(score): agg[key][m] = score * 100\n",
    "            except Exception as e: print(f\"Error processing file {fp} for model {m}: {e}\")\n",
    "        if not agg: return pd.DataFrame(columns=['subtask'] + model_list + ['group'])\n",
    "        df = pd.DataFrame.from_dict(agg, orient='index')\n",
    "        for m_col in model_list:\n",
    "            if m_col not in df.columns: df[m_col] = np.nan\n",
    "        present_models_in_agg = [m for m in model_list if m in df.columns]; df = df[present_models_in_agg]\n",
    "        df = df.dropna(subset=present_models_in_agg, how='all')\n",
    "        if df.empty: return pd.DataFrame(columns=['subtask'] + model_list + ['group', 'subtask_cleaned'])\n",
    "        df['group'] = df.index.map(lambda x: inv_group.get(x, 'Unknown'))\n",
    "        df['subtask_cleaned'] = df.index.str.replace('leaderboard_', '', regex=False)\n",
    "        final_cols = ['group', 'subtask_cleaned'] + present_models_in_agg\n",
    "        return df.reset_index().rename(columns={'index': 'subtask'})[final_cols + ['subtask']]\n",
    "\n",
    "    subtasks_df_all = load_leaderboard_with_groups(paths, models)\n",
    "    \n",
    "    leaderboard_main_subtasks = [\"leaderboard_mmlu_pro\", \"leaderboard_bbh\", \"leaderboard_gpqa\", \"leaderboard_math_hard\", \"leaderboard_ifeval\", \"leaderboard_musr\"]\n",
    "    if not subtasks_df_all.empty and 'subtask' in subtasks_df_all.columns:\n",
    "        subtasks_df = subtasks_df_all[subtasks_df_all['subtask'].isin(leaderboard_main_subtasks)].copy()\n",
    "    else:\n",
    "        subtasks_df = pd.DataFrame()\n",
    "\n",
    "    models_in_subtasks_data = [m for m in comparison_models if m in subtasks_df.columns]\n",
    "    if not subtasks_df.empty and models_in_subtasks_data:\n",
    "        present_base_cols = [c for c in ['subtask', 'subtask_cleaned', 'group'] if c in subtasks_df.columns]\n",
    "        subtasks_comp_df = subtasks_df[present_base_cols + models_in_subtasks_data].copy()\n",
    "    else:\n",
    "        subtasks_comp_df = pd.DataFrame(columns=['subtask', 'subtask_cleaned', 'group'] + models_in_subtasks_data)\n",
    "\n",
    "    if not subtasks_comp_df.empty: print(f\"\\n--- Main Leaderboard Tasks DataFrame ({experiment_name}) ---\"); print(subtasks_comp_df); print(\"-\" * 50)\n",
    "    else: print(f\"\\n--- Main Leaderboard Tasks DataFrame is empty for {experiment_name} ---\")\n",
    "    \n",
    "    return subtasks_comp_df, comparison_models, instruct_model, coder_model, base_model\n",
    "\n",
    "\n",
    "# --- Configuration for Each Experiment ---\n",
    "\n",
    "# --- CODER Experiment ---\n",
    "models_coder = [\n",
    "    \"Qwen2.5-7B\", \"Qwen2.5-7B-Instruct\", \"Qwen2.5-Coder-7B\",\n",
    "    \"Qwen2.5-7B-Instruct-Qwen2.5-Coder-7B-Merged-task_arithmetic-29\",\n",
    "    \"Qwen2.5-7B-Instruct-Qwen2.5-Coder-7B-Merged-dare_ties-29\",\n",
    "    \"Qwen2.5-7B-Instruct-Qwen2.5-Coder-7B-Merged-ties-29\",\n",
    "    \"Qwen2.5-7B-Instruct-Qwen2.5-Coder-7B-Merged-slerp-29\",\n",
    "    \"Qwen2.5-7B-Instruct-Qwen2.5-Coder-7B-Merged-linear-29\"\n",
    "]\n",
    "short_names_coder = {\n",
    "    \"Qwen2.5-7B\": \"Qwen2.5 Base\", \"Qwen2.5-7B-Instruct\": \"Qwen2.5 Instruct\", \"Qwen2.5-Coder-7B\": \"Qwen2.5 Coder\",\n",
    "    \"Qwen2.5-7B-Instruct-Qwen2.5-Coder-7B-Merged-task_arithmetic-29\": \"Task Arithmetic\",\n",
    "    \"Qwen2.5-7B-Instruct-Qwen2.5-Coder-7B-Merged-dare_ties-29\": \"DARE Ties\",\n",
    "    \"Qwen2.5-7B-Instruct-Qwen2.5-Coder-7B-Merged-ties-29\": \"Ties\",\n",
    "    \"Qwen2.5-7B-Instruct-Qwen2.5-Coder-7B-Merged-slerp-29\": \"Slerp\",\n",
    "    \"Qwen2.5-7B-Instruct-Qwen2.5-Coder-7B-Merged-linear-29\": \"Linear\"\n",
    "}\n",
    "tasks_coder = [\"leaderboard\"]\n",
    "paths_coder = {m: {t: f\"organized_results/{t}/{m}/result.json\" for t in tasks_coder} for m in models_coder}\n",
    "\n",
    "# --- MATH Experiment ---\n",
    "models_math = [\n",
    "    \"Qwen2.5-7B\", \"Qwen2.5-7B-Instruct\", \"Qwen2.5-Math-7B\",\n",
    "    \"Qwen2.5-7B-Instruct-Qwen2.5-Math-7B-Merged-task_arithmetic-26\",\n",
    "    \"Qwen2.5-7B-Instruct-Qwen2.5-Math-7B-Merged-dare_ties-27\",\n",
    "    \"Qwen2.5-7B-Instruct-Qwen2.5-Math-7B-Merged-ties-26\",\n",
    "    \"Qwen2.5-7B-Instruct-Qwen2.5-Math-7B-Merged-slerp-24\",\n",
    "    \"Qwen2.5-7B-Instruct-Qwen2.5-Math-7B-Merged-linear-24\"\n",
    "]\n",
    "short_names_math = {\n",
    "    \"Qwen2.5-7B\": \"Qwen2.5 Base\", \"Qwen2.5-7B-Instruct\": \"Qwen2.5 Instruct\", \"Qwen2.5-Math-7B\": \"Qwen2.5 Math\",\n",
    "    \"Qwen2.5-7B-Instruct-Qwen2.5-Math-7B-Merged-task_arithmetic-26\": \"Task Arithmetic\",\n",
    "    \"Qwen2.5-7B-Instruct-Qwen2.5-Math-7B-Merged-dare_ties-27\": \"DARE Ties\",\n",
    "    \"Qwen2.5-7B-Instruct-Qwen2.5-Math-7B-Merged-ties-26\": \"Ties\",\n",
    "    \"Qwen2.5-7B-Instruct-Qwen2.5-Math-7B-Merged-slerp-24\": \"Slerp\",\n",
    "    \"Qwen2.5-7B-Instruct-Qwen2.5-Math-7B-Merged-linear-24\": \"Linear\"\n",
    "}\n",
    "tasks_math = [\"leaderboard\"]\n",
    "paths_math = {m: {t: f\"organized_results/{t}/{m}/result.json\" for t in tasks_math} for m in models_math}\n",
    "\n",
    "\n",
    "# --- Run Analysis for Both Experiments ---\n",
    "subtasks_comp_df_coder, comparison_models_coder, instruct_model_coder, specialist_model_coder, base_model_coder = run_analysis_for_experiment(\"Coder\", models_coder, short_names_coder, tasks_coder, paths_coder)\n",
    "subtasks_comp_df_math, comparison_models_math, instruct_model_math, specialist_model_math, base_model_math = run_analysis_for_experiment(\"Math\", models_math, short_names_math, tasks_math, paths_math)\n",
    "\n",
    "\n",
    "# --- 7. Combined Plotting Section ---\n",
    "print(\"\\n\" + \"=\"*30)\n",
    "print(\" GENERATING COMBINED PLOT \")\n",
    "print(\"=\"*30 + \"\\n\")\n",
    "\n",
    "def prepare_plot_data(df, comparison_models, short_names_map):\n",
    "    plot_data_list = []\n",
    "    if df.empty or 'subtask_cleaned' not in df.columns:\n",
    "        return pd.DataFrame()\n",
    "        \n",
    "    models_to_plot_bar = [m for m in comparison_models if m in df.columns and not df[m].isna().all()]\n",
    "    tasks_to_plot = sorted(df['subtask_cleaned'].unique())\n",
    "\n",
    "    for task_name in tasks_to_plot:\n",
    "        task_data = df[df['subtask_cleaned'] == task_name]\n",
    "        if not task_data.empty:\n",
    "            for model_full_name in comparison_models:\n",
    "                if model_full_name in models_to_plot_bar:\n",
    "                    score = task_data.iloc[0][model_full_name]\n",
    "                    if not pd.isna(score):\n",
    "                        model_short_clean = clean_plot_name(short_names_map.get(model_full_name, model_full_name))\n",
    "                        \n",
    "                        current_model_type = 'Merged' # Default\n",
    "                        s_name = short_names_map.get(model_full_name)\n",
    "                        if s_name == \"Qwen2.5 Base\": current_model_type = \"Base\"\n",
    "                        elif s_name == \"Qwen2.5 Instruct\": current_model_type = \"Instruct\"\n",
    "                        elif s_name.startswith(\"Qwen2.5 Coder\") or s_name.startswith(\"Qwen2.5 Math\"): current_model_type = \"Specialist\"\n",
    "                        \n",
    "                        plot_data_list.append({\n",
    "                            'Task': task_name,\n",
    "                            'Model Short Name': model_short_clean,\n",
    "                            'Score': score,\n",
    "                            'Model Type': current_model_type,\n",
    "                        })\n",
    "    return pd.DataFrame(plot_data_list)\n",
    "\n",
    "# Prepare data for both experiments\n",
    "plot_df_coder = prepare_plot_data(subtasks_comp_df_coder, comparison_models_coder, short_names_coder)\n",
    "plot_df_math = prepare_plot_data(subtasks_comp_df_math, comparison_models_math, short_names_math)\n",
    "\n",
    "# Define model order with core models at the bottom\n",
    "all_tasks = sorted(list(set(plot_df_coder['Task'].unique()) | set(plot_df_math['Task'].unique())))\n",
    "\n",
    "# For Coder plot\n",
    "all_coder_models = plot_df_coder['Model Short Name'].unique()\n",
    "core_coder = ['Qwen2.5 Base', 'Qwen2.5 Instruct', 'Qwen2.5 Coder']\n",
    "core_coder_present = [m for m in core_coder if m in all_coder_models]\n",
    "merged_coder = sorted([m for m in all_coder_models if m not in core_coder_present])\n",
    "models_coder_plot = core_coder_present + merged_coder\n",
    "\n",
    "# For Math plot\n",
    "all_math_models = plot_df_math['Model Short Name'].unique()\n",
    "core_math = ['Qwen2.5 Base', 'Qwen2.5 Instruct', 'Qwen2.5 Math']\n",
    "core_math_present = [m for m in core_math if m in all_math_models]\n",
    "merged_math = sorted([m for m in all_math_models if m not in core_math_present])\n",
    "models_math_plot = core_math_present + merged_math\n",
    "\n",
    "\n",
    "if not all_tasks or (not models_coder_plot and not models_math_plot):\n",
    "    print(\"No data available to generate the combined plot. Exiting plot generation.\")\n",
    "else:\n",
    "    # Create subplot titles\n",
    "    subplot_titles = []\n",
    "    for task in all_tasks:\n",
    "        subplot_titles.append(f\"Coder - {task}\")\n",
    "        subplot_titles.append(f\"Math - {task}\")\n",
    "\n",
    "    fig = make_subplots(\n",
    "        rows=len(all_tasks),\n",
    "        cols=2,\n",
    "        subplot_titles=subplot_titles,\n",
    "        horizontal_spacing=0.03,\n",
    "        vertical_spacing=0.05\n",
    "    )\n",
    "\n",
    "    color_map = {\n",
    "        \"Base\": 'rgb(100, 149, 237)',\n",
    "        \"Instruct\": 'rgb(50, 205, 50)',\n",
    "        \"Specialist\": 'rgb(255, 165, 0)',\n",
    "        \"Merged\": 'rgb(192, 192, 192)'\n",
    "    }\n",
    "    \n",
    "    # Loop through each task to create a row of subplots\n",
    "    for i, task in enumerate(all_tasks):\n",
    "        row_num = i + 1\n",
    "        \n",
    "        # --- Column 1: Coder ---\n",
    "        df_c = plot_df_coder[plot_df_coder['Task'] == task]\n",
    "        if not df_c.empty:\n",
    "            for model_type in [\"Base\", \"Instruct\", \"Specialist\", \"Merged\"]:\n",
    "                df_c_type = df_c[df_c['Model Type'] == model_type]\n",
    "                if not df_c_type.empty:\n",
    "                    text_threshold = 15\n",
    "                    text_positions = ['outside' if score < text_threshold else 'inside' for score in df_c_type['Score']]\n",
    "                    text_colors = ['black' if score < text_threshold else 'white' for score in df_c_type['Score']]\n",
    "                    \n",
    "                    fig.add_trace(go.Bar(\n",
    "                        y=df_c_type['Model Short Name'],\n",
    "                        x=df_c_type['Score'],\n",
    "                        name=model_type,\n",
    "                        marker_color=color_map.get(model_type),\n",
    "                        orientation='h',\n",
    "                        text=df_c_type.apply(lambda row: f\"<b>{row['Model Short Name']}</b>: {row['Score']:.1f}%\", axis=1),\n",
    "                        textposition=text_positions,\n",
    "                        insidetextanchor='middle',\n",
    "                        textfont=dict(size=12, color=text_colors),\n",
    "                        cliponaxis=False\n",
    "                    ), row=row_num, col=1)\n",
    "            \n",
    "            task_data_row = subtasks_comp_df_coder[subtasks_comp_df_coder['subtask_cleaned'] == task].iloc[0]\n",
    "            instruct_score = task_data_row.get(instruct_model_coder)\n",
    "            specialist_score = task_data_row.get(specialist_model_coder)\n",
    "            \n",
    "            if pd.notna(instruct_score) and pd.notna(specialist_score):\n",
    "                fig.add_shape(type=\"rect\", x0=min(instruct_score, specialist_score), x1=max(instruct_score, specialist_score), y0=-0.5, y1=len(models_coder_plot)-0.5, fillcolor=\"rgba(255, 128, 128, 0.2)\", line_width=0, layer=\"below\", row=row_num, col=1)\n",
    "                fig.add_shape(type=\"line\", x0=instruct_score, x1=instruct_score, y0=-0.5, y1=len(models_coder_plot)-0.5, line=dict(color=color_map['Instruct'], dash=\"dash\", width=2), layer=\"above\", row=row_num, col=1)\n",
    "                fig.add_shape(type=\"line\", x0=specialist_score, x1=specialist_score, y0=-0.5, y1=len(models_coder_plot)-0.5, line=dict(color=color_map['Specialist'], dash=\"dash\", width=2), layer=\"above\", row=row_num, col=1)\n",
    "\n",
    "            # --- NEW: Dynamic X-axis calculation for Coder plot ---\n",
    "            max_score_c = df_c['Score'].max()\n",
    "            fig.update_xaxes(range=[0, max_score_c * 1.20], row=row_num, col=1)\n",
    "\n",
    "\n",
    "        # --- Column 2: Math ---\n",
    "        df_m = plot_df_math[plot_df_math['Task'] == task]\n",
    "        if not df_m.empty:\n",
    "            for model_type in [\"Base\", \"Instruct\", \"Specialist\", \"Merged\"]:\n",
    "                 df_m_type = df_m[df_m['Model Type'] == model_type]\n",
    "                 if not df_m_type.empty:\n",
    "                    text_threshold = 15\n",
    "                    text_positions = ['outside' if score < text_threshold else 'inside' for score in df_m_type['Score']]\n",
    "                    text_colors = ['black' if score < text_threshold else 'white' for score in df_m_type['Score']]\n",
    "\n",
    "                    fig.add_trace(go.Bar(\n",
    "                        y=df_m_type['Model Short Name'],\n",
    "                        x=df_m_type['Score'],\n",
    "                        name=model_type,\n",
    "                        marker_color=color_map.get(model_type),\n",
    "                        orientation='h',\n",
    "                        text=df_m_type.apply(lambda row: f\"<b>{row['Model Short Name']}</b>: {row['Score']:.1f}%\", axis=1),\n",
    "                        textposition=text_positions,\n",
    "                        insidetextanchor='middle',\n",
    "                        textfont=dict(size=22, color=text_colors),\n",
    "                        cliponaxis=False\n",
    "                    ), row=row_num, col=2)\n",
    "\n",
    "            task_data_row = subtasks_comp_df_math[subtasks_comp_df_math['subtask_cleaned'] == task].iloc[0]\n",
    "            instruct_score = task_data_row.get(instruct_model_math)\n",
    "            specialist_score = task_data_row.get(specialist_model_math)\n",
    "\n",
    "            if pd.notna(instruct_score) and pd.notna(specialist_score):\n",
    "                fig.add_shape(type=\"rect\", x0=min(instruct_score, specialist_score), x1=max(instruct_score, specialist_score), y0=-0.5, y1=len(models_math_plot)-0.5, fillcolor=\"rgba(255, 128, 128, 0.2)\", line_width=0, layer=\"below\", row=row_num, col=2)\n",
    "                fig.add_shape(type=\"line\", x0=instruct_score, x1=instruct_score, y0=-0.5, y1=len(models_math_plot)-0.5, line=dict(color=color_map['Instruct'], dash=\"dash\", width=2), layer=\"above\", row=row_num, col=2)\n",
    "                fig.add_shape(type=\"line\", x0=specialist_score, x1=specialist_score, y0=-0.5, y1=len(models_math_plot)-0.5, line=dict(color=color_map['Specialist'], dash=\"dash\", width=2), layer=\"above\", row=row_num, col=2)\n",
    "\n",
    "            # --- NEW: Dynamic X-axis calculation for Math plot ---\n",
    "            max_score_m = df_m['Score'].max()\n",
    "            fig.update_xaxes(range=[0, max_score_m * 1.20], row=row_num, col=2)\n",
    "\n",
    "    # Update layout for the entire figure\n",
    "    height_per_facet = max(len(models_coder_plot), len(models_math_plot)) * 20 + 40 \n",
    "    total_height = height_per_facet * len(all_tasks)\n",
    "\n",
    "    fig.update_layout(\n",
    "        title_text='Absolute Performance Comparison by Task: Coder vs. Math Experiments',\n",
    "        barmode='stack',\n",
    "        height=total_height,\n",
    "        width=2000,\n",
    "        showlegend=False, # Hide the legend\n",
    "        margin=dict(t=100, l=10, r=10, b=50),\n",
    "        **font_config\n",
    "    )\n",
    "\n",
    "    # Update all y-axes\n",
    "    fig.update_yaxes(categoryorder='array', categoryarray=models_coder_plot, showticklabels=False, col=1)\n",
    "    fig.update_yaxes(categoryorder='array', categoryarray=models_math_plot, showticklabels=False, col=2)\n",
    "    \n",
    "    # Clean up subplot titles\n",
    "    fig.for_each_annotation(lambda a: a.update(text=a.text.split(\" - \")[-1], font=dict(size=16)))\n",
    "    \n",
    "    # Add main column titles\n",
    "    fig.add_annotation(x=0.18, y=1.02, yanchor='bottom', text=\"<b>Coder Experiment</b>\", showarrow=False, xref=\"paper\", yref=\"paper\", font=dict(size=20))\n",
    "    fig.add_annotation(x=0.80, y=1.02, yanchor='bottom', text=\"<b>Math Experiment</b>\", showarrow=False, xref=\"paper\", yref=\"paper\", font=dict(size=20))\n",
    "\n",
    "\n",
    "    fig.show()\n",
    "    print(\"Generated combined plot: Absolute Performance Comparison by Task: Coder vs. Math Experiments\")\n",
    "\n",
    "print(\"\\n--- Script Finished ---\")\n"
   ]
  }
 ],
 "metadata": {
  "kernelspec": {
   "display_name": "3.12.7",
   "language": "python",
   "name": "python3"
  },
  "language_info": {
   "codemirror_mode": {
    "name": "ipython",
    "version": 3
   },
   "file_extension": ".py",
   "mimetype": "text/x-python",
   "name": "python",
   "nbconvert_exporter": "python",
   "pygments_lexer": "ipython3",
   "version": "3.12.7"
  }
 },
 "nbformat": 4,
 "nbformat_minor": 5
}
