{
 "cells": [
  {
   "cell_type": "code",
   "execution_count": null,
   "id": "30aec042",
   "metadata": {},
   "outputs": [
    {
     "name": "stdout",
     "output_type": "stream",
     "text": [
      "\n",
      "==============================\n",
      " PROCESSING EXPERIMENT: CODER \n",
      "==============================\n",
      "\n",
      "--- Model Categorization (Coder) ---\n",
      "Base Model: Qwen__Qwen2.5-7B (Qwen2.5 Base)\n",
      "Instruct Model: Qwen__Qwen2.5-7B-Instruct (Qwen2.5 Instruct)\n",
      "Specialist Model: Qwen__Qwen2.5-Coder-7B (Qwen2.5 Coder)\n",
      "Merged Models (5):\n",
      "  - _username___Qwen2.5-7B-Instruct-Qwen2.5-Coder-7B-Merged-task_arithmetic-29 (Task Arithmetic_29)\n",
      "  - _username___Qwen2.5-7B-Instruct-Qwen2.5-Coder-7B-Merged-dare_ties-29 (DARE Ties_29)\n",
      "  - _username___Qwen2.5-7B-Instruct-Qwen2.5-Coder-7B-Merged-ties-29 (Ties_29)\n",
      "  - _username___Qwen2.5-7B-Instruct-Qwen2.5-Coder-7B-Merged-slerp-29 (Slerp_29)\n",
      "  - _username___Qwen2.5-7B-Instruct-Qwen2.5-Coder-7B-Merged-linear-29 (Linear_29)\n",
      "-------------------------\n",
      "Models for comparison: ['Qwen2.5 Base', 'Qwen2.5 Instruct', 'Qwen2.5 Coder', 'Task Arithmetic', 'DARE Ties', 'Ties', 'Slerp', 'Linear']\n",
      "-------------------------\n",
      "\n",
      "--- Summary DataFrame (Coder) ---\n",
      "                    Qwen__Qwen2.5-7B  Qwen__Qwen2.5-7B-Instruct  \\\n",
      "main_task_category                                                \n",
      "discourse                  30.879182                  30.873980   \n",
      "morphology                 61.545427                  61.489285   \n",
      "nan                        20.938759                  21.009010   \n",
      "reasoning                  41.760275                  41.756530   \n",
      "semantics                  39.992260                  39.836863   \n",
      "\n",
      "                    Qwen__Qwen2.5-Coder-7B  \\\n",
      "main_task_category                           \n",
      "discourse                        32.414335   \n",
      "morphology                       69.834858   \n",
      "nan                              22.848248   \n",
      "reasoning                        41.369832   \n",
      "semantics                        42.950799   \n",
      "\n",
      "                    _username___Qwen2.5-7B-Instruct-Qwen2.5-Coder-7B-Merged-task_arithmetic-29  \\\n",
      "main_task_category                                                                             \n",
      "discourse                                                   31.882666                          \n",
      "morphology                                                  43.691231                          \n",
      "nan                                                         19.396797                          \n",
      "reasoning                                                   38.970611                          \n",
      "semantics                                                   37.342835                          \n",
      "\n",
      "                    _username___Qwen2.5-7B-Instruct-Qwen2.5-Coder-7B-Merged-dare_ties-29  \\\n",
      "main_task_category                                                                       \n",
      "discourse                                                   27.986115                    \n",
      "morphology                                                  50.903569                    \n",
      "nan                                                         17.863903                    \n",
      "reasoning                                                   40.225401                    \n",
      "semantics                                                   38.287272                    \n",
      "\n",
      "                    _username___Qwen2.5-7B-Instruct-Qwen2.5-Coder-7B-Merged-ties-29  \\\n",
      "main_task_category                                                                  \n",
      "discourse                                                   31.514777               \n",
      "morphology                                                  49.791636               \n",
      "nan                                                         19.352978               \n",
      "reasoning                                                   37.697333               \n",
      "semantics                                                   38.393727               \n",
      "\n",
      "                    _username___Qwen2.5-7B-Instruct-Qwen2.5-Coder-7B-Merged-slerp-29  \\\n",
      "main_task_category                                                                   \n",
      "discourse                                                   31.905408                \n",
      "morphology                                                  64.509396                \n",
      "nan                                                         21.264202                \n",
      "reasoning                                                   43.640981                \n",
      "semantics                                                   41.142894                \n",
      "\n",
      "                    _username___Qwen2.5-7B-Instruct-Qwen2.5-Coder-7B-Merged-linear-29  \n",
      "main_task_category                                                                   \n",
      "discourse                                                   30.990322                \n",
      "morphology                                                  43.691092                \n",
      "nan                                                         18.648539                \n",
      "reasoning                                                   38.147089                \n",
      "semantics                                                   36.785402                \n",
      "--------------------------------------------------\n",
      "\n",
      "==============================\n",
      " PROCESSING EXPERIMENT: MATH \n",
      "==============================\n",
      "\n",
      "--- Model Categorization (Math) ---\n",
      "Base Model: Qwen__Qwen2.5-7B (Qwen2.5 Base)\n",
      "Instruct Model: Qwen__Qwen2.5-7B-Instruct (Qwen2.5 Instruct)\n",
      "Specialist Model: Qwen__Qwen2.5-Math-7B (Qwen2.5 Math)\n",
      "Merged Models (5):\n",
      "  - _username___Qwen2.5-7B-Instruct-Qwen2.5-Math-7B-Merged-task_arithmetic-26 (Task Arithmetic_26)\n",
      "  - _username___Qwen2.5-7B-Instruct-Qwen2.5-Math-7B-Merged-dare_ties-27 (DARE Ties_27)\n",
      "  - _username___Qwen2.5-7B-Instruct-Qwen2.5-Math-7B-Merged-ties-26 (Ties_26)\n",
      "  - _username___Qwen2.5-7B-Instruct-Qwen2.5-Math-7B-Merged-slerp-24 (Slerp_24)\n",
      "  - _username___Qwen2.5-7B-Instruct-Qwen2.5-Math-7B-Merged-linear-24 (Linear_24)\n",
      "-------------------------\n",
      "Models for comparison: ['Qwen2.5 Base', 'Qwen2.5 Instruct', 'Qwen2.5 Math', 'Task Arithmetic', 'DARE Ties', 'Ties', 'Slerp', 'Linear']\n",
      "-------------------------\n",
      "\n",
      "--- Summary DataFrame (Math) ---\n",
      "                    Qwen__Qwen2.5-7B  Qwen__Qwen2.5-7B-Instruct  \\\n",
      "main_task_category                                                \n",
      "discourse                  30.879182                  30.873980   \n",
      "morphology                 61.545427                  61.489285   \n",
      "nan                        20.938759                  21.009010   \n",
      "reasoning                  41.760275                  41.756530   \n",
      "semantics                  39.992260                  39.836863   \n",
      "\n",
      "                    Qwen__Qwen2.5-Math-7B  \\\n",
      "main_task_category                          \n",
      "discourse                       32.389780   \n",
      "morphology                      70.843931   \n",
      "nan                             22.798695   \n",
      "reasoning                       41.370020   \n",
      "semantics                       39.275688   \n",
      "\n",
      "                    _username___Qwen2.5-7B-Instruct-Qwen2.5-Math-7B-Merged-task_arithmetic-26  \\\n",
      "main_task_category                                                                            \n",
      "discourse                                                   30.869281                         \n",
      "morphology                                                  73.166850                         \n",
      "nan                                                         22.993067                         \n",
      "reasoning                                                   43.919801                         \n",
      "semantics                                                   42.490215                         \n",
      "\n",
      "                    _username___Qwen2.5-7B-Instruct-Qwen2.5-Math-7B-Merged-dare_ties-27  \\\n",
      "main_task_category                                                                      \n",
      "discourse                                                   32.583856                   \n",
      "morphology                                                  72.484076                   \n",
      "nan                                                         22.648339                   \n",
      "reasoning                                                   43.395377                   \n",
      "semantics                                                   42.104365                   \n",
      "\n",
      "                    _username___Qwen2.5-7B-Instruct-Qwen2.5-Math-7B-Merged-ties-26  \\\n",
      "main_task_category                                                                 \n",
      "discourse                                                         NaN              \n",
      "morphology                                                        NaN              \n",
      "nan                                                               NaN              \n",
      "reasoning                                                         NaN              \n",
      "semantics                                                         NaN              \n",
      "\n",
      "                    _username___Qwen2.5-7B-Instruct-Qwen2.5-Math-7B-Merged-slerp-24  \\\n",
      "main_task_category                                                                  \n",
      "discourse                                                   31.939958               \n",
      "morphology                                                  67.236957               \n",
      "nan                                                         21.361007               \n",
      "reasoning                                                   42.111876               \n",
      "semantics                                                   41.558450               \n",
      "\n",
      "                    _username___Qwen2.5-7B-Instruct-Qwen2.5-Math-7B-Merged-linear-24  \n",
      "main_task_category                                                                  \n",
      "discourse                                                   32.404961               \n",
      "morphology                                                  75.480455               \n",
      "nan                                                         23.378873               \n",
      "reasoning                                                   43.949837               \n",
      "semantics                                                   41.789954               \n",
      "--------------------------------------------------\n",
      "\n",
      "==============================\n",
      " GENERATING COMBINED PLOT \n",
      "==============================\n",
      "\n"
     ]
    },
    {
     "data": {
      "application/vnd.plotly.v1+json": {
       "config": {
        "plotlyServerURL": "https://plot.ly"
       },
       "data": [
        {
         "cliponaxis": false,
         "hoverinfo": "none",
         "insidetextanchor": "middle",
         "marker": {
          "color": [
           "rgb(100, 149, 237)",
           "rgb(50, 205, 50)",
           "rgb(255, 165, 0)",
           "rgb(192, 192, 192)",
           "rgb(192, 192, 192)",
           "rgb(192, 192, 192)",
           "rgb(192, 192, 192)",
           "rgb(192, 192, 192)"
          ]
         },
         "orientation": "h",
         "text": [
          "<b>Qwen2.5 Base</b>: 30.9%",
          "<b>Qwen2.5 Instruct</b>: 30.9%",
          "<b>Qwen2.5 Coder</b>: 32.4%",
          "<b>Task Arithmetic</b>: 31.9%",
          "<b>DARE Ties</b>: 28.0%",
          "<b>Ties</b>: 31.5%",
          "<b>Slerp</b>: 31.9%",
          "<b>Linear</b>: 31.0%"
         ],
         "textfont": {
          "color": [
           "white",
           "white",
           "white",
           "white",
           "white",
           "white",
           "white",
           "white"
          ],
          "size": 12
         },
         "textposition": [
          "inside",
          "inside",
          "inside",
          "inside",
          "inside",
          "inside",
          "inside",
          "inside"
         ],
         "type": "bar",
         "x": {
          "bdata": "sVPKDhLhPkAAANoovd8+QBQ70e4INUBAJ/YyYvbhP0B2Yp8Icvw7QLFDXXPIgz9AdmKT08jnP0AAAKy7hf0+QA==",
          "dtype": "f8"
         },
         "xaxis": "x",
         "y": [
          "Qwen2.5 Base",
          "Qwen2.5 Instruct",
          "Qwen2.5 Coder",
          "Task Arithmetic",
          "DARE Ties",
          "Ties",
          "Slerp",
          "Linear"
         ],
         "yaxis": "y"
        },
        {
         "cliponaxis": false,
         "hoverinfo": "none",
         "insidetextanchor": "middle",
         "marker": {
          "color": [
           "rgb(100, 149, 237)",
           "rgb(50, 205, 50)",
           "rgb(255, 165, 0)",
           "rgb(192, 192, 192)",
           "rgb(192, 192, 192)",
           "rgb(192, 192, 192)",
           "rgb(192, 192, 192)"
          ]
         },
         "orientation": "h",
         "text": [
          "<b>Qwen2.5 Base</b>: 30.9%",
          "<b>Qwen2.5 Instruct</b>: 30.9%",
          "<b>Qwen2.5 Math</b>: 32.4%",
          "<b>Task Arithmetic</b>: 30.9%",
          "<b>DARE Ties</b>: 32.6%",
          "<b>Slerp</b>: 31.9%",
          "<b>Linear</b>: 32.4%"
         ],
         "textfont": {
          "color": [
           "white",
           "white",
           "white",
           "white",
           "white",
           "white",
           "white"
          ],
          "size": 12
         },
         "textposition": [
          "inside",
          "inside",
          "inside",
          "inside",
          "inside",
          "inside",
          "inside"
         ],
         "type": "bar",
         "x": {
          "bdata": "sVPKDhLhPkAAANoovd8+QIrdYk/kMUBAFDu5LYnePkB2YhHJu0pAQMVOlh6h8D9A2YmXw9UzQEA=",
          "dtype": "f8"
         },
         "xaxis": "x2",
         "y": [
          "Qwen2.5 Base",
          "Qwen2.5 Instruct",
          "Qwen2.5 Math",
          "Task Arithmetic",
          "DARE Ties",
          "Slerp",
          "Linear"
         ],
         "yaxis": "y2"
        },
        {
         "cliponaxis": false,
         "hoverinfo": "none",
         "insidetextanchor": "middle",
         "marker": {
          "color": [
           "rgb(100, 149, 237)",
           "rgb(50, 205, 50)",
           "rgb(255, 165, 0)",
           "rgb(192, 192, 192)",
           "rgb(192, 192, 192)",
           "rgb(192, 192, 192)",
           "rgb(192, 192, 192)",
           "rgb(192, 192, 192)"
          ]
         },
         "orientation": "h",
         "text": [
          "<b>Qwen2.5 Base</b>: 61.5%",
          "<b>Qwen2.5 Instruct</b>: 61.5%",
          "<b>Qwen2.5 Coder</b>: 69.8%",
          "<b>Task Arithmetic</b>: 43.7%",
          "<b>DARE Ties</b>: 50.9%",
          "<b>Ties</b>: 49.8%",
          "<b>Slerp</b>: 64.5%",
          "<b>Linear</b>: 43.7%"
         ],
         "textfont": {
          "color": [
           "white",
           "white",
           "white",
           "white",
           "white",
           "white",
           "white",
           "white"
          ],
          "size": 12
         },
         "textposition": [
          "inside",
          "inside",
          "inside",
          "inside",
          "inside",
          "inside",
          "inside",
          "inside"
         ],
         "type": "bar",
         "x": {
          "bdata": "AABwitDFTkBDeQ3noL5OQNhQ1k5udVFAUV6DPnrYRUAorwEnqHNJQF5D+U9U5UhADeUV8JkgUEDlNTy0ddhFQA==",
          "dtype": "f8"
         },
         "xaxis": "x3",
         "y": [
          "Qwen2.5 Base",
          "Qwen2.5 Instruct",
          "Qwen2.5 Coder",
          "Task Arithmetic",
          "DARE Ties",
          "Ties",
          "Slerp",
          "Linear"
         ],
         "yaxis": "y3"
        },
        {
         "cliponaxis": false,
         "hoverinfo": "none",
         "insidetextanchor": "middle",
         "marker": {
          "color": [
           "rgb(100, 149, 237)",
           "rgb(50, 205, 50)",
           "rgb(255, 165, 0)",
           "rgb(192, 192, 192)",
           "rgb(192, 192, 192)",
           "rgb(192, 192, 192)",
           "rgb(192, 192, 192)"
          ]
         },
         "orientation": "h",
         "text": [
          "<b>Qwen2.5 Base</b>: 61.5%",
          "<b>Qwen2.5 Instruct</b>: 61.5%",
          "<b>Qwen2.5 Math</b>: 70.8%",
          "<b>Task Arithmetic</b>: 73.2%",
          "<b>DARE Ties</b>: 72.5%",
          "<b>Slerp</b>: 67.2%",
          "<b>Linear</b>: 75.5%"
         ],
         "textfont": {
          "color": [
           "white",
           "white",
           "white",
           "white",
           "white",
           "white",
           "white"
          ],
          "size": 12
         },
         "textposition": [
          "inside",
          "inside",
          "inside",
          "inside",
          "inside",
          "inside",
          "inside"
         ],
         "type": "bar",
         "x": {
          "bdata": "AABwitDFTkBDeQ3noL5OQL2G8vcCtlFAeQ31q61KUkAbyusa+x5SQMpraE8qz1BAr6F8xb/eUkA=",
          "dtype": "f8"
         },
         "xaxis": "x4",
         "y": [
          "Qwen2.5 Base",
          "Qwen2.5 Instruct",
          "Qwen2.5 Math",
          "Task Arithmetic",
          "DARE Ties",
          "Slerp",
          "Linear"
         ],
         "yaxis": "y4"
        },
        {
         "cliponaxis": false,
         "hoverinfo": "none",
         "insidetextanchor": "middle",
         "marker": {
          "color": [
           "rgb(100, 149, 237)",
           "rgb(50, 205, 50)",
           "rgb(255, 165, 0)",
           "rgb(192, 192, 192)",
           "rgb(192, 192, 192)",
           "rgb(192, 192, 192)",
           "rgb(192, 192, 192)",
           "rgb(192, 192, 192)"
          ]
         },
         "orientation": "h",
         "text": [
          "<b>Qwen2.5 Base</b>: 20.9%",
          "<b>Qwen2.5 Instruct</b>: 21.0%",
          "<b>Qwen2.5 Coder</b>: 22.8%",
          "<b>Task Arithmetic</b>: 19.4%",
          "<b>DARE Ties</b>: 17.9%",
          "<b>Ties</b>: 19.4%",
          "<b>Slerp</b>: 21.3%",
          "<b>Linear</b>: 18.6%"
         ],
         "textfont": {
          "color": [
           "white",
           "white",
           "white",
           "black",
           "black",
           "black",
           "white",
           "black"
          ],
          "size": 12
         },
         "textposition": [
          "inside",
          "inside",
          "inside",
          "outside",
          "outside",
          "outside",
          "inside",
          "outside"
         ],
         "type": "bar",
         "x": {
          "bdata": "kiRkglLwNEAlST11TgI1QEkSJsQm2TZAbttQd5RlM0CO43u7KN0xQLdtZsFcWjNAJQmTxKJDNUAjSZmrBqYyQA==",
          "dtype": "f8"
         },
         "xaxis": "x5",
         "y": [
          "Qwen2.5 Base",
          "Qwen2.5 Instruct",
          "Qwen2.5 Coder",
          "Task Arithmetic",
          "DARE Ties",
          "Ties",
          "Slerp",
          "Linear"
         ],
         "yaxis": "y5"
        },
        {
         "cliponaxis": false,
         "hoverinfo": "none",
         "insidetextanchor": "middle",
         "marker": {
          "color": [
           "rgb(100, 149, 237)",
           "rgb(50, 205, 50)",
           "rgb(255, 165, 0)",
           "rgb(192, 192, 192)",
           "rgb(192, 192, 192)",
           "rgb(192, 192, 192)",
           "rgb(192, 192, 192)"
          ]
         },
         "orientation": "h",
         "text": [
          "<b>Qwen2.5 Base</b>: 20.9%",
          "<b>Qwen2.5 Instruct</b>: 21.0%",
          "<b>Qwen2.5 Math</b>: 22.8%",
          "<b>Task Arithmetic</b>: 23.0%",
          "<b>DARE Ties</b>: 22.6%",
          "<b>Slerp</b>: 21.4%",
          "<b>Linear</b>: 23.4%"
         ],
         "textfont": {
          "color": [
           "white",
           "white",
           "white",
           "white",
           "white",
           "white",
           "white"
          ],
          "size": 12
         },
         "textposition": [
          "inside",
          "inside",
          "inside",
          "inside",
          "inside",
          "inside",
          "inside"
         ],
         "type": "bar",
         "x": {
          "bdata": "kiRkglLwNEAlST11TgI1QG5kyUZ3zDZAAEC9pDn+NkC+hI6M+aU2QG7bsPJqXDVAt22xyv1gN0A=",
          "dtype": "f8"
         },
         "xaxis": "x6",
         "y": [
          "Qwen2.5 Base",
          "Qwen2.5 Instruct",
          "Qwen2.5 Math",
          "Task Arithmetic",
          "DARE Ties",
          "Slerp",
          "Linear"
         ],
         "yaxis": "y6"
        },
        {
         "cliponaxis": false,
         "hoverinfo": "none",
         "insidetextanchor": "middle",
         "marker": {
          "color": [
           "rgb(100, 149, 237)",
           "rgb(50, 205, 50)",
           "rgb(255, 165, 0)",
           "rgb(192, 192, 192)",
           "rgb(192, 192, 192)",
           "rgb(192, 192, 192)",
           "rgb(192, 192, 192)",
           "rgb(192, 192, 192)"
          ]
         },
         "orientation": "h",
         "text": [
          "<b>Qwen2.5 Base</b>: 41.8%",
          "<b>Qwen2.5 Instruct</b>: 41.8%",
          "<b>Qwen2.5 Coder</b>: 41.4%",
          "<b>Task Arithmetic</b>: 39.0%",
          "<b>DARE Ties</b>: 40.2%",
          "<b>Ties</b>: 37.7%",
          "<b>Slerp</b>: 43.6%",
          "<b>Linear</b>: 38.1%"
         ],
         "textfont": {
          "color": [
           "white",
           "white",
           "white",
           "white",
           "white",
           "white",
           "white",
           "white"
          ],
          "size": 12
         },
         "textposition": [
          "inside",
          "inside",
          "inside",
          "inside",
          "inside",
          "inside",
          "inside",
          "inside"
         ],
         "type": "bar",
         "x": {
          "bdata": "KK/Br1DhREBeQxn41eBEQK+hPKZWr0RAr6Fc9zx8Q0A2lFf02RxEQFFewzhC2UJAorzmpwvSRUDYUF7R0xJDQA==",
          "dtype": "f8"
         },
         "xaxis": "x7",
         "y": [
          "Qwen2.5 Base",
          "Qwen2.5 Instruct",
          "Qwen2.5 Coder",
          "Task Arithmetic",
          "DARE Ties",
          "Ties",
          "Slerp",
          "Linear"
         ],
         "yaxis": "y7"
        },
        {
         "cliponaxis": false,
         "hoverinfo": "none",
         "insidetextanchor": "middle",
         "marker": {
          "color": [
           "rgb(100, 149, 237)",
           "rgb(50, 205, 50)",
           "rgb(255, 165, 0)",
           "rgb(192, 192, 192)",
           "rgb(192, 192, 192)",
           "rgb(192, 192, 192)",
           "rgb(192, 192, 192)"
          ]
         },
         "orientation": "h",
         "text": [
          "<b>Qwen2.5 Base</b>: 41.8%",
          "<b>Qwen2.5 Instruct</b>: 41.8%",
          "<b>Qwen2.5 Math</b>: 41.4%",
          "<b>Task Arithmetic</b>: 43.9%",
          "<b>DARE Ties</b>: 43.4%",
          "<b>Slerp</b>: 42.1%",
          "<b>Linear</b>: 43.9%"
         ],
         "textfont": {
          "color": [
           "white",
           "white",
           "white",
           "white",
           "white",
           "white",
           "white"
          ],
          "size": 12
         },
         "textposition": [
          "inside",
          "inside",
          "inside",
          "inside",
          "inside",
          "inside",
          "inside"
         ],
         "type": "bar",
         "x": {
          "bdata": "KK/Br1DhREBeQxn41eBEQHkNJc9cr0RAr6GMCLz1RUCivIa1m7JFQDaUF/dRDkVA8xrKPpT5RUA=",
          "dtype": "f8"
         },
         "xaxis": "x8",
         "y": [
          "Qwen2.5 Base",
          "Qwen2.5 Instruct",
          "Qwen2.5 Math",
          "Task Arithmetic",
          "DARE Ties",
          "Slerp",
          "Linear"
         ],
         "yaxis": "y8"
        },
        {
         "cliponaxis": false,
         "hoverinfo": "none",
         "insidetextanchor": "middle",
         "marker": {
          "color": [
           "rgb(100, 149, 237)",
           "rgb(50, 205, 50)",
           "rgb(255, 165, 0)",
           "rgb(192, 192, 192)",
           "rgb(192, 192, 192)",
           "rgb(192, 192, 192)",
           "rgb(192, 192, 192)",
           "rgb(192, 192, 192)"
          ]
         },
         "orientation": "h",
         "text": [
          "<b>Qwen2.5 Base</b>: 40.0%",
          "<b>Qwen2.5 Instruct</b>: 39.8%",
          "<b>Qwen2.5 Coder</b>: 43.0%",
          "<b>Task Arithmetic</b>: 37.3%",
          "<b>DARE Ties</b>: 38.3%",
          "<b>Ties</b>: 38.4%",
          "<b>Slerp</b>: 41.1%",
          "<b>Linear</b>: 36.8%"
         ],
         "textfont": {
          "color": [
           "white",
           "white",
           "white",
           "white",
           "white",
           "white",
           "white",
           "white"
          ],
          "size": 12
         },
         "textposition": [
          "inside",
          "inside",
          "inside",
          "inside",
          "inside",
          "inside",
          "inside",
          "inside"
         ],
         "type": "bar",
         "x": {
          "bdata": "7MSgXgL/Q0CxE1VVHutDQACAisazeUVAFP11COKrQkAn4KlQxSRDQIoZKKJlMkNAxc7qV0qSRECeOAEMiGRCQA==",
          "dtype": "f8"
         },
         "xaxis": "x9",
         "y": [
          "Qwen2.5 Base",
          "Qwen2.5 Instruct",
          "Qwen2.5 Coder",
          "Task Arithmetic",
          "DARE Ties",
          "Ties",
          "Slerp",
          "Linear"
         ],
         "yaxis": "y9"
        },
        {
         "cliponaxis": false,
         "hoverinfo": "none",
         "insidetextanchor": "middle",
         "marker": {
          "color": [
           "rgb(100, 149, 237)",
           "rgb(50, 205, 50)",
           "rgb(255, 165, 0)",
           "rgb(192, 192, 192)",
           "rgb(192, 192, 192)",
           "rgb(192, 192, 192)",
           "rgb(192, 192, 192)"
          ]
         },
         "orientation": "h",
         "text": [
          "<b>Qwen2.5 Base</b>: 40.0%",
          "<b>Qwen2.5 Instruct</b>: 39.8%",
          "<b>Qwen2.5 Math</b>: 39.3%",
          "<b>Task Arithmetic</b>: 42.5%",
          "<b>DARE Ties</b>: 42.1%",
          "<b>Slerp</b>: 41.6%",
          "<b>Linear</b>: 41.8%"
         ],
         "textfont": {
          "color": [
           "white",
           "white",
           "white",
           "white",
           "white",
           "white",
           "white"
          ],
          "size": 12
         },
         "textposition": [
          "inside",
          "inside",
          "inside",
          "inside",
          "inside",
          "inside",
          "inside"
         ],
         "type": "bar",
         "x": {
          "bdata": "7MSgXgL/Q0CxE1VVHutDQJ7Ys8BJo0NAsRNRXr8+RUBP7G7WWw1FQBS7VUt7x0RAnlh5Nx3lREA=",
          "dtype": "f8"
         },
         "xaxis": "x10",
         "y": [
          "Qwen2.5 Base",
          "Qwen2.5 Instruct",
          "Qwen2.5 Math",
          "Task Arithmetic",
          "DARE Ties",
          "Slerp",
          "Linear"
         ],
         "yaxis": "y10"
        },
        {
         "cliponaxis": false,
         "hoverinfo": "none",
         "insidetextanchor": "middle",
         "marker": {
          "color": [
           "rgb(100, 149, 237)",
           "rgb(50, 205, 50)",
           "rgb(255, 165, 0)",
           "rgb(192, 192, 192)",
           "rgb(192, 192, 192)",
           "rgb(192, 192, 192)",
           "rgb(192, 192, 192)",
           "rgb(192, 192, 192)"
          ]
         },
         "orientation": "h",
         "text": [
          "<b>Qwen2.5 Base</b>: 67.2%",
          "<b>Qwen2.5 Instruct</b>: 70.5%",
          "<b>Qwen2.5 Coder</b>: 75.7%",
          "<b>Task Arithmetic</b>: 59.6%",
          "<b>DARE Ties</b>: 63.9%",
          "<b>Ties</b>: 61.7%",
          "<b>Slerp</b>: 74.7%",
          "<b>Linear</b>: 60.4%"
         ],
         "textfont": {
          "color": [
           "white",
           "white",
           "white",
           "white",
           "white",
           "white",
           "white",
           "white"
          ],
          "size": 12
         },
         "textposition": [
          "inside",
          "inside",
          "inside",
          "inside",
          "inside",
          "inside",
          "inside",
          "inside"
         ],
         "type": "bar",
         "x": {
          "bdata": "HMfLwvXMUEAAAFb886JRQAAAd8Lg61JA5DjWuYnPTUCO4/c1Y+5PQHIcX9bD3k5Ax3F+boKqUkDHcUijJzJOQA==",
          "dtype": "f8"
         },
         "xaxis": "x11",
         "y": [
          "Qwen2.5 Base",
          "Qwen2.5 Instruct",
          "Qwen2.5 Coder",
          "Task Arithmetic",
          "DARE Ties",
          "Ties",
          "Slerp",
          "Linear"
         ],
         "yaxis": "y11"
        },
        {
         "cliponaxis": false,
         "hoverinfo": "none",
         "insidetextanchor": "middle",
         "marker": {
          "color": [
           "rgb(100, 149, 237)",
           "rgb(50, 205, 50)",
           "rgb(255, 165, 0)",
           "rgb(192, 192, 192)",
           "rgb(192, 192, 192)",
           "rgb(192, 192, 192)",
           "rgb(192, 192, 192)"
          ]
         },
         "orientation": "h",
         "text": [
          "<b>Qwen2.5 Base</b>: 67.2%",
          "<b>Qwen2.5 Instruct</b>: 70.5%",
          "<b>Qwen2.5 Math</b>: 74.1%",
          "<b>Task Arithmetic</b>: 77.8%",
          "<b>DARE Ties</b>: 78.1%",
          "<b>Slerp</b>: 73.6%",
          "<b>Linear</b>: 78.1%"
         ],
         "textfont": {
          "color": [
           "white",
           "white",
           "white",
           "white",
           "white",
           "white",
           "white"
          ],
          "size": 12
         },
         "textposition": [
          "inside",
          "inside",
          "inside",
          "inside",
          "inside",
          "inside",
          "inside"
         ],
         "type": "bar",
         "x": {
          "bdata": "HMfLwvXMUEAAAFb886JRQMdxwj2YhlJAOQ6Hu59xU0A5joTDvINTQMdxVseEY1JAVVUuog6JU0A=",
          "dtype": "f8"
         },
         "xaxis": "x12",
         "y": [
          "Qwen2.5 Base",
          "Qwen2.5 Instruct",
          "Qwen2.5 Math",
          "Task Arithmetic",
          "DARE Ties",
          "Slerp",
          "Linear"
         ],
         "yaxis": "y12"
        }
       ],
       "layout": {
        "annotations": [
         {
          "font": {
           "size": 16
          },
          "showarrow": false,
          "text": "<b>discourse</b>",
          "x": 0.245,
          "xanchor": "center",
          "xref": "paper",
          "y": 1,
          "yanchor": "bottom",
          "yref": "paper"
         },
         {
          "font": {
           "size": 16
          },
          "showarrow": false,
          "text": "<b>discourse</b>",
          "x": 0.755,
          "xanchor": "center",
          "xref": "paper",
          "y": 1,
          "yanchor": "bottom",
          "yref": "paper"
         },
         {
          "font": {
           "size": 16
          },
          "showarrow": false,
          "text": "<b>morphology</b>",
          "x": 0.245,
          "xanchor": "center",
          "xref": "paper",
          "y": 0.8266666666666667,
          "yanchor": "bottom",
          "yref": "paper"
         },
         {
          "font": {
           "size": 16
          },
          "showarrow": false,
          "text": "<b>morphology</b>",
          "x": 0.755,
          "xanchor": "center",
          "xref": "paper",
          "y": 0.8266666666666667,
          "yanchor": "bottom",
          "yref": "paper"
         },
         {
          "font": {
           "size": 16
          },
          "showarrow": false,
          "text": "<b>nan</b>",
          "x": 0.245,
          "xanchor": "center",
          "xref": "paper",
          "y": 0.6533333333333333,
          "yanchor": "bottom",
          "yref": "paper"
         },
         {
          "font": {
           "size": 16
          },
          "showarrow": false,
          "text": "<b>nan</b>",
          "x": 0.755,
          "xanchor": "center",
          "xref": "paper",
          "y": 0.6533333333333333,
          "yanchor": "bottom",
          "yref": "paper"
         },
         {
          "font": {
           "size": 16
          },
          "showarrow": false,
          "text": "<b>reasoning</b>",
          "x": 0.245,
          "xanchor": "center",
          "xref": "paper",
          "y": 0.48,
          "yanchor": "bottom",
          "yref": "paper"
         },
         {
          "font": {
           "size": 16
          },
          "showarrow": false,
          "text": "<b>reasoning</b>",
          "x": 0.755,
          "xanchor": "center",
          "xref": "paper",
          "y": 0.48,
          "yanchor": "bottom",
          "yref": "paper"
         },
         {
          "font": {
           "size": 16
          },
          "showarrow": false,
          "text": "<b>semantics</b>",
          "x": 0.245,
          "xanchor": "center",
          "xref": "paper",
          "y": 0.30666666666666664,
          "yanchor": "bottom",
          "yref": "paper"
         },
         {
          "font": {
           "size": 16
          },
          "showarrow": false,
          "text": "<b>semantics</b>",
          "x": 0.755,
          "xanchor": "center",
          "xref": "paper",
          "y": 0.30666666666666664,
          "yanchor": "bottom",
          "yref": "paper"
         },
         {
          "font": {
           "size": 16
          },
          "showarrow": false,
          "text": "<b>syntax</b>",
          "x": 0.245,
          "xanchor": "center",
          "xref": "paper",
          "y": 0.13333333333333333,
          "yanchor": "bottom",
          "yref": "paper"
         },
         {
          "font": {
           "size": 16
          },
          "showarrow": false,
          "text": "<b>syntax</b>",
          "x": 0.755,
          "xanchor": "center",
          "xref": "paper",
          "y": 0.13333333333333333,
          "yanchor": "bottom",
          "yref": "paper"
         },
         {
          "font": {
           "size": 20
          },
          "showarrow": false,
          "text": "<b>Coder Experiment</b>",
          "x": 0.25,
          "xref": "paper",
          "y": 1.02,
          "yanchor": "bottom",
          "yref": "paper"
         },
         {
          "font": {
           "size": 20
          },
          "showarrow": false,
          "text": "<b>Math Experiment</b>",
          "x": 0.75,
          "xref": "paper",
          "y": 1.02,
          "yanchor": "bottom",
          "yref": "paper"
         }
        ],
        "font": {
         "size": 18
        },
        "height": 1440,
        "legend": {
         "font": {
          "size": 22
         },
         "title": {
          "font": {
           "size": 24
          }
         }
        },
        "margin": {
         "b": 50,
         "l": 10,
         "r": 10,
         "t": 120
        },
        "plot_bgcolor": "white",
        "shapes": [
         {
          "fillcolor": "rgba(255, 128, 128, 0.2)",
          "layer": "below",
          "line": {
           "width": 0
          },
          "type": "rect",
          "x0": 30.873980096075684,
          "x1": 32.414335109866585,
          "xref": "x",
          "y0": -0.5,
          "y1": 7.5,
          "yref": "y"
         },
         {
          "layer": "above",
          "line": {
           "color": "rgb(50, 205, 50)",
           "dash": "dash",
           "width": 2
          },
          "type": "line",
          "x0": 30.873980096075684,
          "x1": 30.873980096075684,
          "xref": "x",
          "y0": -0.5,
          "y1": 7.5,
          "yref": "y"
         },
         {
          "layer": "above",
          "line": {
           "color": "rgb(255, 165, 0)",
           "dash": "dash",
           "width": 2
          },
          "type": "line",
          "x0": 32.414335109866585,
          "x1": 32.414335109866585,
          "xref": "x",
          "y0": -0.5,
          "y1": 7.5,
          "yref": "y"
         },
         {
          "fillcolor": "rgba(255, 128, 128, 0.2)",
          "layer": "below",
          "line": {
           "width": 0
          },
          "type": "rect",
          "x0": 30.873980096075684,
          "x1": 32.38977997138416,
          "xref": "x2",
          "y0": -0.5,
          "y1": 6.5,
          "yref": "y2"
         },
         {
          "layer": "above",
          "line": {
           "color": "rgb(50, 205, 50)",
           "dash": "dash",
           "width": 2
          },
          "type": "line",
          "x0": 30.873980096075684,
          "x1": 30.873980096075684,
          "xref": "x2",
          "y0": -0.5,
          "y1": 6.5,
          "yref": "y2"
         },
         {
          "layer": "above",
          "line": {
           "color": "rgb(255, 165, 0)",
           "dash": "dash",
           "width": 2
          },
          "type": "line",
          "x0": 32.38977997138416,
          "x1": 32.38977997138416,
          "xref": "x2",
          "y0": -0.5,
          "y1": 6.5,
          "yref": "y2"
         },
         {
          "fillcolor": "rgba(255, 128, 128, 0.2)",
          "layer": "below",
          "line": {
           "width": 0
          },
          "type": "rect",
          "x0": 61.48928535612006,
          "x1": 69.83485766343381,
          "xref": "x3",
          "y0": -0.5,
          "y1": 7.5,
          "yref": "y3"
         },
         {
          "layer": "above",
          "line": {
           "color": "rgb(50, 205, 50)",
           "dash": "dash",
           "width": 2
          },
          "type": "line",
          "x0": 61.48928535612006,
          "x1": 61.48928535612006,
          "xref": "x3",
          "y0": -0.5,
          "y1": 7.5,
          "yref": "y3"
         },
         {
          "layer": "above",
          "line": {
           "color": "rgb(255, 165, 0)",
           "dash": "dash",
           "width": 2
          },
          "type": "line",
          "x0": 69.83485766343381,
          "x1": 69.83485766343381,
          "xref": "x3",
          "y0": -0.5,
          "y1": 7.5,
          "yref": "y3"
         },
         {
          "fillcolor": "rgba(255, 128, 128, 0.2)",
          "layer": "below",
          "line": {
           "width": 0
          },
          "type": "rect",
          "x0": 61.48928535612006,
          "x1": 70.84393118557178,
          "xref": "x4",
          "y0": -0.5,
          "y1": 6.5,
          "yref": "y4"
         },
         {
          "layer": "above",
          "line": {
           "color": "rgb(50, 205, 50)",
           "dash": "dash",
           "width": 2
          },
          "type": "line",
          "x0": 61.48928535612006,
          "x1": 61.48928535612006,
          "xref": "x4",
          "y0": -0.5,
          "y1": 6.5,
          "yref": "y4"
         },
         {
          "layer": "above",
          "line": {
           "color": "rgb(255, 165, 0)",
           "dash": "dash",
           "width": 2
          },
          "type": "line",
          "x0": 70.84393118557178,
          "x1": 70.84393118557178,
          "xref": "x4",
          "y0": -0.5,
          "y1": 6.5,
          "yref": "y4"
         },
         {
          "fillcolor": "rgba(255, 128, 128, 0.2)",
          "layer": "below",
          "line": {
           "width": 0
          },
          "type": "rect",
          "x0": 21.009009673559508,
          "x1": 22.848247775358946,
          "xref": "x5",
          "y0": -0.5,
          "y1": 7.5,
          "yref": "y5"
         },
         {
          "layer": "above",
          "line": {
           "color": "rgb(50, 205, 50)",
           "dash": "dash",
           "width": 2
          },
          "type": "line",
          "x0": 21.009009673559508,
          "x1": 21.009009673559508,
          "xref": "x5",
          "y0": -0.5,
          "y1": 7.5,
          "yref": "y5"
         },
         {
          "layer": "above",
          "line": {
           "color": "rgb(255, 165, 0)",
           "dash": "dash",
           "width": 2
          },
          "type": "line",
          "x0": 22.848247775358946,
          "x1": 22.848247775358946,
          "xref": "x5",
          "y0": -0.5,
          "y1": 7.5,
          "yref": "y5"
         },
         {
          "fillcolor": "rgba(255, 128, 128, 0.2)",
          "layer": "below",
          "line": {
           "width": 0
          },
          "type": "rect",
          "x0": 21.009009673559508,
          "x1": 22.79869501511387,
          "xref": "x6",
          "y0": -0.5,
          "y1": 6.5,
          "yref": "y6"
         },
         {
          "layer": "above",
          "line": {
           "color": "rgb(50, 205, 50)",
           "dash": "dash",
           "width": 2
          },
          "type": "line",
          "x0": 21.009009673559508,
          "x1": 21.009009673559508,
          "xref": "x6",
          "y0": -0.5,
          "y1": 6.5,
          "yref": "y6"
         },
         {
          "layer": "above",
          "line": {
           "color": "rgb(255, 165, 0)",
           "dash": "dash",
           "width": 2
          },
          "type": "line",
          "x0": 22.79869501511387,
          "x1": 22.79869501511387,
          "xref": "x6",
          "y0": -0.5,
          "y1": 6.5,
          "yref": "y6"
         },
         {
          "fillcolor": "rgba(255, 128, 128, 0.2)",
          "layer": "below",
          "line": {
           "width": 0
          },
          "type": "rect",
          "x0": 41.36983182869459,
          "x1": 41.756529819808506,
          "xref": "x7",
          "y0": -0.5,
          "y1": 7.5,
          "yref": "y7"
         },
         {
          "layer": "above",
          "line": {
           "color": "rgb(50, 205, 50)",
           "dash": "dash",
           "width": 2
          },
          "type": "line",
          "x0": 41.756529819808506,
          "x1": 41.756529819808506,
          "xref": "x7",
          "y0": -0.5,
          "y1": 7.5,
          "yref": "y7"
         },
         {
          "layer": "above",
          "line": {
           "color": "rgb(255, 165, 0)",
           "dash": "dash",
           "width": 2
          },
          "type": "line",
          "x0": 41.36983182869459,
          "x1": 41.36983182869459,
          "xref": "x7",
          "y0": -0.5,
          "y1": 7.5,
          "yref": "y7"
         },
         {
          "fillcolor": "rgba(255, 128, 128, 0.2)",
          "layer": "below",
          "line": {
           "width": 0
          },
          "type": "rect",
          "x0": 41.37001981076441,
          "x1": 41.756529819808506,
          "xref": "x8",
          "y0": -0.5,
          "y1": 6.5,
          "yref": "y8"
         },
         {
          "layer": "above",
          "line": {
           "color": "rgb(50, 205, 50)",
           "dash": "dash",
           "width": 2
          },
          "type": "line",
          "x0": 41.756529819808506,
          "x1": 41.756529819808506,
          "xref": "x8",
          "y0": -0.5,
          "y1": 6.5,
          "yref": "y8"
         },
         {
          "layer": "above",
          "line": {
           "color": "rgb(255, 165, 0)",
           "dash": "dash",
           "width": 2
          },
          "type": "line",
          "x0": 41.37001981076441,
          "x1": 41.37001981076441,
          "xref": "x8",
          "y0": -0.5,
          "y1": 6.5,
          "yref": "y8"
         },
         {
          "fillcolor": "rgba(255, 128, 128, 0.2)",
          "layer": "below",
          "line": {
           "width": 0
          },
          "type": "rect",
          "x0": 39.83686319975039,
          "x1": 42.950798814417794,
          "xref": "x9",
          "y0": -0.5,
          "y1": 7.5,
          "yref": "y9"
         },
         {
          "layer": "above",
          "line": {
           "color": "rgb(50, 205, 50)",
           "dash": "dash",
           "width": 2
          },
          "type": "line",
          "x0": 39.83686319975039,
          "x1": 39.83686319975039,
          "xref": "x9",
          "y0": -0.5,
          "y1": 7.5,
          "yref": "y9"
         },
         {
          "layer": "above",
          "line": {
           "color": "rgb(255, 165, 0)",
           "dash": "dash",
           "width": 2
          },
          "type": "line",
          "x0": 42.950798814417794,
          "x1": 42.950798814417794,
          "xref": "x9",
          "y0": -0.5,
          "y1": 7.5,
          "yref": "y9"
         },
         {
          "fillcolor": "rgba(255, 128, 128, 0.2)",
          "layer": "below",
          "line": {
           "width": 0
          },
          "type": "rect",
          "x0": 39.27568825513411,
          "x1": 39.83686319975039,
          "xref": "x10",
          "y0": -0.5,
          "y1": 6.5,
          "yref": "y10"
         },
         {
          "layer": "above",
          "line": {
           "color": "rgb(50, 205, 50)",
           "dash": "dash",
           "width": 2
          },
          "type": "line",
          "x0": 39.83686319975039,
          "x1": 39.83686319975039,
          "xref": "x10",
          "y0": -0.5,
          "y1": 6.5,
          "yref": "y10"
         },
         {
          "layer": "above",
          "line": {
           "color": "rgb(255, 165, 0)",
           "dash": "dash",
           "width": 2
          },
          "type": "line",
          "x0": 39.27568825513411,
          "x1": 39.27568825513411,
          "xref": "x10",
          "y0": -0.5,
          "y1": 6.5,
          "yref": "y10"
         },
         {
          "fillcolor": "rgba(255, 128, 128, 0.2)",
          "layer": "below",
          "line": {
           "width": 0
          },
          "type": "rect",
          "x0": 70.54614170454443,
          "x1": 75.68559323903173,
          "xref": "x11",
          "y0": -0.5,
          "y1": 7.5,
          "yref": "y11"
         },
         {
          "layer": "above",
          "line": {
           "color": "rgb(50, 205, 50)",
           "dash": "dash",
           "width": 2
          },
          "type": "line",
          "x0": 70.54614170454443,
          "x1": 70.54614170454443,
          "xref": "x11",
          "y0": -0.5,
          "y1": 7.5,
          "yref": "y11"
         },
         {
          "layer": "above",
          "line": {
           "color": "rgb(255, 165, 0)",
           "dash": "dash",
           "width": 2
          },
          "type": "line",
          "x0": 75.68559323903173,
          "x1": 75.68559323903173,
          "xref": "x11",
          "y0": -0.5,
          "y1": 7.5,
          "yref": "y11"
         },
         {
          "fillcolor": "rgba(255, 128, 128, 0.2)",
          "layer": "below",
          "line": {
           "width": 0
          },
          "type": "rect",
          "x0": 70.54614170454443,
          "x1": 74.10304206837382,
          "xref": "x12",
          "y0": -0.5,
          "y1": 6.5,
          "yref": "y12"
         },
         {
          "layer": "above",
          "line": {
           "color": "rgb(50, 205, 50)",
           "dash": "dash",
           "width": 2
          },
          "type": "line",
          "x0": 70.54614170454443,
          "x1": 70.54614170454443,
          "xref": "x12",
          "y0": -0.5,
          "y1": 6.5,
          "yref": "y12"
         },
         {
          "layer": "above",
          "line": {
           "color": "rgb(255, 165, 0)",
           "dash": "dash",
           "width": 2
          },
          "type": "line",
          "x0": 74.10304206837382,
          "x1": 74.10304206837382,
          "xref": "x12",
          "y0": -0.5,
          "y1": 6.5,
          "yref": "y12"
         }
        ],
        "showlegend": false,
        "template": {
         "data": {
          "bar": [
           {
            "error_x": {
             "color": "#2a3f5f"
            },
            "error_y": {
             "color": "#2a3f5f"
            },
            "marker": {
             "line": {
              "color": "white",
              "width": 0.5
             },
             "pattern": {
              "fillmode": "overlay",
              "size": 10,
              "solidity": 0.2
             }
            },
            "type": "bar"
           }
          ],
          "barpolar": [
           {
            "marker": {
             "line": {
              "color": "white",
              "width": 0.5
             },
             "pattern": {
              "fillmode": "overlay",
              "size": 10,
              "solidity": 0.2
             }
            },
            "type": "barpolar"
           }
          ],
          "carpet": [
           {
            "aaxis": {
             "endlinecolor": "#2a3f5f",
             "gridcolor": "#C8D4E3",
             "linecolor": "#C8D4E3",
             "minorgridcolor": "#C8D4E3",
             "startlinecolor": "#2a3f5f"
            },
            "baxis": {
             "endlinecolor": "#2a3f5f",
             "gridcolor": "#C8D4E3",
             "linecolor": "#C8D4E3",
             "minorgridcolor": "#C8D4E3",
             "startlinecolor": "#2a3f5f"
            },
            "type": "carpet"
           }
          ],
          "choropleth": [
           {
            "colorbar": {
             "outlinewidth": 0,
             "ticks": ""
            },
            "type": "choropleth"
           }
          ],
          "contour": [
           {
            "colorbar": {
             "outlinewidth": 0,
             "ticks": ""
            },
            "colorscale": [
             [
              0,
              "#0d0887"
             ],
             [
              0.1111111111111111,
              "#46039f"
             ],
             [
              0.2222222222222222,
              "#7201a8"
             ],
             [
              0.3333333333333333,
              "#9c179e"
             ],
             [
              0.4444444444444444,
              "#bd3786"
             ],
             [
              0.5555555555555556,
              "#d8576b"
             ],
             [
              0.6666666666666666,
              "#ed7953"
             ],
             [
              0.7777777777777778,
              "#fb9f3a"
             ],
             [
              0.8888888888888888,
              "#fdca26"
             ],
             [
              1,
              "#f0f921"
             ]
            ],
            "type": "contour"
           }
          ],
          "contourcarpet": [
           {
            "colorbar": {
             "outlinewidth": 0,
             "ticks": ""
            },
            "type": "contourcarpet"
           }
          ],
          "heatmap": [
           {
            "colorbar": {
             "outlinewidth": 0,
             "ticks": ""
            },
            "colorscale": [
             [
              0,
              "#0d0887"
             ],
             [
              0.1111111111111111,
              "#46039f"
             ],
             [
              0.2222222222222222,
              "#7201a8"
             ],
             [
              0.3333333333333333,
              "#9c179e"
             ],
             [
              0.4444444444444444,
              "#bd3786"
             ],
             [
              0.5555555555555556,
              "#d8576b"
             ],
             [
              0.6666666666666666,
              "#ed7953"
             ],
             [
              0.7777777777777778,
              "#fb9f3a"
             ],
             [
              0.8888888888888888,
              "#fdca26"
             ],
             [
              1,
              "#f0f921"
             ]
            ],
            "type": "heatmap"
           }
          ],
          "histogram": [
           {
            "marker": {
             "pattern": {
              "fillmode": "overlay",
              "size": 10,
              "solidity": 0.2
             }
            },
            "type": "histogram"
           }
          ],
          "histogram2d": [
           {
            "colorbar": {
             "outlinewidth": 0,
             "ticks": ""
            },
            "colorscale": [
             [
              0,
              "#0d0887"
             ],
             [
              0.1111111111111111,
              "#46039f"
             ],
             [
              0.2222222222222222,
              "#7201a8"
             ],
             [
              0.3333333333333333,
              "#9c179e"
             ],
             [
              0.4444444444444444,
              "#bd3786"
             ],
             [
              0.5555555555555556,
              "#d8576b"
             ],
             [
              0.6666666666666666,
              "#ed7953"
             ],
             [
              0.7777777777777778,
              "#fb9f3a"
             ],
             [
              0.8888888888888888,
              "#fdca26"
             ],
             [
              1,
              "#f0f921"
             ]
            ],
            "type": "histogram2d"
           }
          ],
          "histogram2dcontour": [
           {
            "colorbar": {
             "outlinewidth": 0,
             "ticks": ""
            },
            "colorscale": [
             [
              0,
              "#0d0887"
             ],
             [
              0.1111111111111111,
              "#46039f"
             ],
             [
              0.2222222222222222,
              "#7201a8"
             ],
             [
              0.3333333333333333,
              "#9c179e"
             ],
             [
              0.4444444444444444,
              "#bd3786"
             ],
             [
              0.5555555555555556,
              "#d8576b"
             ],
             [
              0.6666666666666666,
              "#ed7953"
             ],
             [
              0.7777777777777778,
              "#fb9f3a"
             ],
             [
              0.8888888888888888,
              "#fdca26"
             ],
             [
              1,
              "#f0f921"
             ]
            ],
            "type": "histogram2dcontour"
           }
          ],
          "mesh3d": [
           {
            "colorbar": {
             "outlinewidth": 0,
             "ticks": ""
            },
            "type": "mesh3d"
           }
          ],
          "parcoords": [
           {
            "line": {
             "colorbar": {
              "outlinewidth": 0,
              "ticks": ""
             }
            },
            "type": "parcoords"
           }
          ],
          "pie": [
           {
            "automargin": true,
            "type": "pie"
           }
          ],
          "scatter": [
           {
            "fillpattern": {
             "fillmode": "overlay",
             "size": 10,
             "solidity": 0.2
            },
            "type": "scatter"
           }
          ],
          "scatter3d": [
           {
            "line": {
             "colorbar": {
              "outlinewidth": 0,
              "ticks": ""
             }
            },
            "marker": {
             "colorbar": {
              "outlinewidth": 0,
              "ticks": ""
             }
            },
            "type": "scatter3d"
           }
          ],
          "scattercarpet": [
           {
            "marker": {
             "colorbar": {
              "outlinewidth": 0,
              "ticks": ""
             }
            },
            "type": "scattercarpet"
           }
          ],
          "scattergeo": [
           {
            "marker": {
             "colorbar": {
              "outlinewidth": 0,
              "ticks": ""
             }
            },
            "type": "scattergeo"
           }
          ],
          "scattergl": [
           {
            "marker": {
             "colorbar": {
              "outlinewidth": 0,
              "ticks": ""
             }
            },
            "type": "scattergl"
           }
          ],
          "scattermap": [
           {
            "marker": {
             "colorbar": {
              "outlinewidth": 0,
              "ticks": ""
             }
            },
            "type": "scattermap"
           }
          ],
          "scattermapbox": [
           {
            "marker": {
             "colorbar": {
              "outlinewidth": 0,
              "ticks": ""
             }
            },
            "type": "scattermapbox"
           }
          ],
          "scatterpolar": [
           {
            "marker": {
             "colorbar": {
              "outlinewidth": 0,
              "ticks": ""
             }
            },
            "type": "scatterpolar"
           }
          ],
          "scatterpolargl": [
           {
            "marker": {
             "colorbar": {
              "outlinewidth": 0,
              "ticks": ""
             }
            },
            "type": "scatterpolargl"
           }
          ],
          "scatterternary": [
           {
            "marker": {
             "colorbar": {
              "outlinewidth": 0,
              "ticks": ""
             }
            },
            "type": "scatterternary"
           }
          ],
          "surface": [
           {
            "colorbar": {
             "outlinewidth": 0,
             "ticks": ""
            },
            "colorscale": [
             [
              0,
              "#0d0887"
             ],
             [
              0.1111111111111111,
              "#46039f"
             ],
             [
              0.2222222222222222,
              "#7201a8"
             ],
             [
              0.3333333333333333,
              "#9c179e"
             ],
             [
              0.4444444444444444,
              "#bd3786"
             ],
             [
              0.5555555555555556,
              "#d8576b"
             ],
             [
              0.6666666666666666,
              "#ed7953"
             ],
             [
              0.7777777777777778,
              "#fb9f3a"
             ],
             [
              0.8888888888888888,
              "#fdca26"
             ],
             [
              1,
              "#f0f921"
             ]
            ],
            "type": "surface"
           }
          ],
          "table": [
           {
            "cells": {
             "fill": {
              "color": "#EBF0F8"
             },
             "line": {
              "color": "white"
             }
            },
            "header": {
             "fill": {
              "color": "#C8D4E3"
             },
             "line": {
              "color": "white"
             }
            },
            "type": "table"
           }
          ]
         },
         "layout": {
          "annotationdefaults": {
           "arrowcolor": "#2a3f5f",
           "arrowhead": 0,
           "arrowwidth": 1
          },
          "autotypenumbers": "strict",
          "coloraxis": {
           "colorbar": {
            "outlinewidth": 0,
            "ticks": ""
           }
          },
          "colorscale": {
           "diverging": [
            [
             0,
             "#8e0152"
            ],
            [
             0.1,
             "#c51b7d"
            ],
            [
             0.2,
             "#de77ae"
            ],
            [
             0.3,
             "#f1b6da"
            ],
            [
             0.4,
             "#fde0ef"
            ],
            [
             0.5,
             "#f7f7f7"
            ],
            [
             0.6,
             "#e6f5d0"
            ],
            [
             0.7,
             "#b8e186"
            ],
            [
             0.8,
             "#7fbc41"
            ],
            [
             0.9,
             "#4d9221"
            ],
            [
             1,
             "#276419"
            ]
           ],
           "sequential": [
            [
             0,
             "#0d0887"
            ],
            [
             0.1111111111111111,
             "#46039f"
            ],
            [
             0.2222222222222222,
             "#7201a8"
            ],
            [
             0.3333333333333333,
             "#9c179e"
            ],
            [
             0.4444444444444444,
             "#bd3786"
            ],
            [
             0.5555555555555556,
             "#d8576b"
            ],
            [
             0.6666666666666666,
             "#ed7953"
            ],
            [
             0.7777777777777778,
             "#fb9f3a"
            ],
            [
             0.8888888888888888,
             "#fdca26"
            ],
            [
             1,
             "#f0f921"
            ]
           ],
           "sequentialminus": [
            [
             0,
             "#0d0887"
            ],
            [
             0.1111111111111111,
             "#46039f"
            ],
            [
             0.2222222222222222,
             "#7201a8"
            ],
            [
             0.3333333333333333,
             "#9c179e"
            ],
            [
             0.4444444444444444,
             "#bd3786"
            ],
            [
             0.5555555555555556,
             "#d8576b"
            ],
            [
             0.6666666666666666,
             "#ed7953"
            ],
            [
             0.7777777777777778,
             "#fb9f3a"
            ],
            [
             0.8888888888888888,
             "#fdca26"
            ],
            [
             1,
             "#f0f921"
            ]
           ]
          },
          "colorway": [
           "#636efa",
           "#EF553B",
           "#00cc96",
           "#ab63fa",
           "#FFA15A",
           "#19d3f3",
           "#FF6692",
           "#B6E880",
           "#FF97FF",
           "#FECB52"
          ],
          "font": {
           "color": "#2a3f5f"
          },
          "geo": {
           "bgcolor": "white",
           "lakecolor": "white",
           "landcolor": "white",
           "showlakes": true,
           "showland": true,
           "subunitcolor": "#C8D4E3"
          },
          "hoverlabel": {
           "align": "left"
          },
          "hovermode": "closest",
          "mapbox": {
           "style": "light"
          },
          "paper_bgcolor": "white",
          "plot_bgcolor": "white",
          "polar": {
           "angularaxis": {
            "gridcolor": "#EBF0F8",
            "linecolor": "#EBF0F8",
            "ticks": ""
           },
           "bgcolor": "white",
           "radialaxis": {
            "gridcolor": "#EBF0F8",
            "linecolor": "#EBF0F8",
            "ticks": ""
           }
          },
          "scene": {
           "xaxis": {
            "backgroundcolor": "white",
            "gridcolor": "#DFE8F3",
            "gridwidth": 2,
            "linecolor": "#EBF0F8",
            "showbackground": true,
            "ticks": "",
            "zerolinecolor": "#EBF0F8"
           },
           "yaxis": {
            "backgroundcolor": "white",
            "gridcolor": "#DFE8F3",
            "gridwidth": 2,
            "linecolor": "#EBF0F8",
            "showbackground": true,
            "ticks": "",
            "zerolinecolor": "#EBF0F8"
           },
           "zaxis": {
            "backgroundcolor": "white",
            "gridcolor": "#DFE8F3",
            "gridwidth": 2,
            "linecolor": "#EBF0F8",
            "showbackground": true,
            "ticks": "",
            "zerolinecolor": "#EBF0F8"
           }
          },
          "shapedefaults": {
           "line": {
            "color": "#2a3f5f"
           }
          },
          "ternary": {
           "aaxis": {
            "gridcolor": "#DFE8F3",
            "linecolor": "#A2B1C6",
            "ticks": ""
           },
           "baxis": {
            "gridcolor": "#DFE8F3",
            "linecolor": "#A2B1C6",
            "ticks": ""
           },
           "bgcolor": "white",
           "caxis": {
            "gridcolor": "#DFE8F3",
            "linecolor": "#A2B1C6",
            "ticks": ""
           }
          },
          "title": {
           "x": 0.05
          },
          "xaxis": {
           "automargin": true,
           "gridcolor": "#EBF0F8",
           "linecolor": "#EBF0F8",
           "ticks": "",
           "title": {
            "standoff": 15
           },
           "zerolinecolor": "#EBF0F8",
           "zerolinewidth": 2
          },
          "yaxis": {
           "automargin": true,
           "gridcolor": "#EBF0F8",
           "linecolor": "#EBF0F8",
           "ticks": "",
           "title": {
            "standoff": 15
           },
           "zerolinecolor": "#EBF0F8",
           "zerolinewidth": 2
          }
         }
        },
        "title": {
         "font": {
          "size": 24
         },
         "text": "<b>Mean Absolute Performance by Linguistic Competency: Coder vs. Math Experiments</b>"
        },
        "width": 2000,
        "xaxis": {
         "anchor": "y",
         "domain": [
          0,
          0.49
         ],
         "gridcolor": "LightGray",
         "gridwidth": 1,
         "range": [
          0,
          40.51791888733323
         ],
         "showgrid": true,
         "tickfont": {
          "size": 16
         },
         "title": {
          "font": {
           "size": 18
          }
         },
         "zeroline": false
        },
        "xaxis10": {
         "anchor": "y10",
         "domain": [
          0.51,
          1
         ],
         "gridcolor": "LightGray",
         "gridwidth": 1,
         "range": [
          0,
          53.11276887606184
         ],
         "showgrid": true,
         "zeroline": false
        },
        "xaxis11": {
         "anchor": "y11",
         "domain": [
          0,
          0.49
         ],
         "gridcolor": "LightGray",
         "gridwidth": 1,
         "range": [
          0,
          94.60699154878967
         ],
         "showgrid": true,
         "zeroline": false
        },
        "xaxis12": {
         "anchor": "y12",
         "domain": [
          0.51,
          1
         ],
         "gridcolor": "LightGray",
         "gridwidth": 1,
         "range": [
          0,
          97.67689769893573
         ],
         "showgrid": true,
         "zeroline": false
        },
        "xaxis2": {
         "anchor": "y2",
         "domain": [
          0.51,
          1
         ],
         "gridcolor": "LightGray",
         "gridwidth": 1,
         "range": [
          0,
          40.7298196953399
         ],
         "showgrid": true,
         "zeroline": false
        },
        "xaxis3": {
         "anchor": "y3",
         "domain": [
          0,
          0.49
         ],
         "gridcolor": "LightGray",
         "gridwidth": 1,
         "range": [
          0,
          87.29357207929226
         ],
         "showgrid": true,
         "zeroline": false
        },
        "xaxis4": {
         "anchor": "y4",
         "domain": [
          0.51,
          1
         ],
         "gridcolor": "LightGray",
         "gridwidth": 1,
         "range": [
          0,
          94.35056849922005
         ],
         "showgrid": true,
         "zeroline": false
        },
        "xaxis5": {
         "anchor": "y5",
         "domain": [
          0,
          0.49
         ],
         "gridcolor": "LightGray",
         "gridwidth": 1,
         "range": [
          0,
          28.56030971919868
         ],
         "showgrid": true,
         "zeroline": false
        },
        "xaxis6": {
         "anchor": "y6",
         "domain": [
          0.51,
          1
         ],
         "gridcolor": "LightGray",
         "gridwidth": 1,
         "range": [
          0,
          29.223590693852334
         ],
         "showgrid": true,
         "zeroline": false
        },
        "xaxis7": {
         "anchor": "y7",
         "domain": [
          0,
          0.49
         ],
         "gridcolor": "LightGray",
         "gridwidth": 1,
         "range": [
          0,
          54.55122588594493
         ],
         "showgrid": true,
         "zeroline": false
        },
        "xaxis8": {
         "anchor": "y8",
         "domain": [
          0.51,
          1
         ],
         "gridcolor": "LightGray",
         "gridwidth": 1,
         "range": [
          0,
          54.93729573331382
         ],
         "showgrid": true,
         "zeroline": false
        },
        "xaxis9": {
         "anchor": "y9",
         "domain": [
          0,
          0.49
         ],
         "gridcolor": "LightGray",
         "gridwidth": 1,
         "range": [
          0,
          53.68849851802224
         ],
         "showgrid": true,
         "zeroline": false
        },
        "yaxis": {
         "anchor": "x",
         "categoryarray": [
          "DARE Ties",
          "Linear",
          "Slerp",
          "Task Arithmetic",
          "Ties",
          "Qwen2.5 Coder",
          "Qwen2.5 Instruct",
          "Qwen2.5 Base"
         ],
         "categoryorder": "array",
         "domain": [
          0.8666666666666667,
          1
         ],
         "showticklabels": false,
         "tickfont": {
          "size": 16
         },
         "title": {
          "font": {
           "size": 18
          }
         }
        },
        "yaxis10": {
         "anchor": "x10",
         "categoryarray": [
          "DARE Ties",
          "Linear",
          "Slerp",
          "Task Arithmetic",
          "Qwen2.5 Math",
          "Qwen2.5 Instruct",
          "Qwen2.5 Base"
         ],
         "categoryorder": "array",
         "domain": [
          0.17333333333333334,
          0.30666666666666664
         ],
         "showticklabels": false
        },
        "yaxis11": {
         "anchor": "x11",
         "categoryarray": [
          "DARE Ties",
          "Linear",
          "Slerp",
          "Task Arithmetic",
          "Ties",
          "Qwen2.5 Coder",
          "Qwen2.5 Instruct",
          "Qwen2.5 Base"
         ],
         "categoryorder": "array",
         "domain": [
          0,
          0.13333333333333333
         ],
         "showticklabels": false
        },
        "yaxis12": {
         "anchor": "x12",
         "categoryarray": [
          "DARE Ties",
          "Linear",
          "Slerp",
          "Task Arithmetic",
          "Qwen2.5 Math",
          "Qwen2.5 Instruct",
          "Qwen2.5 Base"
         ],
         "categoryorder": "array",
         "domain": [
          0,
          0.13333333333333333
         ],
         "showticklabels": false
        },
        "yaxis2": {
         "anchor": "x2",
         "categoryarray": [
          "DARE Ties",
          "Linear",
          "Slerp",
          "Task Arithmetic",
          "Qwen2.5 Math",
          "Qwen2.5 Instruct",
          "Qwen2.5 Base"
         ],
         "categoryorder": "array",
         "domain": [
          0.8666666666666667,
          1
         ],
         "showticklabels": false
        },
        "yaxis3": {
         "anchor": "x3",
         "categoryarray": [
          "DARE Ties",
          "Linear",
          "Slerp",
          "Task Arithmetic",
          "Ties",
          "Qwen2.5 Coder",
          "Qwen2.5 Instruct",
          "Qwen2.5 Base"
         ],
         "categoryorder": "array",
         "domain": [
          0.6933333333333334,
          0.8266666666666667
         ],
         "showticklabels": false
        },
        "yaxis4": {
         "anchor": "x4",
         "categoryarray": [
          "DARE Ties",
          "Linear",
          "Slerp",
          "Task Arithmetic",
          "Qwen2.5 Math",
          "Qwen2.5 Instruct",
          "Qwen2.5 Base"
         ],
         "categoryorder": "array",
         "domain": [
          0.6933333333333334,
          0.8266666666666667
         ],
         "showticklabels": false
        },
        "yaxis5": {
         "anchor": "x5",
         "categoryarray": [
          "DARE Ties",
          "Linear",
          "Slerp",
          "Task Arithmetic",
          "Ties",
          "Qwen2.5 Coder",
          "Qwen2.5 Instruct",
          "Qwen2.5 Base"
         ],
         "categoryorder": "array",
         "domain": [
          0.52,
          0.6533333333333333
         ],
         "showticklabels": false
        },
        "yaxis6": {
         "anchor": "x6",
         "categoryarray": [
          "DARE Ties",
          "Linear",
          "Slerp",
          "Task Arithmetic",
          "Qwen2.5 Math",
          "Qwen2.5 Instruct",
          "Qwen2.5 Base"
         ],
         "categoryorder": "array",
         "domain": [
          0.52,
          0.6533333333333333
         ],
         "showticklabels": false
        },
        "yaxis7": {
         "anchor": "x7",
         "categoryarray": [
          "DARE Ties",
          "Linear",
          "Slerp",
          "Task Arithmetic",
          "Ties",
          "Qwen2.5 Coder",
          "Qwen2.5 Instruct",
          "Qwen2.5 Base"
         ],
         "categoryorder": "array",
         "domain": [
          0.3466666666666667,
          0.48
         ],
         "showticklabels": false
        },
        "yaxis8": {
         "anchor": "x8",
         "categoryarray": [
          "DARE Ties",
          "Linear",
          "Slerp",
          "Task Arithmetic",
          "Qwen2.5 Math",
          "Qwen2.5 Instruct",
          "Qwen2.5 Base"
         ],
         "categoryorder": "array",
         "domain": [
          0.3466666666666667,
          0.48
         ],
         "showticklabels": false
        },
        "yaxis9": {
         "anchor": "x9",
         "categoryarray": [
          "DARE Ties",
          "Linear",
          "Slerp",
          "Task Arithmetic",
          "Ties",
          "Qwen2.5 Coder",
          "Qwen2.5 Instruct",
          "Qwen2.5 Base"
         ],
         "categoryorder": "array",
         "domain": [
          0.17333333333333334,
          0.30666666666666664
         ],
         "showticklabels": false
        }
       }
      }
     },
     "metadata": {},
     "output_type": "display_data"
    },
    {
     "name": "stdout",
     "output_type": "stream",
     "text": [
      "Generated combined plot: Mean Absolute Performance by Linguistic Competency\n",
      "Exported combined plot data to: plot_data_csv_exports/combined_performance_coder_vs_math.csv\n",
      "\n",
      "--- Script Finished ---\n"
     ]
    }
   ],
   "source": [
    "# -*- coding: utf-8 -*-\n",
    "\n",
    "import os\n",
    "import numpy as np\n",
    "import pandas as pd\n",
    "from sklearn.metrics.pairwise import cosine_similarity, euclidean_distances, manhattan_distances\n",
    "from scipy.cluster.hierarchy import linkage, leaves_list\n",
    "from scipy.spatial.distance import pdist\n",
    "from sklearn.preprocessing import StandardScaler\n",
    "from collections import defaultdict\n",
    "import plotly.express as px\n",
    "import plotly.graph_objects as go\n",
    "import plotly.figure_factory as ff\n",
    "from plotly.subplots import make_subplots\n",
    "import plotly.io as pio\n",
    "import re # Added for cleaning plot names\n",
    "import json # Added to handle potential JSON loading if paths were used\n",
    "\n",
    "# Set default plotly template for better aesthetics\n",
    "pio.templates.default = \"plotly_white\"\n",
    "\n",
    "# Create directory for CSV exports if it doesn't exist\n",
    "csv_export_dir = \"plot_data_csv_exports\"\n",
    "os.makedirs(csv_export_dir, exist_ok=True)\n",
    "\n",
    "# --- Helper function for cleaning model names for plots ---\n",
    "def clean_plot_name(name):\n",
    "    \"\"\"Cleans model names for display in plots.\"\"\"\n",
    "    if name is None: # Handle potential None input\n",
    "        return \"Unknown\"\n",
    "    name_str = str(name)\n",
    "\n",
    "    # For merged models, remove the trailing _XX\n",
    "    # This condition handles names like \"Linear_24\" -> \"Linear\"\n",
    "    if not name_str.startswith(\"Qwen2.5\"):\n",
    "        name_str = re.sub(r'_\\d+$', '', name_str)\n",
    "    return name_str\n",
    "\n",
    "# --- Font configuration for plots ---\n",
    "font_config = {\n",
    "    \"title_font_size\": 24,\n",
    "    \"font_size\": 18,\n",
    "    \"xaxis_title_font_size\": 18,\n",
    "    \"yaxis_title_font_size\": 18,\n",
    "    \"xaxis_tickfont_size\": 16,\n",
    "    \"yaxis_tickfont_size\": 16,\n",
    "    \"legend_title_font_size\": 24,\n",
    "    \"legend_font_size\": 22,\n",
    "}\n",
    "\n",
    "# --- Default Plot Dimensions ---\n",
    "default_plot_height = 520\n",
    "default_plot_width = 2300\n",
    "\n",
    "# --- Helper Function from process_results.py (adapted) ---\n",
    "def process_frame(frame):\n",
    "    \"\"\"\n",
    "    Processes the DataFrame by selecting relevant columns,\n",
    "    handling potential renaming and grouping data.\n",
    "    \"\"\"\n",
    "    if \"Unnamed: 0\" in frame.columns:\n",
    "        del frame[\"Unnamed: 0\"]\n",
    "\n",
    "    # Standardize column names for linguistic competencies\n",
    "    if \"linguistic subfield\" in frame.columns and \"linguistic competencies\" not in frame.columns:\n",
    "        frame[\"linguistic competencies\"] = frame[\"linguistic subfield\"]\n",
    "        del frame[\"linguistic subfield\"]\n",
    "    elif \"linguistic subfield\" in frame.columns and \"linguistic competencies\" in frame.columns:\n",
    "        del frame[\"linguistic subfield\"]\n",
    "    return frame\n",
    "\n",
    "# --- Core Analysis Function ---\n",
    "def run_analysis_for_experiment(experiment_name, models, short_names, abs_data_file, group_data_file,\n",
    "                                main_task_col, subtask_col, subtask_group_col, subtask_phenomena_col):\n",
    "    \"\"\"\n",
    "    Runs the full data loading and analysis pipeline for a given experiment.\n",
    "    Returns the processed summary and subtasks dataframes.\n",
    "    \"\"\"\n",
    "    print(\"\\n\" + \"=\"*30)\n",
    "    print(f\" PROCESSING EXPERIMENT: {experiment_name.upper()} \")\n",
    "    print(\"=\"*30 + \"\\n\")\n",
    "\n",
    "    # --- 1. Model Categorization ---\n",
    "    instruct_model = None\n",
    "    specialist_model = None # Coder or Math model\n",
    "    merged_models = []\n",
    "    base_model = None\n",
    "\n",
    "    for m_full_name in models:\n",
    "        m_short = short_names.get(m_full_name, \"\")\n",
    "        is_instruct = (m_short == \"Qwen2.5 Instruct\")\n",
    "        is_specialist = (m_short.startswith(\"Qwen2.5 Coder\") or m_short.startswith(\"Qwen2.5 Math\"))\n",
    "        is_base = (m_short == \"Qwen2.5 Base\")\n",
    "        is_merged = not (is_instruct or is_specialist or is_base)\n",
    "\n",
    "        if is_instruct:\n",
    "            instruct_model = m_full_name\n",
    "        elif is_specialist:\n",
    "            specialist_model = m_full_name\n",
    "        elif is_base:\n",
    "            base_model = m_full_name\n",
    "        elif is_merged:\n",
    "            if m_full_name in models:\n",
    "                merged_models.append(m_full_name)\n",
    "\n",
    "    if not instruct_model: print(\"CRITICAL ERROR: Instruct model not identified.\"); exit()\n",
    "    if not specialist_model: print(f\"CRITICAL ERROR: Specialist model for {experiment_name} not identified.\"); exit()\n",
    "\n",
    "    print(f\"--- Model Categorization ({experiment_name}) ---\")\n",
    "    if base_model: print(f\"Base Model: {base_model} ({short_names.get(base_model, 'N/A')})\")\n",
    "    print(f\"Instruct Model: {instruct_model} ({short_names.get(instruct_model, 'N/A')})\")\n",
    "    print(f\"Specialist Model: {specialist_model} ({short_names.get(specialist_model, 'N/A')})\")\n",
    "    print(f\"Merged Models ({len(merged_models)}):\")\n",
    "    for m in merged_models: print(f\"  - {m} ({short_names.get(m, 'N/A')})\")\n",
    "    print(\"-\" * 25)\n",
    "\n",
    "    comparison_models_ordered = []\n",
    "    if base_model: comparison_models_ordered.append(base_model)\n",
    "    if instruct_model: comparison_models_ordered.append(instruct_model)\n",
    "    if specialist_model: comparison_models_ordered.append(specialist_model)\n",
    "    comparison_models_ordered.extend([m for m in merged_models if m])\n",
    "    comparison_models = list(dict.fromkeys(m for m in comparison_models_ordered if m))\n",
    "    print(f\"Models for comparison: {[clean_plot_name(short_names.get(m, m)) for m in comparison_models]}\")\n",
    "    print(\"-\" * 25)\n",
    "\n",
    "    # --- 2. Data Loading ---\n",
    "    def load_data_from_csv(abs_filepath, group_filepath, model_list):\n",
    "        try:\n",
    "            raw_abs_df = pd.read_csv(abs_filepath)\n",
    "        except FileNotFoundError:\n",
    "            print(f\"Error: Absolute scores file not found at {abs_filepath}\")\n",
    "            return pd.DataFrame(), pd.DataFrame()\n",
    "\n",
    "        if \"Unnamed: 0\" in raw_abs_df.columns:\n",
    "            del raw_abs_df[\"Unnamed: 0\"]\n",
    "\n",
    "        raw_abs_df.rename(columns={'probing_dataset': 'subtask_cleaned', 'model_name': 'model'}, inplace=True)\n",
    "        raw_abs_df = raw_abs_df[raw_abs_df['encoding'] == 'full'].copy()\n",
    "        raw_abs_df['score'] = pd.to_numeric(raw_abs_df['score'], errors='coerce')\n",
    "        abs_df_grouped = raw_abs_df.groupby(['subtask_cleaned', 'model'])['score'].mean().reset_index()\n",
    "        abs_pivot_df = abs_df_grouped.pivot_table(index='subtask_cleaned', columns='model', values='score').reset_index()\n",
    "\n",
    "        for model_col in model_list:\n",
    "            if model_col not in abs_pivot_df.columns:\n",
    "                abs_pivot_df[model_col] = np.nan\n",
    "\n",
    "        cols_to_keep_abs = ['subtask_cleaned'] + [m for m in model_list if m in abs_pivot_df.columns]\n",
    "        abs_final_df = abs_pivot_df[cols_to_keep_abs].copy()\n",
    "\n",
    "        try:\n",
    "            raw_group_df = pd.read_csv(group_filepath)\n",
    "        except FileNotFoundError:\n",
    "            print(f\"Error: Group info file not found at {group_filepath}.\")\n",
    "            return pd.DataFrame(), abs_final_df\n",
    "\n",
    "        group_df_processed = process_frame(raw_group_df.copy())\n",
    "        rename_map_group = {\n",
    "            subtask_col: 'subtask_cleaned',\n",
    "            subtask_group_col: 'group',\n",
    "            main_task_col: 'main_task_category'\n",
    "        }\n",
    "        group_df_processed.rename(columns=rename_map_group, inplace=True)\n",
    "        \n",
    "        id_cols_group = ['main_task_category', 'subtask_cleaned', 'group']\n",
    "        id_cols_group_present = [col for col in id_cols_group if col in group_df_processed.columns]\n",
    "        group_info_to_merge = group_df_processed[id_cols_group_present].drop_duplicates(subset=['subtask_cleaned'])\n",
    "        \n",
    "        subtasks_df = pd.merge(abs_final_df, group_info_to_merge, on='subtask_cleaned', how='left')\n",
    "\n",
    "        models_in_subtasks_df = [m for m in model_list if m in subtasks_df.columns]\n",
    "        for model_col in models_in_subtasks_df:\n",
    "            subtasks_df[model_col] = pd.to_numeric(subtasks_df[model_col], errors='coerce') * 100\n",
    "\n",
    "        summary_df = pd.DataFrame()\n",
    "        # CORRECTED: Group by the 'group' column which corresponds to 'linguistic competencies' for the summary\n",
    "        if 'group' in subtasks_df.columns and models_in_subtasks_df:\n",
    "            # UPDATED LOGIC: Filter out tasks that couldn't be mapped to a competency group (where 'group' is NaN)\n",
    "            known_subtasks = subtasks_df.dropna(subset=['group']).copy()\n",
    "            \n",
    "            # Additional check to remove any literal 'nan' strings if they exist after conversion\n",
    "            known_subtasks = known_subtasks[known_subtasks['group'].astype(str).str.lower() != 'nan']\n",
    "\n",
    "            if not known_subtasks.empty:\n",
    "                summary_df = known_subtasks.groupby('group')[models_in_subtasks_df].mean()\n",
    "                # Rename the index to 'main_task_category' as the rest of the script expects this name\n",
    "                summary_df.index.name = 'main_task_category'\n",
    "        \n",
    "        return summary_df, subtasks_df\n",
    "\n",
    "    summary_df, subtasks_df = load_data_from_csv(abs_data_file, group_data_file, comparison_models)\n",
    "\n",
    "    print(f\"\\n--- Summary DataFrame ({experiment_name}) ---\")\n",
    "    if not summary_df.empty: print(summary_df.head())\n",
    "    else: print(\"Summary DataFrame is empty.\")\n",
    "    print(\"-\" * 50)\n",
    "    \n",
    "    return summary_df, subtasks_df, comparison_models, instruct_model, specialist_model, base_model\n",
    "\n",
    "# --- Configuration ---\n",
    "abs_data_file = \"results_flash-holmes.csv\"\n",
    "group_data_file = \"transformed_results.csv\"\n",
    "MAIN_TASK_COL = \"probing dataset\"\n",
    "SUBTASK_COL = \"probe\"\n",
    "SUBTASK_GROUP_COL = \"linguistic competencies\"\n",
    "SUBTASK_PHENOMENA_COL = \"linguistic phenomena\"\n",
    "\n",
    "# --- CODER Experiment Config ---\n",
    "# Please define the models and their short names here, which you want to analyze.\n",
    "models_coder = [\n",
    "    \"Qwen__Qwen2.5-7B\", \"Qwen__Qwen2.5-7B-Instruct\", \"Qwen__Qwen2.5-Coder-7B\",\n",
    "    \"_username___Qwen2.5-7B-Instruct-Qwen2.5-Coder-7B-Merged-task_arithmetic-29\",\n",
    "    \"_username___Qwen2.5-7B-Instruct-Qwen2.5-Coder-7B-Merged-dare_ties-29\",\n",
    "    \"_username___Qwen2.5-7B-Instruct-Qwen2.5-Coder-7B-Merged-ties-29\",\n",
    "    \"_username___Qwen2.5-7B-Instruct-Qwen2.5-Coder-7B-Merged-slerp-29\",\n",
    "    \"_username___Qwen2.5-7B-Instruct-Qwen2.5-Coder-7B-Merged-linear-29\"\n",
    "]\n",
    "short_names_coder = {\n",
    "    \"Qwen__Qwen2.5-7B\": \"Qwen2.5 Base\",\n",
    "    \"Qwen__Qwen2.5-7B-Instruct\": \"Qwen2.5 Instruct\",\n",
    "    \"Qwen__Qwen2.5-Coder-7B\": \"Qwen2.5 Coder\",\n",
    "    \"_username___Qwen2.5-7B-Instruct-Qwen2.5-Coder-7B-Merged-task_arithmetic-29\": \"Task Arithmetic_29\",\n",
    "    \"_username___Qwen2.5-7B-Instruct-Qwen2.5-Coder-7B-Merged-dare_ties-29\": \"DARE Ties_29\",\n",
    "    \"_username___Qwen2.5-7B-Instruct-Qwen2.5-Coder-7B-Merged-ties-29\": \"Ties_29\",\n",
    "    \"_username___Qwen2.5-7B-Instruct-Qwen2.5-Coder-7B-Merged-slerp-29\": \"Slerp_29\",\n",
    "    \"_username___Qwen2.5-7B-Instruct-Qwen2.5-Coder-7B-Merged-linear-29\": \"Linear_29\"\n",
    "}\n",
    "\n",
    "# --- MATH Experiment Config ---\n",
    "# Please define the models and their short names here, which you want to analyze.\n",
    "models_math = [\n",
    "    \"Qwen__Qwen2.5-7B\", \"Qwen__Qwen2.5-7B-Instruct\", \"Qwen__Qwen2.5-Math-7B\",\n",
    "    \"_username___Qwen2.5-7B-Instruct-Qwen2.5-Math-7B-Merged-task_arithmetic-26\",\n",
    "    \"_username___Qwen2.5-7B-Instruct-Qwen2.5-Math-7B-Merged-dare_ties-27\",\n",
    "    \"_username___Qwen2.5-7B-Instruct-Qwen2.5-Math-7B-Merged-ties-26\",\n",
    "    \"_username___Qwen2.5-7B-Instruct-Qwen2.5-Math-7B-Merged-slerp-24\",\n",
    "    \"_username___Qwen2.5-7B-Instruct-Qwen2.5-Math-7B-Merged-linear-24\"\n",
    "]\n",
    "short_names_math = {\n",
    "    \"Qwen__Qwen2.5-7B\": \"Qwen2.5 Base\",\n",
    "    \"Qwen__Qwen2.5-7B-Instruct\": \"Qwen2.5 Instruct\",\n",
    "    \"Qwen__Qwen2.5-Math-7B\": \"Qwen2.5 Math\",\n",
    "    \"_username___Qwen2.5-7B-Instruct-Qwen2.5-Math-7B-Merged-task_arithmetic-26\": \"Task Arithmetic_26\",\n",
    "    \"_username___Qwen2.5-7B-Instruct-Qwen2.5-Math-7B-Merged-dare_ties-27\": \"DARE Ties_27\",\n",
    "    \"_username___Qwen2.5-7B-Instruct-Qwen2.5-Math-7B-Merged-ties-26\": \"Ties_26\",\n",
    "    \"_username___Qwen2.5-7B-Instruct-Qwen2.5-Math-7B-Merged-slerp-24\": \"Slerp_24\",\n",
    "    \"_username___Qwen2.5-7B-Instruct-Qwen2.5-Math-7B-Merged-linear-24\": \"Linear_24\"\n",
    "}\n",
    "\n",
    "# --- Run Analysis for Both Experiments ---\n",
    "summary_df_coder, _, comparison_models_coder, instruct_model_coder, specialist_model_coder, base_model_coder = run_analysis_for_experiment(\n",
    "    \"Coder\", models_coder, short_names_coder, abs_data_file, group_data_file, MAIN_TASK_COL, SUBTASK_COL, SUBTASK_GROUP_COL, SUBTASK_PHENOMENA_COL\n",
    ")\n",
    "summary_df_math, _, comparison_models_math, instruct_model_math, specialist_model_math, base_model_math = run_analysis_for_experiment(\n",
    "    \"Math\", models_math, short_names_math, abs_data_file, group_data_file, MAIN_TASK_COL, SUBTASK_COL, SUBTASK_GROUP_COL, SUBTASK_PHENOMENA_COL\n",
    ")\n",
    "\n",
    "# --- Combined Plotting Section ---\n",
    "print(\"\\n\" + \"=\"*30)\n",
    "print(\" GENERATING COMBINED PLOT \")\n",
    "print(\"=\"*30 + \"\\n\")\n",
    "\n",
    "def prepare_plot_data(df, comparison_models, short_names_map, base_model, instruct_model, specialist_model):\n",
    "    \"\"\"Prepares data for the combined faceted plot from a summary dataframe.\"\"\"\n",
    "    if df.empty:\n",
    "        return pd.DataFrame()\n",
    "        \n",
    "    models_to_plot = [m for m in comparison_models if m in df.columns and not df[m].isna().all()]\n",
    "    \n",
    "    # Melt the dataframe to long format\n",
    "    df_melted = df.reset_index().melt(\n",
    "        id_vars='main_task_category', \n",
    "        value_vars=models_to_plot,\n",
    "        var_name='model_full_name',\n",
    "        value_name='Score'\n",
    "    )\n",
    "    df_melted.rename(columns={'main_task_category': 'Task'}, inplace=True)\n",
    "\n",
    "    # Map short names and model types\n",
    "    df_melted['Model Short Name'] = df_melted['model_full_name'].map(lambda x: clean_plot_name(short_names_map.get(x, x)))\n",
    "    \n",
    "    def get_model_type(full_name):\n",
    "        if full_name == base_model: return \"Base\"\n",
    "        if full_name == instruct_model: return \"Instruct\"\n",
    "        if full_name == specialist_model: return \"Specialist\"\n",
    "        return \"Merged\"\n",
    "        \n",
    "    df_melted['Model Type'] = df_melted['model_full_name'].apply(get_model_type)\n",
    "    \n",
    "    return df_melted\n",
    "\n",
    "# Prepare data for both experiments\n",
    "plot_df_coder = prepare_plot_data(summary_df_coder, comparison_models_coder, short_names_coder, base_model_coder, instruct_model_coder, specialist_model_coder)\n",
    "plot_df_math = prepare_plot_data(summary_df_math, comparison_models_math, short_names_math, base_model_math, instruct_model_math, specialist_model_math)\n",
    "\n",
    "# Define model order with core models at the bottom\n",
    "all_tasks = sorted(list(set(plot_df_coder['Task'].unique()) | set(plot_df_math['Task'].unique())))\n",
    "\n",
    "# For Coder plot y-axis order\n",
    "all_coder_models = plot_df_coder['Model Short Name'].unique()\n",
    "core_coder = ['Qwen2.5 Base', 'Qwen2.5 Instruct', 'Qwen2.5 Coder']\n",
    "core_coder_present = [m for m in core_coder if m in all_coder_models]\n",
    "merged_coder = sorted([m for m in all_coder_models if m not in core_coder_present])\n",
    "models_coder_plot_order = merged_coder + core_coder_present[::-1] # Reverse core for bottom display\n",
    "\n",
    "# For Math plot y-axis order\n",
    "all_math_models = plot_df_math['Model Short Name'].unique()\n",
    "core_math = ['Qwen2.5 Base', 'Qwen2.5 Instruct', 'Qwen2.5 Math']\n",
    "core_math_present = [m for m in core_math if m in all_math_models]\n",
    "merged_math = sorted([m for m in all_math_models if m not in core_math_present])\n",
    "models_math_plot_order = merged_math + core_math_present[::-1] # Reverse core for bottom display\n",
    "\n",
    "\n",
    "if not all_tasks or (plot_df_coder.empty and plot_df_math.empty):\n",
    "    print(\"No data available to generate the combined plot. Exiting plot generation.\")\n",
    "else:\n",
    "    # UPDATED: Create subplot titles for each competency\n",
    "    subplot_titles = [f\"<b>{task}</b>\" for task in all_tasks for _ in (1,2)]\n",
    "    \n",
    "    fig = make_subplots(\n",
    "        rows=len(all_tasks),\n",
    "        cols=2,\n",
    "        subplot_titles=subplot_titles,\n",
    "        horizontal_spacing=0.02,\n",
    "        vertical_spacing=0.04 # Reduced spacing\n",
    "    )\n",
    "\n",
    "    color_map = {\n",
    "        \"Base\": 'rgb(100, 149, 237)',\n",
    "        \"Instruct\": 'rgb(50, 205, 50)',\n",
    "        \"Specialist\": 'rgb(255, 165, 0)',\n",
    "        \"Merged\": 'rgb(192, 192, 192)'\n",
    "    }\n",
    "    \n",
    "    # Loop through each task to create a row of subplots\n",
    "    for i, task in enumerate(all_tasks):\n",
    "        row_num = i + 1\n",
    "        \n",
    "        # --- Column 1: Coder ---\n",
    "        df_c = plot_df_coder[plot_df_coder['Task'] == task]\n",
    "        if not df_c.empty:\n",
    "            # Text styling logic\n",
    "            text_threshold = 20\n",
    "            text_positions = ['outside' if score < text_threshold else 'inside' for score in df_c['Score']]\n",
    "            text_colors = ['black' if score < text_threshold else 'white' for score in df_c['Score']]\n",
    "\n",
    "            fig.add_trace(go.Bar(\n",
    "                y=df_c['Model Short Name'],\n",
    "                x=df_c['Score'],\n",
    "                marker_color=[color_map.get(t) for t in df_c['Model Type']],\n",
    "                orientation='h',\n",
    "                text=df_c.apply(lambda row: f\"<b>{row['Model Short Name']}</b>: {row['Score']:.1f}%\", axis=1),\n",
    "                textposition=text_positions,\n",
    "                textfont=dict(size=12, color=text_colors),\n",
    "                insidetextanchor='middle',\n",
    "                cliponaxis=False,\n",
    "                hoverinfo='none'\n",
    "            ), row=row_num, col=1)\n",
    "            \n",
    "            instruct_score = summary_df_coder.loc[task, instruct_model_coder] if task in summary_df_coder.index else np.nan\n",
    "            specialist_score = summary_df_coder.loc[task, specialist_model_coder] if task in summary_df_coder.index else np.nan\n",
    "            \n",
    "            if pd.notna(instruct_score) and pd.notna(specialist_score):\n",
    "                fig.add_shape(type=\"rect\", x0=min(instruct_score, specialist_score), x1=max(instruct_score, specialist_score), y0=-0.5, y1=len(models_coder_plot_order)-0.5, fillcolor=\"rgba(255, 128, 128, 0.2)\", line_width=0, layer=\"below\", row=row_num, col=1)\n",
    "                fig.add_shape(type=\"line\", x0=instruct_score, x1=instruct_score, y0=-0.5, y1=len(models_coder_plot_order)-0.5, line=dict(color=color_map['Instruct'], dash=\"dash\", width=2), layer=\"above\", row=row_num, col=1)\n",
    "                fig.add_shape(type=\"line\", x0=specialist_score, x1=specialist_score, y0=-0.5, y1=len(models_coder_plot_order)-0.5, line=dict(color=color_map['Specialist'], dash=\"dash\", width=2), layer=\"above\", row=row_num, col=1)\n",
    "\n",
    "            max_score_c = df_c['Score'].max()\n",
    "            fig.update_xaxes(range=[0, max_score_c * 1.25], row=row_num, col=1)\n",
    "\n",
    "        # --- Column 2: Math ---\n",
    "        df_m = plot_df_math[plot_df_math['Task'] == task]\n",
    "        if not df_m.empty:\n",
    "            # Text styling logic\n",
    "            text_threshold = 20\n",
    "            text_positions = ['outside' if score < text_threshold else 'inside' for score in df_m['Score']]\n",
    "            text_colors = ['black' if score < text_threshold else 'white' for score in df_m['Score']]\n",
    "\n",
    "            fig.add_trace(go.Bar(\n",
    "                y=df_m['Model Short Name'],\n",
    "                x=df_m['Score'],\n",
    "                marker_color=[color_map.get(t) for t in df_m['Model Type']],\n",
    "                orientation='h',\n",
    "                text=df_m.apply(lambda row: f\"<b>{row['Model Short Name']}</b>: {row['Score']:.1f}%\", axis=1),\n",
    "                textposition=text_positions,\n",
    "                textfont=dict(size=12, color=text_colors),\n",
    "                insidetextanchor='middle',\n",
    "                cliponaxis=False,\n",
    "                hoverinfo='none'\n",
    "            ), row=row_num, col=2)\n",
    "\n",
    "            instruct_score = summary_df_math.loc[task, instruct_model_math] if task in summary_df_math.index else np.nan\n",
    "            specialist_score = summary_df_math.loc[task, specialist_model_math] if task in summary_df_math.index else np.nan\n",
    "\n",
    "            if pd.notna(instruct_score) and pd.notna(specialist_score):\n",
    "                fig.add_shape(type=\"rect\", x0=min(instruct_score, specialist_score), x1=max(instruct_score, specialist_score), y0=-0.5, y1=len(models_math_plot_order)-0.5, fillcolor=\"rgba(255, 128, 128, 0.2)\", line_width=0, layer=\"below\", row=row_num, col=2)\n",
    "                fig.add_shape(type=\"line\", x0=instruct_score, x1=instruct_score, y0=-0.5, y1=len(models_math_plot_order)-0.5, line=dict(color=color_map['Instruct'], dash=\"dash\", width=2), layer=\"above\", row=row_num, col=2)\n",
    "                fig.add_shape(type=\"line\", x0=specialist_score, x1=specialist_score, y0=-0.5, y1=len(models_math_plot_order)-0.5, line=dict(color=color_map['Specialist'], dash=\"dash\", width=2), layer=\"above\", row=row_num, col=2)\n",
    "\n",
    "            max_score_m = df_m['Score'].max()\n",
    "            fig.update_xaxes(range=[0, max_score_m * 1.25], row=row_num, col=2)\n",
    "\n",
    "    # Update layout for the entire figure\n",
    "    # UPDATED: Increased height per bar and adjusted facet height calculation\n",
    "    height_per_facet = max(len(models_coder_plot_order), len(models_math_plot_order)) * 25 + 40 \n",
    "    total_height = height_per_facet * len(all_tasks)\n",
    "\n",
    "    fig.update_layout(\n",
    "        title_text='<b>Mean Absolute Performance by Linguistic Competency: Coder vs. Math Experiments</b>',\n",
    "        height=total_height,\n",
    "        width=2000,\n",
    "        showlegend=False,\n",
    "        margin=dict(t=120, l=10, r=10, b=50), # Increased top margin for titles\n",
    "        plot_bgcolor='white',\n",
    "        **font_config\n",
    "    )\n",
    "\n",
    "    # Update all axes and text properties\n",
    "    fig.update_yaxes(categoryorder='array', categoryarray=models_coder_plot_order, showticklabels=False, col=1)\n",
    "    fig.update_yaxes(categoryorder='array', categoryarray=models_math_plot_order, showticklabels=False, col=2)\n",
    "    fig.update_xaxes(showgrid=True, gridwidth=1, gridcolor='LightGray', zeroline=False)\n",
    "    \n",
    "    # Format subplot titles\n",
    "    fig.for_each_annotation(lambda a: a.update(font=dict(size=16)))\n",
    "    \n",
    "    # Add main column titles\n",
    "    fig.add_annotation(x=0.25, y=1.02, yanchor='bottom', text=\"<b>Coder Experiment</b>\", showarrow=False, xref=\"paper\", yref=\"paper\", font=dict(size=20))\n",
    "    fig.add_annotation(x=0.75, y=1.02, yanchor='bottom', text=\"<b>Math Experiment</b>\", showarrow=False, xref=\"paper\", yref=\"paper\", font=dict(size=20))\n",
    "    \n",
    "    fig.show()\n",
    "    print(\"Generated combined plot: Mean Absolute Performance by Linguistic Competency\")\n",
    "    \n",
    "    # Export the plot data to CSV\n",
    "    plot_df_coder['Experiment'] = 'Coder'\n",
    "    plot_df_math['Experiment'] = 'Math'\n",
    "    combined_plot_data = pd.concat([plot_df_coder, plot_df_math])\n",
    "    csv_filename = os.path.join(csv_export_dir, \"combined_performance_coder_vs_math.csv\")\n",
    "    combined_plot_data.to_csv(csv_filename, index=False)\n",
    "    print(f\"Exported combined plot data to: {csv_filename}\")\n",
    "\n",
    "\n",
    "print(\"\\n--- Script Finished ---\")\n"
   ]
  }
 ],
 "metadata": {
  "kernelspec": {
   "display_name": "3.12.7",
   "language": "python",
   "name": "python3"
  },
  "language_info": {
   "codemirror_mode": {
    "name": "ipython",
    "version": 3
   },
   "file_extension": ".py",
   "mimetype": "text/x-python",
   "name": "python",
   "nbconvert_exporter": "python",
   "pygments_lexer": "ipython3",
   "version": "3.12.7"
  }
 },
 "nbformat": 4,
 "nbformat_minor": 5
}
