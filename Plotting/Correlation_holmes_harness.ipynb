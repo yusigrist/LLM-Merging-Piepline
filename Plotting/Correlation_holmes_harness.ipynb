{
 "cells": [
  {
   "cell_type": "code",
   "execution_count": 2,
   "id": "c08482cb",
   "metadata": {},
   "outputs": [
    {
     "name": "stdout",
     "output_type": "stream",
     "text": [
      "Output directory: rankings_output\n",
      "--- Loading Holmes Data ---\n",
      "Holmes Summary (Main Tasks) DF loaded: (188, 15)\n",
      "Holmes Subtasks (with linguistic competencies) DF loaded: (216, 20)\n",
      "\n",
      "--- Loading Harness Data ---\n",
      "Harness Summary DF loaded: (3, 15)\n",
      "Harness Subtasks DF loaded: (42, 17)\n",
      "\n",
      "--- Generating Holmes Rankings ---\n",
      "Holmes Main Task Ranks DF head:\n",
      "                                                   Rank 1          Rank 2  \\\n",
      "Task                                                                       \n",
      "SemAntoNeg                                Linear (Coder)    Qwen2.5 Base   \n",
      "arg-is-abstract                           Linear (Coder)    Ties (Coder)   \n",
      "arg-is-kind                                 Qwen2.5 Math     Ties (Math)   \n",
      "arg-is-particular                Task Arithmetic (Coder)  Linear (Coder)   \n",
      "bioscope-negation-span-classify              Ties (Math)   Qwen2.5 Coder   \n",
      "\n",
      "                                                  Rank 3         Rank 4  \\\n",
      "Task                                                                      \n",
      "SemAntoNeg                              Qwen2.5 Instruct  Qwen2.5 Coder   \n",
      "arg-is-abstract                  Task Arithmetic (Coder)   Qwen2.5 Math   \n",
      "arg-is-kind                                 Ties (Coder)  Linear (Math)   \n",
      "arg-is-particular                           Ties (Coder)  Qwen2.5 Coder   \n",
      "bioscope-negation-span-classify            Linear (Math)   Qwen2.5 Math   \n",
      "\n",
      "                                            Rank 5                   Rank 6  \\\n",
      "Task                                                                          \n",
      "SemAntoNeg                            Qwen2.5 Math  Task Arithmetic (Coder)   \n",
      "arg-is-abstract                       Qwen2.5 Base         DARE Ties (Math)   \n",
      "arg-is-kind                         Linear (Coder)  Task Arithmetic (Coder)   \n",
      "arg-is-particular                DARE Ties (Coder)         DARE Ties (Math)   \n",
      "bioscope-negation-span-classify       Slerp (Math)         DARE Ties (Math)   \n",
      "\n",
      "                                                 Rank 7         Rank 8  \\\n",
      "Task                                                                     \n",
      "SemAntoNeg                            DARE Ties (Coder)   Ties (Coder)   \n",
      "arg-is-abstract                           Qwen2.5 Coder    Ties (Math)   \n",
      "arg-is-kind                            DARE Ties (Math)  Qwen2.5 Coder   \n",
      "arg-is-particular                           Ties (Math)  Linear (Math)   \n",
      "bioscope-negation-span-classify  Task Arithmetic (Math)  Slerp (Coder)   \n",
      "\n",
      "                                                 Rank 9        Rank 10  \\\n",
      "Task                                                                     \n",
      "SemAntoNeg                                Slerp (Coder)  Linear (Math)   \n",
      "arg-is-abstract                       DARE Ties (Coder)  Linear (Math)   \n",
      "arg-is-kind                      Task Arithmetic (Math)   Qwen2.5 Base   \n",
      "arg-is-particular                Task Arithmetic (Math)   Qwen2.5 Math   \n",
      "bioscope-negation-span-classify        Qwen2.5 Instruct   Qwen2.5 Base   \n",
      "\n",
      "                                           Rank 11                 Rank 12  \\\n",
      "Task                                                                         \n",
      "SemAntoNeg                            Slerp (Math)  Task Arithmetic (Math)   \n",
      "arg-is-abstract                   Qwen2.5 Instruct           Slerp (Coder)   \n",
      "arg-is-kind                           Slerp (Math)        Qwen2.5 Instruct   \n",
      "arg-is-particular                    Slerp (Coder)            Slerp (Math)   \n",
      "bioscope-negation-span-classify  DARE Ties (Coder)            Ties (Coder)   \n",
      "\n",
      "                                                Rank 13  \\\n",
      "Task                                                      \n",
      "SemAntoNeg                                  Ties (Math)   \n",
      "arg-is-abstract                  Task Arithmetic (Math)   \n",
      "arg-is-kind                           DARE Ties (Coder)   \n",
      "arg-is-particular                      Qwen2.5 Instruct   \n",
      "bioscope-negation-span-classify          Linear (Coder)   \n",
      "\n",
      "                                                 Rank 14       Rank 15  \n",
      "Task                                                                    \n",
      "SemAntoNeg                              DARE Ties (Math)  Della (Math)  \n",
      "arg-is-abstract                             Slerp (Math)  Della (Math)  \n",
      "arg-is-kind                                Slerp (Coder)  Della (Math)  \n",
      "arg-is-particular                           Qwen2.5 Base  Della (Math)  \n",
      "bioscope-negation-span-classify  Task Arithmetic (Coder)  Della (Math)  \n",
      "Saved Holmes main task rankings.\n",
      "Saved Holmes subtask rankings by linguistic competency.\n",
      "\n",
      "--- Generating Harness Rankings ---\n",
      "Harness Main Ranks DF head:\n",
      "                        Rank 1        Rank 2         Rank 3         Rank 4  \\\n",
      "Task                                                                        \n",
      "gsm8k            Qwen2.5 Math  Qwen2.5 Base  Qwen2.5 Coder   Slerp (Math)   \n",
      "mmlu         Qwen2.5 Instruct  Qwen2.5 Base   Slerp (Math)  Slerp (Coder)   \n",
      "leaderboard  Qwen2.5 Instruct  Qwen2.5 Base   Slerp (Math)  Slerp (Coder)   \n",
      "\n",
      "                       Rank 5                  Rank 6         Rank 7  \\\n",
      "Task                                                                   \n",
      "gsm8k        Qwen2.5 Instruct           Linear (Math)  Slerp (Coder)   \n",
      "mmlu            Qwen2.5 Coder  Task Arithmetic (Math)  Linear (Math)   \n",
      "leaderboard     Qwen2.5 Coder           Linear (Math)   Qwen2.5 Math   \n",
      "\n",
      "                             Rank 8                   Rank 9  \\\n",
      "Task                                                           \n",
      "gsm8k        Task Arithmetic (Math)  Task Arithmetic (Coder)   \n",
      "mmlu                   Qwen2.5 Math              Ties (Math)   \n",
      "leaderboard  Task Arithmetic (Math)         DARE Ties (Math)   \n",
      "\n",
      "                      Rank 10                  Rank 11         Rank 12  \\\n",
      "Task                                                                     \n",
      "gsm8k             Ties (Math)         DARE Ties (Math)  Linear (Coder)   \n",
      "mmlu         DARE Ties (Math)  Task Arithmetic (Coder)  Linear (Coder)   \n",
      "leaderboard       Ties (Math)  Task Arithmetic (Coder)  Linear (Coder)   \n",
      "\n",
      "                  Rank 13            Rank 14            Rank 15  \n",
      "Task                                                             \n",
      "gsm8k        Ties (Coder)  DARE Ties (Coder)       Della (Math)  \n",
      "mmlu         Ties (Coder)  DARE Ties (Coder)       Della (Math)  \n",
      "leaderboard  Ties (Coder)       Della (Math)  DARE Ties (Coder)  \n",
      "Saved Harness main rankings.\n",
      "Saved Harness subtask rankings by group.\n",
      "\n",
      "--- Calculating Huge Correlation Matrix (Holmes Main Tasks vs Harness All Tasks/Subtasks) ---\n",
      "Saved huge correlation matrix to rankings_output/correlation_holmes_main_vs_harness_all.csv\n",
      "Huge Correlation Matrix (Holmes Main vs Harness All) (sample):\n",
      "                                          Ha-Main: gsm8k  Ha-Main: mmlu  \\\n",
      "H-Main: SemAntoNeg                             0.314286       0.238095   \n",
      "H-Main: arg-is-abstract                        0.009524      -0.257143   \n",
      "H-Main: arg-is-kind                            0.085714      -0.180952   \n",
      "H-Main: arg-is-particular                     -0.295238      -0.447619   \n",
      "H-Main: bioscope-negation-span-classify        0.371429       0.257143   \n",
      "\n",
      "                                         Ha-Main: leaderboard  \\\n",
      "H-Main: SemAntoNeg                                   0.238095   \n",
      "H-Main: arg-is-abstract                             -0.219048   \n",
      "H-Main: arg-is-kind                                 -0.180952   \n",
      "H-Main: arg-is-particular                           -0.447619   \n",
      "H-Main: bioscope-negation-span-classify              0.257143   \n",
      "\n",
      "                                         Ha-Sub: bbh - bbh_boolean_expressions  \\\n",
      "H-Main: SemAntoNeg                                                    0.200000   \n",
      "H-Main: arg-is-abstract                                              -0.028571   \n",
      "H-Main: arg-is-kind                                                   0.123810   \n",
      "H-Main: arg-is-particular                                            -0.219048   \n",
      "H-Main: bioscope-negation-span-classify                               0.561905   \n",
      "\n",
      "                                         Ha-Sub: bbh - bbh_causal_judgement  \\\n",
      "H-Main: SemAntoNeg                                                 0.390476   \n",
      "H-Main: arg-is-abstract                                           -0.066667   \n",
      "H-Main: arg-is-kind                                               -0.028571   \n",
      "H-Main: arg-is-particular                                         -0.180952   \n",
      "H-Main: bioscope-negation-span-classify                            0.257143   \n",
      "\n",
      "                                         Ha-Sub: bbh - bbh_date_understanding  \\\n",
      "H-Main: SemAntoNeg                                                   0.142857   \n",
      "H-Main: arg-is-abstract                                             -0.238095   \n",
      "H-Main: arg-is-kind                                                 -0.009524   \n",
      "H-Main: arg-is-particular                                           -0.276190   \n",
      "H-Main: bioscope-negation-span-classify                              0.428571   \n",
      "\n",
      "                                         Ha-Sub: bbh - bbh_disambiguation_qa  \\\n",
      "H-Main: SemAntoNeg                                                  0.104762   \n",
      "H-Main: arg-is-abstract                                            -0.352381   \n",
      "H-Main: arg-is-kind                                                -0.276190   \n",
      "H-Main: arg-is-particular                                          -0.466667   \n",
      "H-Main: bioscope-negation-span-classify                             0.314286   \n",
      "\n",
      "                                         Ha-Sub: bbh - bbh_formal_fallacies  \\\n",
      "H-Main: SemAntoNeg                                                 0.104762   \n",
      "H-Main: arg-is-abstract                                           -0.390476   \n",
      "H-Main: arg-is-kind                                               -0.390476   \n",
      "H-Main: arg-is-particular                                         -0.352381   \n",
      "H-Main: bioscope-negation-span-classify                            0.123810   \n",
      "\n",
      "                                         Ha-Sub: bbh - bbh_geometric_shapes  \\\n",
      "H-Main: SemAntoNeg                                                 0.219048   \n",
      "H-Main: arg-is-abstract                                           -0.200000   \n",
      "H-Main: arg-is-kind                                               -0.200000   \n",
      "H-Main: arg-is-particular                                         -0.390476   \n",
      "H-Main: bioscope-negation-span-classify                            0.314286   \n",
      "\n",
      "                                         Ha-Sub: bbh - bbh_hyperbaton  ...  \\\n",
      "H-Main: SemAntoNeg                                           0.352381  ...   \n",
      "H-Main: arg-is-abstract                                     -0.142857  ...   \n",
      "H-Main: arg-is-kind                                         -0.180952  ...   \n",
      "H-Main: arg-is-particular                                   -0.142857  ...   \n",
      "H-Main: bioscope-negation-span-classify                      0.142857  ...   \n",
      "\n",
      "                                         Ha-Sub: gpqa - gpqa_extended  \\\n",
      "H-Main: SemAntoNeg                                           0.180952   \n",
      "H-Main: arg-is-abstract                                     -0.123810   \n",
      "H-Main: arg-is-kind                                         -0.085714   \n",
      "H-Main: arg-is-particular                                   -0.352381   \n",
      "H-Main: bioscope-negation-span-classify                      0.276190   \n",
      "\n",
      "                                         Ha-Sub: gpqa - gpqa_main  \\\n",
      "H-Main: SemAntoNeg                                       0.257143   \n",
      "H-Main: arg-is-abstract                                 -0.276190   \n",
      "H-Main: arg-is-kind                                     -0.238095   \n",
      "H-Main: arg-is-particular                               -0.504762   \n",
      "H-Main: bioscope-negation-span-classify                  0.238095   \n",
      "\n",
      "                                         Ha-Sub: leaderboard - bbh  \\\n",
      "H-Main: SemAntoNeg                                        0.238095   \n",
      "H-Main: arg-is-abstract                                  -0.219048   \n",
      "H-Main: arg-is-kind                                      -0.219048   \n",
      "H-Main: arg-is-particular                                -0.371429   \n",
      "H-Main: bioscope-negation-span-classify                   0.257143   \n",
      "\n",
      "                                         Ha-Sub: leaderboard - gpqa  \\\n",
      "H-Main: SemAntoNeg                                         0.219048   \n",
      "H-Main: arg-is-abstract                                   -0.238095   \n",
      "H-Main: arg-is-kind                                       -0.161905   \n",
      "H-Main: arg-is-particular                                 -0.542857   \n",
      "H-Main: bioscope-negation-span-classify                    0.276190   \n",
      "\n",
      "                                         Ha-Sub: leaderboard - math_hard  \\\n",
      "H-Main: SemAntoNeg                                              0.314286   \n",
      "H-Main: arg-is-abstract                                        -0.104762   \n",
      "H-Main: arg-is-kind                                             0.009524   \n",
      "H-Main: arg-is-particular                                      -0.409524   \n",
      "H-Main: bioscope-negation-span-classify                         0.333333   \n",
      "\n",
      "                                         Ha-Sub: leaderboard - mmlu_pro  \\\n",
      "H-Main: SemAntoNeg                                             0.219048   \n",
      "H-Main: arg-is-abstract                                       -0.276190   \n",
      "H-Main: arg-is-kind                                           -0.276190   \n",
      "H-Main: arg-is-particular                                     -0.466667   \n",
      "H-Main: bioscope-negation-span-classify                        0.200000   \n",
      "\n",
      "                                         Ha-Sub: leaderboard - musr  \\\n",
      "H-Main: SemAntoNeg                                         0.161905   \n",
      "H-Main: arg-is-abstract                                   -0.104762   \n",
      "H-Main: arg-is-kind                                        0.047619   \n",
      "H-Main: arg-is-particular                                 -0.257143   \n",
      "H-Main: bioscope-negation-span-classify                    0.295238   \n",
      "\n",
      "                                         Ha-Sub: musr - musr_murder_mysteries  \\\n",
      "H-Main: SemAntoNeg                                                   0.142857   \n",
      "H-Main: arg-is-abstract                                              0.028571   \n",
      "H-Main: arg-is-kind                                                  0.142857   \n",
      "H-Main: arg-is-particular                                            0.219048   \n",
      "H-Main: bioscope-negation-span-classify                              0.123810   \n",
      "\n",
      "                                         Ha-Sub: musr - musr_object_placements  \\\n",
      "H-Main: SemAntoNeg                                                   -0.123810   \n",
      "H-Main: arg-is-abstract                                              -0.390476   \n",
      "H-Main: arg-is-kind                                                  -0.085714   \n",
      "H-Main: arg-is-particular                                            -0.390476   \n",
      "H-Main: bioscope-negation-span-classify                               0.428571   \n",
      "\n",
      "                                         Ha-Sub: musr - musr_team_allocation  \n",
      "H-Main: SemAntoNeg                                                  0.485714  \n",
      "H-Main: arg-is-abstract                                             0.219048  \n",
      "H-Main: arg-is-kind                                                 0.180952  \n",
      "H-Main: arg-is-particular                                          -0.009524  \n",
      "H-Main: bioscope-negation-span-classify                            -0.104762  \n",
      "\n",
      "[5 rows x 38 columns]\n"
     ]
    },
    {
     "data": {
      "application/vnd.plotly.v1+json": {
       "config": {
        "plotlyServerURL": "https://plot.ly"
       },
       "data": [
        {
         "coloraxis": "coloraxis",
         "hovertemplate": "x: %{x}<br>y: %{y}<br>color: %{z}<extra></extra>",
         "name": "0",
         "texttemplate": "%{z:.2f}",
         "type": "heatmap",
         "x": [
          "Ha-Main: gsm8k",
          "Ha-Main: leaderboard",
          "Ha-Main: mmlu",
          "Ha-Sub: bbh - bbh_boolean_expressions",
          "Ha-Sub: bbh - bbh_causal_judgement",
          "Ha-Sub: bbh - bbh_date_understanding",
          "Ha-Sub: bbh - bbh_disambiguation_qa",
          "Ha-Sub: bbh - bbh_formal_fallacies",
          "Ha-Sub: bbh - bbh_geometric_shapes",
          "Ha-Sub: bbh - bbh_hyperbaton",
          "Ha-Sub: bbh - bbh_logical_deduction_five_objects",
          "Ha-Sub: bbh - bbh_logical_deduction_seven_objects",
          "Ha-Sub: bbh - bbh_logical_deduction_three_objects",
          "Ha-Sub: bbh - bbh_movie_recommendation",
          "Ha-Sub: bbh - bbh_navigate",
          "Ha-Sub: bbh - bbh_object_counting",
          "Ha-Sub: bbh - bbh_penguins_in_a_table",
          "Ha-Sub: bbh - bbh_reasoning_about_colored_objects",
          "Ha-Sub: bbh - bbh_ruin_names",
          "Ha-Sub: bbh - bbh_salient_translation_error_detection",
          "Ha-Sub: bbh - bbh_snarks",
          "Ha-Sub: bbh - bbh_sports_understanding",
          "Ha-Sub: bbh - bbh_temporal_sequences",
          "Ha-Sub: bbh - bbh_tracking_shuffled_objects_five_objects",
          "Ha-Sub: bbh - bbh_tracking_shuffled_objects_seven_objects",
          "Ha-Sub: bbh - bbh_tracking_shuffled_objects_three_objects",
          "Ha-Sub: bbh - bbh_web_of_lies",
          "Ha-Sub: gpqa - gpqa_diamond",
          "Ha-Sub: gpqa - gpqa_extended",
          "Ha-Sub: gpqa - gpqa_main",
          "Ha-Sub: leaderboard - bbh",
          "Ha-Sub: leaderboard - gpqa",
          "Ha-Sub: leaderboard - math_hard",
          "Ha-Sub: leaderboard - mmlu_pro",
          "Ha-Sub: leaderboard - musr",
          "Ha-Sub: musr - musr_murder_mysteries",
          "Ha-Sub: musr - musr_object_placements",
          "Ha-Sub: musr - musr_team_allocation"
         ],
         "xaxis": "x",
         "y": [
          "H-Main: SemAntoNeg",
          "H-Main: arg-is-abstract",
          "H-Main: arg-is-kind",
          "H-Main: arg-is-particular",
          "H-Main: bioscope-negation-span-classify",
          "H-Main: bioscope-negation-span-correspondence",
          "H-Main: bioscope-org-negation",
          "H-Main: blimp-adjunct_island",
          "H-Main: blimp-anaphor_gender_agreement",
          "H-Main: blimp-anaphor_number_agreement",
          "H-Main: blimp-animate_subject_passive",
          "H-Main: blimp-animate_subject_trans",
          "H-Main: blimp-causative",
          "H-Main: blimp-complex_NP_island",
          "H-Main: blimp-coordinate_structure_constraint_complex_left_branch",
          "H-Main: blimp-coordinate_structure_constraint_object_extraction",
          "H-Main: blimp-determiner_noun_agreement_1",
          "H-Main: blimp-determiner_noun_agreement_2",
          "H-Main: blimp-determiner_noun_agreement_irregular_1",
          "H-Main: blimp-determiner_noun_agreement_irregular_2",
          "H-Main: blimp-determiner_noun_agreement_with_adj_2",
          "H-Main: blimp-determiner_noun_agreement_with_adj_irregular_1",
          "H-Main: blimp-determiner_noun_agreement_with_adj_irregular_2",
          "H-Main: blimp-determiner_noun_agreement_with_adjective_1",
          "H-Main: blimp-distractor_agreement_relational_noun",
          "H-Main: blimp-distractor_agreement_relative_clause",
          "H-Main: blimp-drop_argument",
          "H-Main: blimp-ellipsis_n_bar_1",
          "H-Main: blimp-ellipsis_n_bar_2",
          "H-Main: blimp-existential_there_object_raising",
          "H-Main: blimp-existential_there_quantifiers_1",
          "H-Main: blimp-existential_there_quantifiers_2",
          "H-Main: blimp-existential_there_subject_raising",
          "H-Main: blimp-expletive_it_object_raising",
          "H-Main: blimp-inchoative",
          "H-Main: blimp-intransitive",
          "H-Main: blimp-irregular_past_participle_adjectives",
          "H-Main: blimp-irregular_past_participle_verbs",
          "H-Main: blimp-irregular_plural_subject_verb_agreement_1",
          "H-Main: blimp-irregular_plural_subject_verb_agreement_2",
          "H-Main: blimp-left_branch_island_echo_question",
          "H-Main: blimp-left_branch_island_simple_question",
          "H-Main: blimp-matrix_question_npi_licensor_present",
          "H-Main: blimp-npi_present_1",
          "H-Main: blimp-npi_present_2",
          "H-Main: blimp-only_npi_licensor_present",
          "H-Main: blimp-only_npi_scope",
          "H-Main: blimp-passive_1",
          "H-Main: blimp-passive_2",
          "H-Main: blimp-principle_A_c_command",
          "H-Main: blimp-principle_A_case_1",
          "H-Main: blimp-principle_A_case_2",
          "H-Main: blimp-principle_A_domain_1",
          "H-Main: blimp-principle_A_domain_2",
          "H-Main: blimp-principle_A_domain_3",
          "H-Main: blimp-principle_A_reconstruction",
          "H-Main: blimp-regular_plural_subject_verb_agreement_1",
          "H-Main: blimp-regular_plural_subject_verb_agreement_2",
          "H-Main: blimp-sentential_negation_npi_licensor_present",
          "H-Main: blimp-sentential_negation_npi_scope",
          "H-Main: blimp-sentential_subject_island",
          "H-Main: blimp-superlative_quantifiers_1",
          "H-Main: blimp-superlative_quantifiers_2",
          "H-Main: blimp-tough_vs_raising_1",
          "H-Main: blimp-tough_vs_raising_2",
          "H-Main: blimp-transitive",
          "H-Main: blimp-wh_island",
          "H-Main: blimp-wh_questions_object_gap",
          "H-Main: blimp-wh_questions_subject_gap",
          "H-Main: blimp-wh_questions_subject_gap_long_distance",
          "H-Main: blimp-wh_vs_that_no_gap",
          "H-Main: blimp-wh_vs_that_no_gap_long_distance",
          "H-Main: blimp-wh_vs_that_with_gap",
          "H-Main: blimp-wh_vs_that_with_gap_long_distance",
          "H-Main: bridging-edge",
          "H-Main: bridging-sentence",
          "H-Main: const",
          "H-Main: const_max_depth",
          "H-Main: const_node_length",
          "H-Main: context-object_animacy",
          "H-Main: context-object_gender",
          "H-Main: context-object_number",
          "H-Main: context-subject_animacy",
          "H-Main: context-subject_gender",
          "H-Main: context-subject_number",
          "H-Main: context-verb_causative",
          "H-Main: context-verb_dynamic",
          "H-Main: context-verb_tense",
          "H-Main: coref",
          "H-Main: cwi",
          "H-Main: discourse-connective",
          "H-Main: event_structure-distributive",
          "H-Main: event_structure-event",
          "H-Main: event_structure-has-natural-parts",
          "H-Main: event_structure-has-similar-parts",
          "H-Main: event_structure-is-dynamic",
          "H-Main: event_structure-is-telic",
          "H-Main: factuality",
          "H-Main: flesch",
          "H-Main: fuse-negation-span-classify",
          "H-Main: fuse-negation-span-correspondence",
          "H-Main: fuse-org-negation",
          "H-Main: gum-rst-edu-count",
          "H-Main: gum-rst-edu-depth",
          "H-Main: gum-rst-edu-distance",
          "H-Main: gum-rst-edu-relation",
          "H-Main: gum-rst-edu-relation-group",
          "H-Main: gum-rst-edu-successively",
          "H-Main: gum-rst-edu-type",
          "H-Main: metaphor-lcc",
          "H-Main: metaphor-trofi",
          "H-Main: metaphor-vua_pos",
          "H-Main: metaphor-vua_verb",
          "H-Main: ner",
          "H-Main: next-sentence-prediction",
          "H-Main: olmpics-antonym_synonym_negation",
          "H-Main: olmpics-coffee_cats_quantifiers",
          "H-Main: olmpics-composition_v2",
          "H-Main: olmpics-compositional_comparison",
          "H-Main: olmpics-conjunction_filt4",
          "H-Main: olmpics-hypernym_conjunction",
          "H-Main: olmpics-number_comparison_age_compare_masked",
          "H-Main: olmpics-size_comparison",
          "H-Main: ordering",
          "H-Main: passive",
          "H-Main: pos",
          "H-Main: pred-is-dynamic",
          "H-Main: pred-is-hypothetical",
          "H-Main: pred-is-particular",
          "H-Main: protoroles-awareness",
          "H-Main: protoroles-change_of_location",
          "H-Main: protoroles-change_of_possession",
          "H-Main: protoroles-change_of_state",
          "H-Main: protoroles-change_of_state_continuous",
          "H-Main: protoroles-existed_after",
          "H-Main: protoroles-existed_before",
          "H-Main: protoroles-existed_during",
          "H-Main: protoroles-exists_as_physical",
          "H-Main: protoroles-instigation",
          "H-Main: protoroles-location_of_event",
          "H-Main: protoroles-makes_physical_contact",
          "H-Main: protoroles-partitive",
          "H-Main: protoroles-sentient",
          "H-Main: protoroles-stationary",
          "H-Main: protoroles-volition",
          "H-Main: protoroles-was_for_benefit",
          "H-Main: protoroles-was_used",
          "H-Main: relation-classification",
          "H-Main: senteval-bigram_shift",
          "H-Main: senteval-coordination_inversion",
          "H-Main: senteval-obj_number",
          "H-Main: senteval-odd_man_out",
          "H-Main: senteval-past_present",
          "H-Main: senteval-sentence_length",
          "H-Main: senteval-subj_number",
          "H-Main: senteval-top_constituents",
          "H-Main: senteval-tree_depth",
          "H-Main: senteval-word_content",
          "H-Main: sentiment-sentence",
          "H-Main: sherlock-negation",
          "H-Main: speculation-org",
          "H-Main: speculation-span-classify",
          "H-Main: speculation-span-correspondence",
          "H-Main: srl",
          "H-Main: synonym-antonym-hard",
          "H-Main: time",
          "H-Main: wordsense",
          "H-Main: zorro-agreement_determiner_noun-between_neighbors",
          "H-Main: zorro-agreement_subject_verb-across_prepositional_phrase",
          "H-Main: zorro-agreement_subject_verb-across_relative_clause",
          "H-Main: zorro-agreement_subject_verb-in_question_with_aux",
          "H-Main: zorro-agreement_subject_verb-in_simple_question",
          "H-Main: zorro-anaphor_agreement-pronoun_gender",
          "H-Main: zorro-argument_structure-dropped_argument",
          "H-Main: zorro-argument_structure-swapped_arguments",
          "H-Main: zorro-argument_structure-transitive",
          "H-Main: zorro-binding-principle_a",
          "H-Main: zorro-case-subjective_pronoun",
          "H-Main: zorro-ellipsis-n_bar",
          "H-Main: zorro-filler-gap-wh_question_object",
          "H-Main: zorro-filler-gap-wh_question_subject",
          "H-Main: zorro-island-effects-adjunct_island",
          "H-Main: zorro-island-effects-coordinate_structure_constraint",
          "H-Main: zorro-local_attractor-in_question_with_aux",
          "H-Main: zorro-npi_licensing-matrix_question",
          "H-Main: zorro-npi_licensing-only_npi_licensor",
          "H-Main: zorro-quantifiers-existential_there",
          "H-Main: zorro-quantifiers-superlative"
         ],
         "yaxis": "y",
         "z": {
          "bdata": "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",
          "dtype": "f8",
          "shape": "188, 38"
         }
        }
       ],
       "layout": {
        "coloraxis": {
         "cmax": 1,
         "cmin": -1,
         "colorscale": [
          [
           0,
           "rgb(5,48,97)"
          ],
          [
           0.1,
           "rgb(33,102,172)"
          ],
          [
           0.2,
           "rgb(67,147,195)"
          ],
          [
           0.3,
           "rgb(146,197,222)"
          ],
          [
           0.4,
           "rgb(209,229,240)"
          ],
          [
           0.5,
           "rgb(247,247,247)"
          ],
          [
           0.6,
           "rgb(253,219,199)"
          ],
          [
           0.7,
           "rgb(244,165,130)"
          ],
          [
           0.8,
           "rgb(214,96,77)"
          ],
          [
           0.9,
           "rgb(178,24,43)"
          ],
          [
           1,
           "rgb(103,0,31)"
          ]
         ]
        },
        "font": {
         "size": 20
        },
        "height": 3760,
        "legend": {
         "font": {
          "size": 16
         },
         "title": {
          "font": {
           "size": 18
          }
         }
        },
        "template": {
         "data": {
          "bar": [
           {
            "error_x": {
             "color": "#2a3f5f"
            },
            "error_y": {
             "color": "#2a3f5f"
            },
            "marker": {
             "line": {
              "color": "white",
              "width": 0.5
             },
             "pattern": {
              "fillmode": "overlay",
              "size": 10,
              "solidity": 0.2
             }
            },
            "type": "bar"
           }
          ],
          "barpolar": [
           {
            "marker": {
             "line": {
              "color": "white",
              "width": 0.5
             },
             "pattern": {
              "fillmode": "overlay",
              "size": 10,
              "solidity": 0.2
             }
            },
            "type": "barpolar"
           }
          ],
          "carpet": [
           {
            "aaxis": {
             "endlinecolor": "#2a3f5f",
             "gridcolor": "#C8D4E3",
             "linecolor": "#C8D4E3",
             "minorgridcolor": "#C8D4E3",
             "startlinecolor": "#2a3f5f"
            },
            "baxis": {
             "endlinecolor": "#2a3f5f",
             "gridcolor": "#C8D4E3",
             "linecolor": "#C8D4E3",
             "minorgridcolor": "#C8D4E3",
             "startlinecolor": "#2a3f5f"
            },
            "type": "carpet"
           }
          ],
          "choropleth": [
           {
            "colorbar": {
             "outlinewidth": 0,
             "ticks": ""
            },
            "type": "choropleth"
           }
          ],
          "contour": [
           {
            "colorbar": {
             "outlinewidth": 0,
             "ticks": ""
            },
            "colorscale": [
             [
              0,
              "#0d0887"
             ],
             [
              0.1111111111111111,
              "#46039f"
             ],
             [
              0.2222222222222222,
              "#7201a8"
             ],
             [
              0.3333333333333333,
              "#9c179e"
             ],
             [
              0.4444444444444444,
              "#bd3786"
             ],
             [
              0.5555555555555556,
              "#d8576b"
             ],
             [
              0.6666666666666666,
              "#ed7953"
             ],
             [
              0.7777777777777778,
              "#fb9f3a"
             ],
             [
              0.8888888888888888,
              "#fdca26"
             ],
             [
              1,
              "#f0f921"
             ]
            ],
            "type": "contour"
           }
          ],
          "contourcarpet": [
           {
            "colorbar": {
             "outlinewidth": 0,
             "ticks": ""
            },
            "type": "contourcarpet"
           }
          ],
          "heatmap": [
           {
            "colorbar": {
             "outlinewidth": 0,
             "ticks": ""
            },
            "colorscale": [
             [
              0,
              "#0d0887"
             ],
             [
              0.1111111111111111,
              "#46039f"
             ],
             [
              0.2222222222222222,
              "#7201a8"
             ],
             [
              0.3333333333333333,
              "#9c179e"
             ],
             [
              0.4444444444444444,
              "#bd3786"
             ],
             [
              0.5555555555555556,
              "#d8576b"
             ],
             [
              0.6666666666666666,
              "#ed7953"
             ],
             [
              0.7777777777777778,
              "#fb9f3a"
             ],
             [
              0.8888888888888888,
              "#fdca26"
             ],
             [
              1,
              "#f0f921"
             ]
            ],
            "type": "heatmap"
           }
          ],
          "histogram": [
           {
            "marker": {
             "pattern": {
              "fillmode": "overlay",
              "size": 10,
              "solidity": 0.2
             }
            },
            "type": "histogram"
           }
          ],
          "histogram2d": [
           {
            "colorbar": {
             "outlinewidth": 0,
             "ticks": ""
            },
            "colorscale": [
             [
              0,
              "#0d0887"
             ],
             [
              0.1111111111111111,
              "#46039f"
             ],
             [
              0.2222222222222222,
              "#7201a8"
             ],
             [
              0.3333333333333333,
              "#9c179e"
             ],
             [
              0.4444444444444444,
              "#bd3786"
             ],
             [
              0.5555555555555556,
              "#d8576b"
             ],
             [
              0.6666666666666666,
              "#ed7953"
             ],
             [
              0.7777777777777778,
              "#fb9f3a"
             ],
             [
              0.8888888888888888,
              "#fdca26"
             ],
             [
              1,
              "#f0f921"
             ]
            ],
            "type": "histogram2d"
           }
          ],
          "histogram2dcontour": [
           {
            "colorbar": {
             "outlinewidth": 0,
             "ticks": ""
            },
            "colorscale": [
             [
              0,
              "#0d0887"
             ],
             [
              0.1111111111111111,
              "#46039f"
             ],
             [
              0.2222222222222222,
              "#7201a8"
             ],
             [
              0.3333333333333333,
              "#9c179e"
             ],
             [
              0.4444444444444444,
              "#bd3786"
             ],
             [
              0.5555555555555556,
              "#d8576b"
             ],
             [
              0.6666666666666666,
              "#ed7953"
             ],
             [
              0.7777777777777778,
              "#fb9f3a"
             ],
             [
              0.8888888888888888,
              "#fdca26"
             ],
             [
              1,
              "#f0f921"
             ]
            ],
            "type": "histogram2dcontour"
           }
          ],
          "mesh3d": [
           {
            "colorbar": {
             "outlinewidth": 0,
             "ticks": ""
            },
            "type": "mesh3d"
           }
          ],
          "parcoords": [
           {
            "line": {
             "colorbar": {
              "outlinewidth": 0,
              "ticks": ""
             }
            },
            "type": "parcoords"
           }
          ],
          "pie": [
           {
            "automargin": true,
            "type": "pie"
           }
          ],
          "scatter": [
           {
            "fillpattern": {
             "fillmode": "overlay",
             "size": 10,
             "solidity": 0.2
            },
            "type": "scatter"
           }
          ],
          "scatter3d": [
           {
            "line": {
             "colorbar": {
              "outlinewidth": 0,
              "ticks": ""
             }
            },
            "marker": {
             "colorbar": {
              "outlinewidth": 0,
              "ticks": ""
             }
            },
            "type": "scatter3d"
           }
          ],
          "scattercarpet": [
           {
            "marker": {
             "colorbar": {
              "outlinewidth": 0,
              "ticks": ""
             }
            },
            "type": "scattercarpet"
           }
          ],
          "scattergeo": [
           {
            "marker": {
             "colorbar": {
              "outlinewidth": 0,
              "ticks": ""
             }
            },
            "type": "scattergeo"
           }
          ],
          "scattergl": [
           {
            "marker": {
             "colorbar": {
              "outlinewidth": 0,
              "ticks": ""
             }
            },
            "type": "scattergl"
           }
          ],
          "scattermap": [
           {
            "marker": {
             "colorbar": {
              "outlinewidth": 0,
              "ticks": ""
             }
            },
            "type": "scattermap"
           }
          ],
          "scattermapbox": [
           {
            "marker": {
             "colorbar": {
              "outlinewidth": 0,
              "ticks": ""
             }
            },
            "type": "scattermapbox"
           }
          ],
          "scatterpolar": [
           {
            "marker": {
             "colorbar": {
              "outlinewidth": 0,
              "ticks": ""
             }
            },
            "type": "scatterpolar"
           }
          ],
          "scatterpolargl": [
           {
            "marker": {
             "colorbar": {
              "outlinewidth": 0,
              "ticks": ""
             }
            },
            "type": "scatterpolargl"
           }
          ],
          "scatterternary": [
           {
            "marker": {
             "colorbar": {
              "outlinewidth": 0,
              "ticks": ""
             }
            },
            "type": "scatterternary"
           }
          ],
          "surface": [
           {
            "colorbar": {
             "outlinewidth": 0,
             "ticks": ""
            },
            "colorscale": [
             [
              0,
              "#0d0887"
             ],
             [
              0.1111111111111111,
              "#46039f"
             ],
             [
              0.2222222222222222,
              "#7201a8"
             ],
             [
              0.3333333333333333,
              "#9c179e"
             ],
             [
              0.4444444444444444,
              "#bd3786"
             ],
             [
              0.5555555555555556,
              "#d8576b"
             ],
             [
              0.6666666666666666,
              "#ed7953"
             ],
             [
              0.7777777777777778,
              "#fb9f3a"
             ],
             [
              0.8888888888888888,
              "#fdca26"
             ],
             [
              1,
              "#f0f921"
             ]
            ],
            "type": "surface"
           }
          ],
          "table": [
           {
            "cells": {
             "fill": {
              "color": "#EBF0F8"
             },
             "line": {
              "color": "white"
             }
            },
            "header": {
             "fill": {
              "color": "#C8D4E3"
             },
             "line": {
              "color": "white"
             }
            },
            "type": "table"
           }
          ]
         },
         "layout": {
          "annotationdefaults": {
           "arrowcolor": "#2a3f5f",
           "arrowhead": 0,
           "arrowwidth": 1
          },
          "autotypenumbers": "strict",
          "coloraxis": {
           "colorbar": {
            "outlinewidth": 0,
            "ticks": ""
           }
          },
          "colorscale": {
           "diverging": [
            [
             0,
             "#8e0152"
            ],
            [
             0.1,
             "#c51b7d"
            ],
            [
             0.2,
             "#de77ae"
            ],
            [
             0.3,
             "#f1b6da"
            ],
            [
             0.4,
             "#fde0ef"
            ],
            [
             0.5,
             "#f7f7f7"
            ],
            [
             0.6,
             "#e6f5d0"
            ],
            [
             0.7,
             "#b8e186"
            ],
            [
             0.8,
             "#7fbc41"
            ],
            [
             0.9,
             "#4d9221"
            ],
            [
             1,
             "#276419"
            ]
           ],
           "sequential": [
            [
             0,
             "#0d0887"
            ],
            [
             0.1111111111111111,
             "#46039f"
            ],
            [
             0.2222222222222222,
             "#7201a8"
            ],
            [
             0.3333333333333333,
             "#9c179e"
            ],
            [
             0.4444444444444444,
             "#bd3786"
            ],
            [
             0.5555555555555556,
             "#d8576b"
            ],
            [
             0.6666666666666666,
             "#ed7953"
            ],
            [
             0.7777777777777778,
             "#fb9f3a"
            ],
            [
             0.8888888888888888,
             "#fdca26"
            ],
            [
             1,
             "#f0f921"
            ]
           ],
           "sequentialminus": [
            [
             0,
             "#0d0887"
            ],
            [
             0.1111111111111111,
             "#46039f"
            ],
            [
             0.2222222222222222,
             "#7201a8"
            ],
            [
             0.3333333333333333,
             "#9c179e"
            ],
            [
             0.4444444444444444,
             "#bd3786"
            ],
            [
             0.5555555555555556,
             "#d8576b"
            ],
            [
             0.6666666666666666,
             "#ed7953"
            ],
            [
             0.7777777777777778,
             "#fb9f3a"
            ],
            [
             0.8888888888888888,
             "#fdca26"
            ],
            [
             1,
             "#f0f921"
            ]
           ]
          },
          "colorway": [
           "#636efa",
           "#EF553B",
           "#00cc96",
           "#ab63fa",
           "#FFA15A",
           "#19d3f3",
           "#FF6692",
           "#B6E880",
           "#FF97FF",
           "#FECB52"
          ],
          "font": {
           "color": "#2a3f5f"
          },
          "geo": {
           "bgcolor": "white",
           "lakecolor": "white",
           "landcolor": "white",
           "showlakes": true,
           "showland": true,
           "subunitcolor": "#C8D4E3"
          },
          "hoverlabel": {
           "align": "left"
          },
          "hovermode": "closest",
          "mapbox": {
           "style": "light"
          },
          "paper_bgcolor": "white",
          "plot_bgcolor": "white",
          "polar": {
           "angularaxis": {
            "gridcolor": "#EBF0F8",
            "linecolor": "#EBF0F8",
            "ticks": ""
           },
           "bgcolor": "white",
           "radialaxis": {
            "gridcolor": "#EBF0F8",
            "linecolor": "#EBF0F8",
            "ticks": ""
           }
          },
          "scene": {
           "xaxis": {
            "backgroundcolor": "white",
            "gridcolor": "#DFE8F3",
            "gridwidth": 2,
            "linecolor": "#EBF0F8",
            "showbackground": true,
            "ticks": "",
            "zerolinecolor": "#EBF0F8"
           },
           "yaxis": {
            "backgroundcolor": "white",
            "gridcolor": "#DFE8F3",
            "gridwidth": 2,
            "linecolor": "#EBF0F8",
            "showbackground": true,
            "ticks": "",
            "zerolinecolor": "#EBF0F8"
           },
           "zaxis": {
            "backgroundcolor": "white",
            "gridcolor": "#DFE8F3",
            "gridwidth": 2,
            "linecolor": "#EBF0F8",
            "showbackground": true,
            "ticks": "",
            "zerolinecolor": "#EBF0F8"
           }
          },
          "shapedefaults": {
           "line": {
            "color": "#2a3f5f"
           }
          },
          "ternary": {
           "aaxis": {
            "gridcolor": "#DFE8F3",
            "linecolor": "#A2B1C6",
            "ticks": ""
           },
           "baxis": {
            "gridcolor": "#DFE8F3",
            "linecolor": "#A2B1C6",
            "ticks": ""
           },
           "bgcolor": "white",
           "caxis": {
            "gridcolor": "#DFE8F3",
            "linecolor": "#A2B1C6",
            "ticks": ""
           }
          },
          "title": {
           "x": 0.05
          },
          "xaxis": {
           "automargin": true,
           "gridcolor": "#EBF0F8",
           "linecolor": "#EBF0F8",
           "ticks": "",
           "title": {
            "standoff": 15
           },
           "zerolinecolor": "#EBF0F8",
           "zerolinewidth": 2
          },
          "yaxis": {
           "automargin": true,
           "gridcolor": "#EBF0F8",
           "linecolor": "#EBF0F8",
           "ticks": "",
           "title": {
            "standoff": 15
           },
           "zerolinecolor": "#EBF0F8",
           "zerolinewidth": 2
          }
         }
        },
        "title": {
         "font": {
          "size": 35
         },
         "text": "Kendall's Tau: Holmes Main Tasks vs. Harness Tasks/Subtasks"
        },
        "width": 1000,
        "xaxis": {
         "anchor": "y",
         "automargin": true,
         "domain": [
          0,
          1
         ],
         "tickangle": 45,
         "tickfont": {
          "size": 26
         },
         "title": {
          "font": {
           "size": 32
          }
         }
        },
        "yaxis": {
         "anchor": "x",
         "automargin": true,
         "autorange": "reversed",
         "domain": [
          0,
          1
         ],
         "tickfont": {
          "size": 26
         },
         "title": {
          "font": {
           "size": 32
          }
         }
        }
       }
      }
     },
     "metadata": {},
     "output_type": "display_data"
    },
    {
     "name": "stdout",
     "output_type": "stream",
     "text": [
      "\n",
      "--- Calculating Holmes Linguistic Competencies vs Harness Leaderboard Groups Correlation Matrix (Group-Aggregated Taus) ---\n",
      "Saved group-aggregated correlation matrix to rankings_output/correlation_holmes_ling_competencies_vs_harness_groups.csv\n",
      "Holmes Linguistic Competencies vs Harness Leaderboard Groups Correlation Matrix (sample):\n",
      "                  bbh      gpqa  leaderboard  math_hard      musr\n",
      "discourse   0.144994  0.124298     0.199121   0.203768  0.171673\n",
      "morphology  0.230869  0.209023     0.298446   0.273326  0.216708\n",
      "reasoning   0.175898  0.187636     0.220652   0.267884  0.150543\n",
      "semantics   0.136862  0.107985     0.175853   0.164626  0.165910\n",
      "syntax      0.200198  0.169577     0.248730   0.221202  0.182099\n"
     ]
    },
    {
     "data": {
      "application/vnd.plotly.v1+json": {
       "config": {
        "plotlyServerURL": "https://plot.ly"
       },
       "data": [
        {
         "coloraxis": "coloraxis",
         "hovertemplate": "x: %{x}<br>y: %{y}<br>color: %{z}<extra></extra>",
         "name": "0",
         "texttemplate": "%{z:.2f}",
         "type": "heatmap",
         "x": [
          "bbh",
          "gpqa",
          "leaderboard",
          "math_hard",
          "musr"
         ],
         "xaxis": "x",
         "y": [
          "discourse",
          "morphology",
          "reasoning",
          "semantics",
          "syntax"
         ],
         "yaxis": "y",
         "z": {
          "bdata": "9CiP8iiPwj8k/dEf/dG/P2cx4//KfMk/eOrLBw8Vyj+XX/mVX/nFP9HYEzAcjc0/FKzpSUDByj9o/jG8vRnTP3U8Fg8tftE/0rt5Ihq9yz8/aFsH1IPGP0iA6c1yBMg/spBWBVA+zD8sySrqAiXRP1E02Wr+RMM/GOW35LGEwT/oUwuC7aS7PwfjbehdgsY/376kuXUSxT9i7aL7hjzFPwIaoAEaoMk/TFtfoLC0xT+aMKPMY9bPP+J7mU5XUMw/mx8WKQNPxz8=",
          "dtype": "f8",
          "shape": "5, 5"
         }
        }
       ],
       "layout": {
        "coloraxis": {
         "cmax": 1,
         "cmin": -1,
         "colorscale": [
          [
           0,
           "rgb(5,48,97)"
          ],
          [
           0.1,
           "rgb(33,102,172)"
          ],
          [
           0.2,
           "rgb(67,147,195)"
          ],
          [
           0.3,
           "rgb(146,197,222)"
          ],
          [
           0.4,
           "rgb(209,229,240)"
          ],
          [
           0.5,
           "rgb(247,247,247)"
          ],
          [
           0.6,
           "rgb(253,219,199)"
          ],
          [
           0.7,
           "rgb(244,165,130)"
          ],
          [
           0.8,
           "rgb(214,96,77)"
          ],
          [
           0.9,
           "rgb(178,24,43)"
          ],
          [
           1,
           "rgb(103,0,31)"
          ]
         ]
        },
        "font": {
         "size": 20
        },
        "height": 700,
        "legend": {
         "font": {
          "size": 16
         },
         "title": {
          "font": {
           "size": 18
          }
         }
        },
        "template": {
         "data": {
          "bar": [
           {
            "error_x": {
             "color": "#2a3f5f"
            },
            "error_y": {
             "color": "#2a3f5f"
            },
            "marker": {
             "line": {
              "color": "white",
              "width": 0.5
             },
             "pattern": {
              "fillmode": "overlay",
              "size": 10,
              "solidity": 0.2
             }
            },
            "type": "bar"
           }
          ],
          "barpolar": [
           {
            "marker": {
             "line": {
              "color": "white",
              "width": 0.5
             },
             "pattern": {
              "fillmode": "overlay",
              "size": 10,
              "solidity": 0.2
             }
            },
            "type": "barpolar"
           }
          ],
          "carpet": [
           {
            "aaxis": {
             "endlinecolor": "#2a3f5f",
             "gridcolor": "#C8D4E3",
             "linecolor": "#C8D4E3",
             "minorgridcolor": "#C8D4E3",
             "startlinecolor": "#2a3f5f"
            },
            "baxis": {
             "endlinecolor": "#2a3f5f",
             "gridcolor": "#C8D4E3",
             "linecolor": "#C8D4E3",
             "minorgridcolor": "#C8D4E3",
             "startlinecolor": "#2a3f5f"
            },
            "type": "carpet"
           }
          ],
          "choropleth": [
           {
            "colorbar": {
             "outlinewidth": 0,
             "ticks": ""
            },
            "type": "choropleth"
           }
          ],
          "contour": [
           {
            "colorbar": {
             "outlinewidth": 0,
             "ticks": ""
            },
            "colorscale": [
             [
              0,
              "#0d0887"
             ],
             [
              0.1111111111111111,
              "#46039f"
             ],
             [
              0.2222222222222222,
              "#7201a8"
             ],
             [
              0.3333333333333333,
              "#9c179e"
             ],
             [
              0.4444444444444444,
              "#bd3786"
             ],
             [
              0.5555555555555556,
              "#d8576b"
             ],
             [
              0.6666666666666666,
              "#ed7953"
             ],
             [
              0.7777777777777778,
              "#fb9f3a"
             ],
             [
              0.8888888888888888,
              "#fdca26"
             ],
             [
              1,
              "#f0f921"
             ]
            ],
            "type": "contour"
           }
          ],
          "contourcarpet": [
           {
            "colorbar": {
             "outlinewidth": 0,
             "ticks": ""
            },
            "type": "contourcarpet"
           }
          ],
          "heatmap": [
           {
            "colorbar": {
             "outlinewidth": 0,
             "ticks": ""
            },
            "colorscale": [
             [
              0,
              "#0d0887"
             ],
             [
              0.1111111111111111,
              "#46039f"
             ],
             [
              0.2222222222222222,
              "#7201a8"
             ],
             [
              0.3333333333333333,
              "#9c179e"
             ],
             [
              0.4444444444444444,
              "#bd3786"
             ],
             [
              0.5555555555555556,
              "#d8576b"
             ],
             [
              0.6666666666666666,
              "#ed7953"
             ],
             [
              0.7777777777777778,
              "#fb9f3a"
             ],
             [
              0.8888888888888888,
              "#fdca26"
             ],
             [
              1,
              "#f0f921"
             ]
            ],
            "type": "heatmap"
           }
          ],
          "histogram": [
           {
            "marker": {
             "pattern": {
              "fillmode": "overlay",
              "size": 10,
              "solidity": 0.2
             }
            },
            "type": "histogram"
           }
          ],
          "histogram2d": [
           {
            "colorbar": {
             "outlinewidth": 0,
             "ticks": ""
            },
            "colorscale": [
             [
              0,
              "#0d0887"
             ],
             [
              0.1111111111111111,
              "#46039f"
             ],
             [
              0.2222222222222222,
              "#7201a8"
             ],
             [
              0.3333333333333333,
              "#9c179e"
             ],
             [
              0.4444444444444444,
              "#bd3786"
             ],
             [
              0.5555555555555556,
              "#d8576b"
             ],
             [
              0.6666666666666666,
              "#ed7953"
             ],
             [
              0.7777777777777778,
              "#fb9f3a"
             ],
             [
              0.8888888888888888,
              "#fdca26"
             ],
             [
              1,
              "#f0f921"
             ]
            ],
            "type": "histogram2d"
           }
          ],
          "histogram2dcontour": [
           {
            "colorbar": {
             "outlinewidth": 0,
             "ticks": ""
            },
            "colorscale": [
             [
              0,
              "#0d0887"
             ],
             [
              0.1111111111111111,
              "#46039f"
             ],
             [
              0.2222222222222222,
              "#7201a8"
             ],
             [
              0.3333333333333333,
              "#9c179e"
             ],
             [
              0.4444444444444444,
              "#bd3786"
             ],
             [
              0.5555555555555556,
              "#d8576b"
             ],
             [
              0.6666666666666666,
              "#ed7953"
             ],
             [
              0.7777777777777778,
              "#fb9f3a"
             ],
             [
              0.8888888888888888,
              "#fdca26"
             ],
             [
              1,
              "#f0f921"
             ]
            ],
            "type": "histogram2dcontour"
           }
          ],
          "mesh3d": [
           {
            "colorbar": {
             "outlinewidth": 0,
             "ticks": ""
            },
            "type": "mesh3d"
           }
          ],
          "parcoords": [
           {
            "line": {
             "colorbar": {
              "outlinewidth": 0,
              "ticks": ""
             }
            },
            "type": "parcoords"
           }
          ],
          "pie": [
           {
            "automargin": true,
            "type": "pie"
           }
          ],
          "scatter": [
           {
            "fillpattern": {
             "fillmode": "overlay",
             "size": 10,
             "solidity": 0.2
            },
            "type": "scatter"
           }
          ],
          "scatter3d": [
           {
            "line": {
             "colorbar": {
              "outlinewidth": 0,
              "ticks": ""
             }
            },
            "marker": {
             "colorbar": {
              "outlinewidth": 0,
              "ticks": ""
             }
            },
            "type": "scatter3d"
           }
          ],
          "scattercarpet": [
           {
            "marker": {
             "colorbar": {
              "outlinewidth": 0,
              "ticks": ""
             }
            },
            "type": "scattercarpet"
           }
          ],
          "scattergeo": [
           {
            "marker": {
             "colorbar": {
              "outlinewidth": 0,
              "ticks": ""
             }
            },
            "type": "scattergeo"
           }
          ],
          "scattergl": [
           {
            "marker": {
             "colorbar": {
              "outlinewidth": 0,
              "ticks": ""
             }
            },
            "type": "scattergl"
           }
          ],
          "scattermap": [
           {
            "marker": {
             "colorbar": {
              "outlinewidth": 0,
              "ticks": ""
             }
            },
            "type": "scattermap"
           }
          ],
          "scattermapbox": [
           {
            "marker": {
             "colorbar": {
              "outlinewidth": 0,
              "ticks": ""
             }
            },
            "type": "scattermapbox"
           }
          ],
          "scatterpolar": [
           {
            "marker": {
             "colorbar": {
              "outlinewidth": 0,
              "ticks": ""
             }
            },
            "type": "scatterpolar"
           }
          ],
          "scatterpolargl": [
           {
            "marker": {
             "colorbar": {
              "outlinewidth": 0,
              "ticks": ""
             }
            },
            "type": "scatterpolargl"
           }
          ],
          "scatterternary": [
           {
            "marker": {
             "colorbar": {
              "outlinewidth": 0,
              "ticks": ""
             }
            },
            "type": "scatterternary"
           }
          ],
          "surface": [
           {
            "colorbar": {
             "outlinewidth": 0,
             "ticks": ""
            },
            "colorscale": [
             [
              0,
              "#0d0887"
             ],
             [
              0.1111111111111111,
              "#46039f"
             ],
             [
              0.2222222222222222,
              "#7201a8"
             ],
             [
              0.3333333333333333,
              "#9c179e"
             ],
             [
              0.4444444444444444,
              "#bd3786"
             ],
             [
              0.5555555555555556,
              "#d8576b"
             ],
             [
              0.6666666666666666,
              "#ed7953"
             ],
             [
              0.7777777777777778,
              "#fb9f3a"
             ],
             [
              0.8888888888888888,
              "#fdca26"
             ],
             [
              1,
              "#f0f921"
             ]
            ],
            "type": "surface"
           }
          ],
          "table": [
           {
            "cells": {
             "fill": {
              "color": "#EBF0F8"
             },
             "line": {
              "color": "white"
             }
            },
            "header": {
             "fill": {
              "color": "#C8D4E3"
             },
             "line": {
              "color": "white"
             }
            },
            "type": "table"
           }
          ]
         },
         "layout": {
          "annotationdefaults": {
           "arrowcolor": "#2a3f5f",
           "arrowhead": 0,
           "arrowwidth": 1
          },
          "autotypenumbers": "strict",
          "coloraxis": {
           "colorbar": {
            "outlinewidth": 0,
            "ticks": ""
           }
          },
          "colorscale": {
           "diverging": [
            [
             0,
             "#8e0152"
            ],
            [
             0.1,
             "#c51b7d"
            ],
            [
             0.2,
             "#de77ae"
            ],
            [
             0.3,
             "#f1b6da"
            ],
            [
             0.4,
             "#fde0ef"
            ],
            [
             0.5,
             "#f7f7f7"
            ],
            [
             0.6,
             "#e6f5d0"
            ],
            [
             0.7,
             "#b8e186"
            ],
            [
             0.8,
             "#7fbc41"
            ],
            [
             0.9,
             "#4d9221"
            ],
            [
             1,
             "#276419"
            ]
           ],
           "sequential": [
            [
             0,
             "#0d0887"
            ],
            [
             0.1111111111111111,
             "#46039f"
            ],
            [
             0.2222222222222222,
             "#7201a8"
            ],
            [
             0.3333333333333333,
             "#9c179e"
            ],
            [
             0.4444444444444444,
             "#bd3786"
            ],
            [
             0.5555555555555556,
             "#d8576b"
            ],
            [
             0.6666666666666666,
             "#ed7953"
            ],
            [
             0.7777777777777778,
             "#fb9f3a"
            ],
            [
             0.8888888888888888,
             "#fdca26"
            ],
            [
             1,
             "#f0f921"
            ]
           ],
           "sequentialminus": [
            [
             0,
             "#0d0887"
            ],
            [
             0.1111111111111111,
             "#46039f"
            ],
            [
             0.2222222222222222,
             "#7201a8"
            ],
            [
             0.3333333333333333,
             "#9c179e"
            ],
            [
             0.4444444444444444,
             "#bd3786"
            ],
            [
             0.5555555555555556,
             "#d8576b"
            ],
            [
             0.6666666666666666,
             "#ed7953"
            ],
            [
             0.7777777777777778,
             "#fb9f3a"
            ],
            [
             0.8888888888888888,
             "#fdca26"
            ],
            [
             1,
             "#f0f921"
            ]
           ]
          },
          "colorway": [
           "#636efa",
           "#EF553B",
           "#00cc96",
           "#ab63fa",
           "#FFA15A",
           "#19d3f3",
           "#FF6692",
           "#B6E880",
           "#FF97FF",
           "#FECB52"
          ],
          "font": {
           "color": "#2a3f5f"
          },
          "geo": {
           "bgcolor": "white",
           "lakecolor": "white",
           "landcolor": "white",
           "showlakes": true,
           "showland": true,
           "subunitcolor": "#C8D4E3"
          },
          "hoverlabel": {
           "align": "left"
          },
          "hovermode": "closest",
          "mapbox": {
           "style": "light"
          },
          "paper_bgcolor": "white",
          "plot_bgcolor": "white",
          "polar": {
           "angularaxis": {
            "gridcolor": "#EBF0F8",
            "linecolor": "#EBF0F8",
            "ticks": ""
           },
           "bgcolor": "white",
           "radialaxis": {
            "gridcolor": "#EBF0F8",
            "linecolor": "#EBF0F8",
            "ticks": ""
           }
          },
          "scene": {
           "xaxis": {
            "backgroundcolor": "white",
            "gridcolor": "#DFE8F3",
            "gridwidth": 2,
            "linecolor": "#EBF0F8",
            "showbackground": true,
            "ticks": "",
            "zerolinecolor": "#EBF0F8"
           },
           "yaxis": {
            "backgroundcolor": "white",
            "gridcolor": "#DFE8F3",
            "gridwidth": 2,
            "linecolor": "#EBF0F8",
            "showbackground": true,
            "ticks": "",
            "zerolinecolor": "#EBF0F8"
           },
           "zaxis": {
            "backgroundcolor": "white",
            "gridcolor": "#DFE8F3",
            "gridwidth": 2,
            "linecolor": "#EBF0F8",
            "showbackground": true,
            "ticks": "",
            "zerolinecolor": "#EBF0F8"
           }
          },
          "shapedefaults": {
           "line": {
            "color": "#2a3f5f"
           }
          },
          "ternary": {
           "aaxis": {
            "gridcolor": "#DFE8F3",
            "linecolor": "#A2B1C6",
            "ticks": ""
           },
           "baxis": {
            "gridcolor": "#DFE8F3",
            "linecolor": "#A2B1C6",
            "ticks": ""
           },
           "bgcolor": "white",
           "caxis": {
            "gridcolor": "#DFE8F3",
            "linecolor": "#A2B1C6",
            "ticks": ""
           }
          },
          "title": {
           "x": 0.05
          },
          "xaxis": {
           "automargin": true,
           "gridcolor": "#EBF0F8",
           "linecolor": "#EBF0F8",
           "ticks": "",
           "title": {
            "standoff": 15
           },
           "zerolinecolor": "#EBF0F8",
           "zerolinewidth": 2
          },
          "yaxis": {
           "automargin": true,
           "gridcolor": "#EBF0F8",
           "linecolor": "#EBF0F8",
           "ticks": "",
           "title": {
            "standoff": 15
           },
           "zerolinecolor": "#EBF0F8",
           "zerolinewidth": 2
          }
         }
        },
        "title": {
         "font": {
          "size": 35
         },
         "text": "Kendall's Tau: Holmes Ling. Competencies vs. Harness Leaderboard Groups<br>(Avg. of Subtask-Pair Taus)"
        },
        "width": 1500,
        "xaxis": {
         "anchor": "y",
         "automargin": true,
         "domain": [
          0,
          1
         ],
         "tickangle": 45,
         "tickfont": {
          "size": 26
         },
         "title": {
          "font": {
           "size": 32
          },
          "text": "Harness Leaderboard Groups"
         }
        },
        "yaxis": {
         "anchor": "x",
         "automargin": true,
         "autorange": "reversed",
         "domain": [
          0,
          1
         ],
         "tickfont": {
          "size": 26
         },
         "title": {
          "font": {
           "size": 32
          },
          "text": "Holmes Linguistic Competencies"
         }
        }
       }
      }
     },
     "metadata": {},
     "output_type": "display_data"
    },
    {
     "name": "stdout",
     "output_type": "stream",
     "text": [
      "\n",
      "--- Script Finished ---\n"
     ]
    }
   ],
   "source": [
    "# -*- coding: utf-8 -*-\n",
    "import os\n",
    "import json\n",
    "import numpy as np\n",
    "import pandas as pd\n",
    "# from scipy.stats import kendalltau # Replaced by pandas.corr\n",
    "from sklearn.preprocessing import StandardScaler # Only if needed by ranking/helpers, not directly for kendall\n",
    "from collections import defaultdict\n",
    "import plotly.express as px\n",
    "import plotly.graph_objects as go\n",
    "# import plotly.figure_factory as ff # For dendrograms if kept, not primary for heatmaps\n",
    "# from plotly.subplots import make_subplots # Not used in current version\n",
    "import plotly.io as pio\n",
    "import re\n",
    "\n",
    "# Set default plotly template\n",
    "pio.templates.default = \"plotly_white\"\n",
    "\n",
    "# --- 1. Global Configurations ---\n",
    "\n",
    "# UPDATED: Centralized model configuration to link Holmes and Harness names\n",
    "MODEL_CONFIG = [\n",
    "    # Core Models\n",
    "    {\"short_name\": \"Qwen2.5 Base\", \"holmes_name\": \"Qwen__Qwen2.5-7B\", \"harness_name\": \"Qwen2.5-7B\"},\n",
    "    {\"short_name\": \"Qwen2.5 Instruct\", \"holmes_name\": \"Qwen__Qwen2.5-7B-Instruct\", \"harness_name\": \"Qwen2.5-7B-Instruct\"},\n",
    "    {\"short_name\": \"Qwen2.5 Coder\", \"holmes_name\": \"Qwen__Qwen2.5-Coder-7B\", \"harness_name\": \"Qwen2.5-Coder-7B\"},\n",
    "    {\"short_name\": \"Qwen2.5 Math\", \"holmes_name\": \"Qwen__Qwen2.5-Math-7B\", \"harness_name\": \"Qwen2.5-Math-7B\"},\n",
    "    # Coder Merged Models\n",
    "    {\"short_name\": \"Linear (Coder)\", \"holmes_name\": \"Yuuta208__Qwen2.5-7B-Instruct-Qwen2.5-Coder-7B-Merged-linear-29\", \"harness_name\": \"Qwen2.5-7B-Instruct-Qwen2.5-Coder-7B-Merged-linear-29\"},\n",
    "    {\"short_name\": \"Task Arithmetic (Coder)\", \"holmes_name\": \"Yuuta208__Qwen2.5-7B-Instruct-Qwen2.5-Coder-7B-Merged-task_arithmetic-29\", \"harness_name\": \"Qwen2.5-7B-Instruct-Qwen2.5-Coder-7B-Merged-task_arithmetic-29\"},\n",
    "    {\"short_name\": \"DARE Ties (Coder)\", \"holmes_name\": \"Yuuta208__Qwen2.5-7B-Instruct-Qwen2.5-Coder-7B-Merged-dare_ties-29\", \"harness_name\": \"Qwen2.5-7B-Instruct-Qwen2.5-Coder-7B-Merged-dare_ties-29\"},\n",
    "    {\"short_name\": \"Ties (Coder)\", \"holmes_name\": \"Yuuta208__Qwen2.5-7B-Instruct-Qwen2.5-Coder-7B-Merged-ties-29\", \"harness_name\": \"Qwen2.5-7B-Instruct-Qwen2.5-Coder-7B-Merged-ties-29\"},\n",
    "    {\"short_name\": \"Slerp (Coder)\", \"holmes_name\": \"Yuuta208__Qwen2.5-7B-Instruct-Qwen2.5-Coder-7B-Merged-slerp-29\", \"harness_name\": \"Qwen2.5-7B-Instruct-Qwen2.5-Coder-7B-Merged-slerp-29\"},\n",
    "    # Math Merged Models\n",
    "    {\"short_name\": \"Linear (Math)\", \"holmes_name\": \"Yuuta208__Qwen2.5-7B-Instruct-Qwen2.5-Math-7B-Merged-linear-24\", \"harness_name\": \"Qwen2.5-7B-Instruct-Qwen2.5-Math-7B-Merged-linear-24\"},\n",
    "    {\"short_name\": \"Slerp (Math)\", \"holmes_name\": \"Yuuta208__Qwen2.5-7B-Instruct-Qwen2.5-Math-7B-Merged-slerp-24\", \"harness_name\": \"Qwen2.5-7B-Instruct-Qwen2.5-Math-7B-Merged-slerp-24\"},\n",
    "    {\"short_name\": \"Task Arithmetic (Math)\", \"holmes_name\": \"Yuuta208__Qwen2.5-7B-Instruct-Qwen2.5-Math-7B-Merged-task_arithmetic-26\", \"harness_name\": \"Qwen2.5-7B-Instruct-Qwen2.5-Math-7B-Merged-task_arithmetic-26\"},\n",
    "    {\"short_name\": \"Ties (Math)\", \"holmes_name\": \"Yuuta208__Qwen2.5-7B-Instruct-Qwen2.5-Math-7B-Merged-ties-25\", \"harness_name\": \"Qwen2.5-7B-Instruct-Qwen2.5-Math-7B-Merged-ties-25\"},\n",
    "    {\"short_name\": \"DARE Ties (Math)\", \"holmes_name\": \"Yuuta208__Qwen2.5-7B-Instruct-Qwen2.5-Math-7B-Merged-dare_ties-27\", \"harness_name\": \"Qwen2.5-7B-Instruct-Qwen2.5-Math-7B-Merged-dare_ties-27\"},\n",
    "    {\"short_name\": \"Della (Math)\", \"holmes_name\": \"Yuuta208__Qwen2.5-7B-Instruct-Qwen2.5-Math-7B-Merged-della-27\", \"harness_name\": \"Qwen2.5-7B-Instruct-Qwen2.5-Math-7B-Merged-della-27\"},\n",
    "]\n",
    "\n",
    "# --- Generate lists and mappings from the new config ---\n",
    "holmes_model_list = [m['holmes_name'] for m in MODEL_CONFIG if 'holmes_name' in m]\n",
    "harness_model_list = [m['harness_name'] for m in MODEL_CONFIG if 'harness_name' in m]\n",
    "\n",
    "MASTER_SHORT_NAMES = {}\n",
    "for model in MODEL_CONFIG:\n",
    "    if 'holmes_name' in model:\n",
    "        MASTER_SHORT_NAMES[model['holmes_name']] = model['short_name']\n",
    "    if 'harness_name' in model:\n",
    "        MASTER_SHORT_NAMES[model['harness_name']] = model['short_name']\n",
    "\n",
    "COMPARABLE_MODEL_SHORT_NAMES = sorted(list(set(m['short_name'] for m in MODEL_CONFIG)))\n",
    "\n",
    "\n",
    "font_config = {\n",
    "    \"title_font_size\": 35,\n",
    "    \"font_size\": 20,\n",
    "    \"xaxis_title_font_size\": 32,\n",
    "    \"yaxis_title_font_size\": 32,\n",
    "    \"xaxis_tickfont_size\": 26,\n",
    "    \"yaxis_tickfont_size\": 26,\n",
    "    \"legend_title_font_size\": 18,\n",
    "    \"legend_font_size\": 16,\n",
    "}\n",
    "\n",
    "default_plot_height = 800\n",
    "heatmap_color_scale = 'RdBu_r'\n",
    "OUTPUT_DIR = \"rankings_output\"\n",
    "\n",
    "# --- Helper function for cleaning model names for plots ---\n",
    "def clean_plot_name(name):\n",
    "    if isinstance(name, str) and \"Merged_\" in name:\n",
    "        return re.sub(r'_\\d+$', '', name)\n",
    "    return name\n",
    "\n",
    "def clean_axis_label(label):\n",
    "    label = label.replace(\"HolmesM_\", \"H-Main: \")\n",
    "    label = label.replace(\"HarnessM_\", \"Ha-Main: \")\n",
    "    label = label.replace(\"HarnessS_\", \"Ha-Sub: \")\n",
    "    label = re.sub(r'Ha-Sub: ([^_]+)_', r'Ha-Sub: \\1 - ', label)\n",
    "    return label\n",
    "\n",
    "\n",
    "# --- 2. Holmes Data Section ---\n",
    "HOLMES_ABS_DATA_FILE = \"results_flash-holmes.csv\"\n",
    "HOLMES_GROUP_DATA_FILE = \"transformed_results_2.csv\"\n",
    "HOLMES_MAIN_TASK_COL_FROM_GROUP_FILE = \"probing dataset\"\n",
    "HOLMES_SUBTASK_COL_FROM_GROUP_FILE = \"probe\"\n",
    "HOLMES_LINGUISTIC_COMPETENCY_COL = \"linguistic competencies\"\n",
    "HOLMES_SUBTASK_PHENOMENA_COL = \"linguistic phenomena\" # Retained for potential future use\n",
    "\n",
    "def process_frame_holmes(frame):\n",
    "    if \"Unnamed: 0\" in frame.columns:\n",
    "        del frame[\"Unnamed: 0\"]\n",
    "    if \"linguistic subfield\" in frame.columns and HOLMES_LINGUISTIC_COMPETENCY_COL not in frame.columns:\n",
    "        frame[HOLMES_LINGUISTIC_COMPETENCY_COL] = frame[\"linguistic subfield\"]\n",
    "    return frame\n",
    "\n",
    "def load_data_holmes(abs_filepath, group_filepath, model_list_in_file,\n",
    "                     main_task_col_in_group_file, sub_task_col_in_group_file,\n",
    "                     linguistic_competency_col_in_group_file, phenomena_col_in_group_file): # phenomena_col retained\n",
    "    try:\n",
    "        raw_abs_df = pd.read_csv(abs_filepath)\n",
    "    except FileNotFoundError:\n",
    "        print(f\"Error: Holmes absolute scores file not found at {abs_filepath}\")\n",
    "        return pd.DataFrame(), pd.DataFrame()\n",
    "\n",
    "    if \"Unnamed: 0\" in raw_abs_df.columns: del raw_abs_df[\"Unnamed: 0\"]\n",
    "    raw_abs_df.rename(columns={'probing_dataset': 'holmes_subtask_id', 'model_name': 'model'}, inplace=True)\n",
    "\n",
    "    if 'encoding' in raw_abs_df.columns:\n",
    "        raw_abs_df = raw_abs_df[raw_abs_df['encoding'] == 'full'].copy()\n",
    "    \n",
    "    raw_abs_df['score'] = pd.to_numeric(raw_abs_df['score'], errors='coerce')\n",
    "    abs_df_grouped = raw_abs_df.groupby(['holmes_subtask_id', 'model'])['score'].mean().reset_index()\n",
    "    abs_pivot_df = abs_df_grouped.pivot_table(index='holmes_subtask_id', columns='model', values='score').reset_index()\n",
    "\n",
    "    for model_col in model_list_in_file: \n",
    "        if model_col not in abs_pivot_df.columns:\n",
    "            abs_pivot_df[model_col] = np.nan\n",
    "    \n",
    "    cols_to_keep_abs = ['holmes_subtask_id'] + [m for m in model_list_in_file if m in abs_pivot_df.columns]\n",
    "    abs_scores_per_subtask_df = abs_pivot_df[cols_to_keep_abs].copy()\n",
    "\n",
    "    try:\n",
    "        raw_group_df = pd.read_csv(group_filepath)\n",
    "    except FileNotFoundError:\n",
    "        print(f\"Error: Holmes group info file not found at {group_filepath}.\")\n",
    "        for model_col in model_list_in_file:\n",
    "            if model_col in abs_scores_per_subtask_df.columns: abs_scores_per_subtask_df[model_col] *= 100\n",
    "        return pd.DataFrame(columns=model_list_in_file), abs_scores_per_subtask_df \n",
    "\n",
    "    group_df_processed = process_frame_holmes(raw_group_df.copy())\n",
    "    rename_map_group = {\n",
    "        sub_task_col_in_group_file: 'holmes_subtask_id',\n",
    "        linguistic_competency_col_in_group_file: 'holmes_linguistic_competency',\n",
    "        main_task_col_in_group_file: 'holmes_main_task_category'\n",
    "    }\n",
    "    # Add phenomena if it exists and isn't already mapped (it might be the same as linguistic_competency_col)\n",
    "    if phenomena_col_in_group_file not in rename_map_group:\n",
    "        rename_map_group[phenomena_col_in_group_file] = 'holmes_linguistic_phenomena'\n",
    "\n",
    "\n",
    "    group_df_processed.rename(columns=rename_map_group, inplace=True)\n",
    "\n",
    "    id_cols_group = ['holmes_main_task_category', 'holmes_subtask_id', 'holmes_linguistic_competency']\n",
    "    # Add phenomena to id_cols if it was successfully renamed\n",
    "    if 'holmes_linguistic_phenomena' in group_df_processed.columns:\n",
    "         id_cols_group.append('holmes_linguistic_phenomena')\n",
    "    \n",
    "    if 'probe type' in group_df_processed.columns: id_cols_group.append('probe type')\n",
    "    \n",
    "    id_cols_group_present = [col for col in id_cols_group if col in group_df_processed.columns]\n",
    "\n",
    "    if 'holmes_subtask_id' not in group_df_processed.columns:\n",
    "        print(f\"Critical Error: Subtask ID column ('holmes_subtask_id' from '{sub_task_col_in_group_file}') not found in Holmes group file.\")\n",
    "        for model_col in model_list_in_file:\n",
    "            if model_col in abs_scores_per_subtask_df.columns: abs_scores_per_subtask_df[model_col] *= 100\n",
    "        return pd.DataFrame(columns=model_list_in_file), abs_scores_per_subtask_df\n",
    "\n",
    "    group_info_to_merge = group_df_processed[id_cols_group_present].drop_duplicates(subset=['holmes_subtask_id'])\n",
    "    subtasks_df_with_groups = pd.merge(abs_scores_per_subtask_df, group_info_to_merge, on='holmes_subtask_id', how='left')\n",
    "\n",
    "    models_in_merged_df = [m for m in model_list_in_file if m in subtasks_df_with_groups.columns]\n",
    "    for model_col in models_in_merged_df:\n",
    "        subtasks_df_with_groups[model_col] = pd.to_numeric(subtasks_df_with_groups[model_col], errors='coerce') * 100\n",
    "\n",
    "    summary_df = pd.DataFrame()\n",
    "    if 'holmes_main_task_category' in subtasks_df_with_groups.columns and models_in_merged_df:\n",
    "        summary_df = subtasks_df_with_groups.groupby('holmes_main_task_category')[models_in_merged_df].mean()\n",
    "    else:\n",
    "        summary_df = pd.DataFrame(columns=models_in_merged_df)\n",
    "        print(\"Warning: 'holmes_main_task_category' not found or no models. Holmes summary will be empty.\")\n",
    "        \n",
    "    if not summary_df.empty:\n",
    "        summary_df.index = summary_df.index.fillna('Unknown_Holmes_MainTask').astype(str)\n",
    "        summary_df = summary_df[~summary_df.index.str.lower().isin(['nan', 'none', ''])]\n",
    "\n",
    "    if 'holmes_linguistic_competency' in subtasks_df_with_groups.columns:\n",
    "        subtasks_df_with_groups['holmes_linguistic_competency'] = subtasks_df_with_groups['holmes_linguistic_competency'].fillna('Unknown_Ling_Comp').astype(str)\n",
    "        subtasks_df_with_groups = subtasks_df_with_groups[~subtasks_df_with_groups['holmes_linguistic_competency'].str.lower().isin(['nan', 'none', ''])]\n",
    "    else:\n",
    "        print(\"Warning: 'holmes_linguistic_competency' column not found in Holmes subtask data.\")\n",
    "        subtasks_df_with_groups['holmes_linguistic_competency'] = 'Unknown_Ling_Comp'\n",
    "\n",
    "    return summary_df, subtasks_df_with_groups\n",
    "\n",
    "# --- 3. Harness Data Section ---\n",
    "HARNESS_TASKS = [\"gsm8k\", \"mmlu\", \"leaderboard\"]\n",
    "HARNESS_PATHS = {m: {t: f\"organized_results/{t}/{m}/result.json\" for t in HARNESS_TASKS} for m in harness_model_list}\n",
    "\n",
    "def load_summary_harness(paths_dict, model_list_in_file, tasks_list):\n",
    "    df = pd.DataFrame(index=tasks_list, columns=model_list_in_file, dtype=float)\n",
    "    key_map = {\"gsm8k\": \"exact_match,strict-match\", \"mmlu\": \"acc,none\", \"leaderboard\": \"acc_norm,none\"} # Ensure 'leaderboard' uses a common metric like 'acc_norm,none' if available at top level\n",
    "    for m in model_list_in_file:\n",
    "        for t in tasks_list:\n",
    "            fp = paths_dict.get(m, {}).get(t)\n",
    "            if not fp or not os.path.isfile(fp):\n",
    "                df.at[t, m] = np.nan\n",
    "                if fp: print(f\"Warning: Harness file not found {fp}\")\n",
    "                continue\n",
    "            try:\n",
    "                with open(fp, 'r') as f: data = json.load(f)\n",
    "                # For 'leaderboard' summary, try to get the overall score if present\n",
    "                if t == 'leaderboard' and 'results' in data and 'leaderboard' in data['results']:\n",
    "                     results_for_task = data['results']['leaderboard']\n",
    "                elif 'results' in data and t in data['results']:\n",
    "                     results_for_task = data['results'][t]\n",
    "                elif 'groups' in data and t in data['groups']: # Fallback to groups if specific task not in results\n",
    "                     results_for_task = data['groups'][t]\n",
    "                else:\n",
    "                    results_for_task = {}\n",
    "                \n",
    "                val_key = key_map.get(t)\n",
    "                val = results_for_task.get(val_key, np.nan) if val_key else np.nan\n",
    "                df.at[t, m] = val * 100 if val is not None and not pd.isna(val) else np.nan\n",
    "            except Exception as e:\n",
    "                print(f\"Error loading Harness file {fp}: {e}\"); df.at[t, m] = np.nan\n",
    "    return df.dropna(how='all', axis=1).dropna(how='all', axis=0)\n",
    "\n",
    "\n",
    "def load_leaderboard_with_groups_harness(paths_dict, model_list_in_file):\n",
    "    agg = defaultdict(dict); inv_group = {}\n",
    "    leaderboard_paths = {m: paths_dict.get(m, {}).get('leaderboard') for m in model_list_in_file}\n",
    "    leaderboard_paths = {m: p for m, p in leaderboard_paths.items() if p}\n",
    "\n",
    "    if not any(os.path.isfile(fp) for fp in leaderboard_paths.values() if fp):\n",
    "        return pd.DataFrame(columns=['subtask_cleaned', 'harness_group'] + model_list_in_file)\n",
    "\n",
    "    first_valid_file_checked_for_groups = False\n",
    "    for m, fp in leaderboard_paths.items():\n",
    "        if not fp or not os.path.isfile(fp): continue\n",
    "        try:\n",
    "            with open(fp, 'r') as f: data = json.load(f)\n",
    "            # Extract group_subtasks mapping from the first valid file\n",
    "            if 'group_subtasks' in data and not inv_group and not first_valid_file_checked_for_groups:\n",
    "                for grp, subs in data['group_subtasks'].items():\n",
    "                    clean_grp_name = grp.replace('leaderboard_', '') if isinstance(grp, str) else str(grp)\n",
    "                    for sub in subs: \n",
    "                        # Handle cases where sub-tasks in group_subtasks might still have prefixes\n",
    "                        clean_sub_name = sub.replace('leaderboard_', '') if isinstance(sub, str) else str(sub)\n",
    "                        inv_group[clean_sub_name] = clean_grp_name \n",
    "                first_valid_file_checked_for_groups = True\n",
    "            \n",
    "            # Process results for individual subtasks\n",
    "            for key, metrics in data.get('results', {}).items():\n",
    "                if isinstance(key, str) and key.startswith('leaderboard_') and key != 'leaderboard': \n",
    "                    subtask_name_cleaned = key.replace('leaderboard_', '')\n",
    "                    # Prioritize acc_norm, then acc, then exact_match\n",
    "                    score = metrics.get('acc_norm,none', metrics.get('acc,none', metrics.get('exact_match,none', np.nan)))\n",
    "                    if pd.isna(score) and 'exact_match,strict-match' in metrics: # Fallback for gsm8k-like structure if nested\n",
    "                        score = metrics.get('exact_match,strict-match', np.nan)\n",
    "\n",
    "                    if not pd.isna(score): agg[subtask_name_cleaned][m] = score * 100\n",
    "        except Exception as e: print(f\"Error processing Harness file {fp} for model {m}: {e}\")\n",
    "\n",
    "    if not agg: return pd.DataFrame(columns=['subtask_cleaned', 'harness_group'] + model_list_in_file)\n",
    "    \n",
    "    df = pd.DataFrame.from_dict(agg, orient='index')\n",
    "    for m_col in model_list_in_file: \n",
    "        if m_col not in df.columns: df[m_col] = np.nan\n",
    "    \n",
    "    present_models_in_agg = [m for m in model_list_in_file if m in df.columns]\n",
    "    df = df[present_models_in_agg].copy() \n",
    "    df = df.dropna(subset=present_models_in_agg, how='all') # Drop rows where all model scores are NaN\n",
    "\n",
    "    if df.empty: return pd.DataFrame(columns=['subtask_cleaned', 'harness_group'] + model_list_in_file)\n",
    "\n",
    "    df['harness_group'] = df.index.map(lambda x: inv_group.get(x, 'Unknown_Harness_Group')) \n",
    "    df.index.name = 'subtask_cleaned' \n",
    "    df.reset_index(inplace=True) \n",
    "    \n",
    "    final_cols = ['subtask_cleaned', 'harness_group'] + present_models_in_agg \n",
    "    # Ensure essential columns exist, even if empty (though 'subtask_cleaned' comes from index)\n",
    "    for col in ['harness_group']: \n",
    "        if col not in df.columns:\n",
    "            df[col] = 'Unknown_Harness_Group'\n",
    "            \n",
    "    return df[final_cols]\n",
    "\n",
    "\n",
    "# --- 4. Generic Ranking Generation ---\n",
    "def generate_rankings_generic(score_data, model_names_in_data_cols, short_names_map,\n",
    "                              task_id_col=None, group_col_for_index=None):\n",
    "    rankings_list = []\n",
    "    models_to_rank = [m for m in model_names_in_data_cols if m in score_data.columns]\n",
    "    if not models_to_rank:\n",
    "        print(\"No models to rank in generate_rankings_generic.\")\n",
    "        return pd.DataFrame()\n",
    "\n",
    "    if task_id_col: \n",
    "        if task_id_col not in score_data.columns:\n",
    "            print(f\"Error: task_id_col '{task_id_col}' not found in score_data for ranking.\")\n",
    "            return pd.DataFrame()\n",
    "        \n",
    "        # Determine iterator based on presence of group_col_for_index\n",
    "        if group_col_for_index and group_col_for_index in score_data.columns:\n",
    "            # Group by both group_col and task_id_col\n",
    "            iterator = score_data.groupby([group_col_for_index, task_id_col], observed=False) # observed=False for newer pandas\n",
    "        else:\n",
    "            # Group only by task_id_col (add a dummy grouper if group_col_for_index was expected but missing)\n",
    "            if group_col_for_index: \n",
    "                print(f\"Warning: group_col_for_index '{group_col_for_index}' not found. Ranking by task_id_col '{task_id_col}' only.\")\n",
    "            score_data['_dummy_grouper_for_rank'] = 0 # Temporary column for consistent iteration structure\n",
    "            iterator = score_data.groupby(['_dummy_grouper_for_rank', task_id_col], observed=False)\n",
    "\n",
    "\n",
    "        for name_tuple, group_df_iter in iterator:\n",
    "            # Correctly unpack name_tuple based on whether group_col_for_index was used\n",
    "            if group_col_for_index and group_col_for_index in score_data.columns:\n",
    "                current_group_val = name_tuple[0]\n",
    "                current_task_id_val = name_tuple[1]\n",
    "            else: # Only task_id_col was used (with _dummy_grouper_for_rank)\n",
    "                current_group_val = None # Or some indicator like 'N/A' if group_col_for_index was specified but absent\n",
    "                current_task_id_val = name_tuple[1]\n",
    "\n",
    "\n",
    "            if not group_df_iter[models_to_rank].empty:\n",
    "                # Scores for the current task (or sub-group of task if grouped by more)\n",
    "                # .mean() is applied here in case group_df_iter contains multiple rows for the same task_id under a group\n",
    "                # (e.g. if task_id_col wasn't unique within the group_df_iter, which shouldn't happen if task_id_col is the finest grain)\n",
    "                scores_series = group_df_iter[models_to_rank].mean(numeric_only=True) \n",
    "            else:\n",
    "                continue \n",
    "\n",
    "            ranked_models_full = scores_series.sort_values(ascending=False, na_position='last').index.tolist()\n",
    "            ranked_short_names = [short_names_map.get(m, m) for m in ranked_models_full]\n",
    "            \n",
    "            row = {}\n",
    "            if group_col_for_index and current_group_val is not None and group_col_for_index in score_data.columns : \n",
    "                row[group_col_for_index] = current_group_val\n",
    "            row[task_id_col] = current_task_id_val # This is always the specific task identifier\n",
    "            \n",
    "            for i, name in enumerate(ranked_short_names):\n",
    "                row[f'Rank {i+1}'] = name\n",
    "            rankings_list.append(row)\n",
    "        \n",
    "        if '_dummy_grouper_for_rank' in score_data.columns: # Clean up dummy column\n",
    "            del score_data['_dummy_grouper_for_rank']\n",
    "            \n",
    "    else: # This block is for when score_data is already aggregated (index = tasks, columns = models)\n",
    "        if score_data.empty:\n",
    "            print(\"Score data is empty for non-task_id_col ranking.\")\n",
    "            return pd.DataFrame()\n",
    "            \n",
    "        for task_name_idx, row_data in score_data.iterrows():\n",
    "            scores = row_data[models_to_rank].astype(float) # Ensure numeric for sorting\n",
    "            ranked_models_full = scores.sort_values(ascending=False, na_position='last').index.tolist()\n",
    "            ranked_short_names = [short_names_map.get(m, m) for m in ranked_models_full]\n",
    "            row = {'Task': task_name_idx} \n",
    "            for i, name in enumerate(ranked_short_names):\n",
    "                row[f'Rank {i+1}'] = name\n",
    "            rankings_list.append(row)\n",
    "\n",
    "    if not rankings_list: return pd.DataFrame()\n",
    "    rankings_df = pd.DataFrame(rankings_list)\n",
    "    \n",
    "    # Set index\n",
    "    index_cols = []\n",
    "    if group_col_for_index and group_col_for_index in rankings_df.columns: index_cols.append(group_col_for_index)\n",
    "    if task_id_col and task_id_col in rankings_df.columns: index_cols.append(task_id_col)\n",
    "    elif 'Task' in rankings_df.columns: index_cols.append('Task') # For summary DFs not using task_id_col\n",
    "    \n",
    "    if index_cols:\n",
    "        try:\n",
    "            # Drop rows where all specified index columns are NaN\n",
    "            rankings_df.dropna(subset=index_cols, how='all', inplace=True)\n",
    "            if not rankings_df.empty:\n",
    "                 rankings_df.set_index(index_cols, inplace=True)\n",
    "            else: \n",
    "                print(f\"Warning: Rankings_df became empty after dropping NaNs in index columns: {index_cols}\")\n",
    "        except KeyError as e:\n",
    "            print(f\"Warning: Could not set index on {index_cols} for rankings_df. Columns: {rankings_df.columns}. Error: {e}\")\n",
    "    return rankings_df\n",
    "\n",
    "\n",
    "# --- 5. Kendall's Tau Calculation using Pandas ---\n",
    "def calculate_kendall_tau_with_pandas(rank_series1, rank_series2, all_possible_models):\n",
    "    if rank_series1 is None or rank_series2 is None or not rank_series1 or not rank_series2:\n",
    "        return np.nan\n",
    "\n",
    "    # Convert lists of model short names to numerical ranks\n",
    "    s1_numeric = pd.Series(index=all_possible_models, dtype=float)\n",
    "    for i, model_name in enumerate(rank_series1):\n",
    "        if model_name in s1_numeric.index:\n",
    "            s1_numeric[model_name] = i \n",
    "\n",
    "    s2_numeric = pd.Series(index=all_possible_models, dtype=float)\n",
    "    for i, model_name in enumerate(rank_series2):\n",
    "        if model_name in s2_numeric.index:\n",
    "            s2_numeric[model_name] = i\n",
    "            \n",
    "    rank_df = pd.DataFrame({'rank1': s1_numeric, 'rank2': s2_numeric})\n",
    "    rank_df.dropna(inplace=True) \n",
    "\n",
    "    if len(rank_df) < 2: \n",
    "        return np.nan\n",
    "\n",
    "    corr_matrix = rank_df.corr(method='kendall')\n",
    "    \n",
    "    if corr_matrix.shape == (2,2) and not pd.isna(corr_matrix.iloc[0,1]):\n",
    "        return corr_matrix.iloc[0,1]\n",
    "    else: # Should not happen if len(rank_df) >= 2 and dropna worked\n",
    "        return np.nan\n",
    "\n",
    "\n",
    "# --- 6. Main Execution ---\n",
    "if __name__ == \"__main__\":\n",
    "    os.makedirs(OUTPUT_DIR, exist_ok=True)\n",
    "    print(f\"Output directory: {OUTPUT_DIR}\")\n",
    "\n",
    "    # --- Load Holmes Data ---\n",
    "    print(\"--- Loading Holmes Data ---\")\n",
    "    summary_holmes_df, subtasks_holmes_df = load_data_holmes(\n",
    "        HOLMES_ABS_DATA_FILE, HOLMES_GROUP_DATA_FILE, holmes_model_list,\n",
    "        HOLMES_MAIN_TASK_COL_FROM_GROUP_FILE, HOLMES_SUBTASK_COL_FROM_GROUP_FILE, \n",
    "        HOLMES_LINGUISTIC_COMPETENCY_COL, HOLMES_SUBTASK_PHENOMENA_COL\n",
    "    )\n",
    "    print(f\"Holmes Summary (Main Tasks) DF loaded: {summary_holmes_df.shape}\")\n",
    "    print(f\"Holmes Subtasks (with linguistic competencies) DF loaded: {subtasks_holmes_df.shape}\")\n",
    "    # print(\"Holmes Subtasks DF head:\\n\", subtasks_holmes_df.head())\n",
    "\n",
    "\n",
    "    # --- Load Harness Data ---\n",
    "    print(\"\\n--- Loading Harness Data ---\")\n",
    "    summary_harness_df = load_summary_harness(HARNESS_PATHS, harness_model_list, HARNESS_TASKS)\n",
    "    subtasks_harness_df = load_leaderboard_with_groups_harness(HARNESS_PATHS, harness_model_list)\n",
    "    print(f\"Harness Summary DF loaded: {summary_harness_df.shape}\")\n",
    "    print(f\"Harness Subtasks DF loaded: {subtasks_harness_df.shape}\")\n",
    "    # print(\"Harness Subtasks DF head:\\n\", subtasks_harness_df.head())\n",
    "\n",
    "\n",
    "    # --- Generate Holmes Rankings ---\n",
    "    print(\"\\n--- Generating Holmes Rankings ---\")\n",
    "    holmes_summary_model_cols = [m for m in holmes_model_list if m in summary_holmes_df.columns]\n",
    "    holmes_main_ranks_df = generate_rankings_generic(summary_holmes_df, holmes_summary_model_cols, MASTER_SHORT_NAMES)\n",
    "    \n",
    "    holmes_subtasks_model_cols = [m for m in holmes_model_list if m in subtasks_holmes_df.columns]\n",
    "    holmes_subtask_ranks_df = generate_rankings_generic(subtasks_holmes_df, holmes_subtasks_model_cols, MASTER_SHORT_NAMES,\n",
    "                                                       task_id_col='holmes_subtask_id', group_col_for_index='holmes_linguistic_competency')\n",
    "    \n",
    "    print(\"Holmes Main Task Ranks DF head:\\n\", holmes_main_ranks_df.head())\n",
    "    # print(\"Holmes Subtask Ranks (by Ling. Competency) DF head:\\n\", holmes_subtask_ranks_df.head())\n",
    "\n",
    "    if not holmes_main_ranks_df.empty:\n",
    "        holmes_main_ranks_df.to_csv(os.path.join(OUTPUT_DIR, \"holmes_main_task_rankings.csv\"), index=True)\n",
    "        print(f\"Saved Holmes main task rankings.\")\n",
    "    if not holmes_subtask_ranks_df.empty:\n",
    "        holmes_subtask_ranks_df.to_csv(os.path.join(OUTPUT_DIR, \"holmes_subtask_rankings_by_ling_competency.csv\"), index=True)\n",
    "        print(f\"Saved Holmes subtask rankings by linguistic competency.\")\n",
    "\n",
    "\n",
    "    # --- Generate Harness Rankings ---\n",
    "    print(\"\\n--- Generating Harness Rankings ---\")\n",
    "    harness_summary_model_cols = [m for m in harness_model_list if m in summary_harness_df.columns]\n",
    "    harness_subtasks_model_cols = [m for m in harness_model_list if m in subtasks_harness_df.columns]\n",
    "    \n",
    "    harness_main_ranks_df = generate_rankings_generic(summary_harness_df, harness_summary_model_cols, MASTER_SHORT_NAMES)\n",
    "    harness_subtask_ranks_df = generate_rankings_generic(subtasks_harness_df, harness_subtasks_model_cols, MASTER_SHORT_NAMES,\n",
    "                                                         task_id_col='subtask_cleaned', group_col_for_index='harness_group')\n",
    "    print(\"Harness Main Ranks DF head:\\n\", harness_main_ranks_df.head())\n",
    "    # print(\"Harness Subtask Ranks DF head:\\n\", harness_subtask_ranks_df.head())\n",
    "\n",
    "    if not harness_main_ranks_df.empty:\n",
    "        harness_main_ranks_df.to_csv(os.path.join(OUTPUT_DIR, \"harness_main_rankings.csv\"), index=True)\n",
    "        print(f\"Saved Harness main rankings.\")\n",
    "    if not harness_subtask_ranks_df.empty:\n",
    "        harness_subtask_ranks_df.to_csv(os.path.join(OUTPUT_DIR, \"harness_subtask_rankings_by_group.csv\"), index=True)\n",
    "        print(f\"Saved Harness subtask rankings by group.\")\n",
    "\n",
    "    # --- Prepare Task/Subtask Lists for \"Huge\" Correlation Matrix ---\n",
    "    # This matrix correlates Holmes MAIN tasks vs ALL Harness tasks (main and sub)\n",
    "    holmes_main_task_keys_labels_for_huge_corr = []\n",
    "    if not holmes_main_ranks_df.empty:\n",
    "        for idx in holmes_main_ranks_df.index.tolist(): # Index is task name for main ranks\n",
    "            holmes_main_task_keys_labels_for_huge_corr.append((f\"HolmesM_{idx}\", clean_axis_label(f\"HolmesM_{idx}\")))\n",
    "    \n",
    "    harness_all_task_keys_labels_for_huge_corr = []\n",
    "    if not harness_main_ranks_df.empty:\n",
    "        for idx in harness_main_ranks_df.index.tolist(): # Index is task name\n",
    "            harness_all_task_keys_labels_for_huge_corr.append((f\"HarnessM_{idx}\", clean_axis_label(f\"HarnessM_{idx}\")))\n",
    "    if not harness_subtask_ranks_df.empty and isinstance(harness_subtask_ranks_df.index, pd.MultiIndex):\n",
    "        for group_idx, subtask_idx in harness_subtask_ranks_df.index: \n",
    "            internal_key = f\"HarnessS_{group_idx}_{subtask_idx}\"\n",
    "            harness_all_task_keys_labels_for_huge_corr.append((internal_key, clean_axis_label(internal_key)))\n",
    "    elif not harness_subtask_ranks_df.empty: # Single index case (less likely with groups)\n",
    "         for idx in harness_subtask_ranks_df.index:\n",
    "            internal_key = f\"HarnessS_{idx}\" # Assuming idx might be 'group_subtask' if not multi-index\n",
    "            harness_all_task_keys_labels_for_huge_corr.append((internal_key, clean_axis_label(internal_key)))\n",
    "\n",
    "    \n",
    "    # --- Huge Correlation Map (Holmes Main Tasks vs Harness All Tasks/Subtasks) ---\n",
    "    print(\"\\n--- Calculating Huge Correlation Matrix (Holmes Main Tasks vs Harness All Tasks/Subtasks) ---\")\n",
    "    if holmes_main_task_keys_labels_for_huge_corr and harness_all_task_keys_labels_for_huge_corr:\n",
    "        holmes_labels_for_index = [item[1] for item in holmes_main_task_keys_labels_for_huge_corr]\n",
    "        harness_labels_for_columns = [item[1] for item in harness_all_task_keys_labels_for_huge_corr]\n",
    "        \n",
    "        huge_corr_matrix = pd.DataFrame(index=holmes_labels_for_index, columns=harness_labels_for_columns, dtype=float)\n",
    "\n",
    "        for holmes_key, holmes_display_label in holmes_main_task_keys_labels_for_huge_corr:\n",
    "            task_idx_holmes = holmes_key.replace(\"HolmesM_\", \"\")\n",
    "            if task_idx_holmes not in holmes_main_ranks_df.index: continue\n",
    "            holmes_rank_series = holmes_main_ranks_df.loc[task_idx_holmes].dropna().tolist()\n",
    "            if not holmes_rank_series: continue\n",
    "\n",
    "            for harness_key, harness_display_label in harness_all_task_keys_labels_for_huge_corr:\n",
    "                harness_rank_series = None\n",
    "                if harness_key.startswith(\"HarnessM_\"):\n",
    "                    task_idx_harness = harness_key.replace(\"HarnessM_\", \"\")\n",
    "                    if task_idx_harness in harness_main_ranks_df.index:\n",
    "                        harness_rank_series = harness_main_ranks_df.loc[task_idx_harness].dropna().tolist()\n",
    "                elif harness_key.startswith(\"HarnessS_\"):\n",
    "                    # For HarnessS_group_subtask format\n",
    "                    parts = harness_key.replace(\"HarnessS_\", \"\").split('_', 1)\n",
    "                    if len(parts) == 2:\n",
    "                        group_name, subtask_name = parts[0], parts[1]\n",
    "                        target_index_tuple = (group_name, subtask_name)\n",
    "                        if target_index_tuple in harness_subtask_ranks_df.index:\n",
    "                            harness_rank_series = harness_subtask_ranks_df.loc[target_index_tuple].dropna().tolist()\n",
    "                    # Fallback for single index if necessary (though less likely with current setup)\n",
    "                    elif harness_key.replace(\"HarnessS_\", \"\") in harness_subtask_ranks_df.index and not isinstance(harness_subtask_ranks_df.index, pd.MultiIndex):\n",
    "                        harness_rank_series = harness_subtask_ranks_df.loc[harness_key.replace(\"HarnessS_\", \"\")].dropna().tolist()\n",
    "\n",
    "                if not harness_rank_series: continue\n",
    "                \n",
    "                tau = calculate_kendall_tau_with_pandas(holmes_rank_series, harness_rank_series, COMPARABLE_MODEL_SHORT_NAMES)\n",
    "                huge_corr_matrix.at[holmes_display_label, harness_display_label] = tau\n",
    "        \n",
    "        huge_corr_matrix.dropna(how='all', axis=0, inplace=True)\n",
    "        huge_corr_matrix.dropna(how='all', axis=1, inplace=True)\n",
    "        if not huge_corr_matrix.empty:\n",
    "            # Save the correlation matrix to a CSV file\n",
    "            huge_corr_csv_path = os.path.join(OUTPUT_DIR, \"correlation_holmes_main_vs_harness_all.csv\")\n",
    "            huge_corr_matrix.to_csv(huge_corr_csv_path, index=True)\n",
    "            print(f\"Saved huge correlation matrix to {huge_corr_csv_path}\")\n",
    "\n",
    "            print(\"Huge Correlation Matrix (Holmes Main vs Harness All) (sample):\\n\", huge_corr_matrix.head())\n",
    "            fig_huge_corr = px.imshow(huge_corr_matrix.astype(float).sort_index(axis=0).sort_index(axis=1), text_auto=\".2f\", aspect=\"auto\",\n",
    "                                      color_continuous_scale=heatmap_color_scale, range_color=[-1,1],\n",
    "                                      title=\"Kendall's Tau: Holmes Main Tasks vs. Harness Tasks/Subtasks\")\n",
    "            fig_huge_corr.update_xaxes(tickangle=45, automargin=True)\n",
    "            fig_huge_corr.update_yaxes(automargin=True)\n",
    "            fig_huge_corr.update_layout(height=max(800, 20 * len(huge_corr_matrix.index)), \n",
    "                                        width=max(1000, 20 * len(huge_corr_matrix.columns)),\n",
    "                                        **font_config)\n",
    "            fig_huge_corr.show()\n",
    "        else: print(\"Huge correlation matrix (Holmes Main vs Harness All) is empty after NaN drop.\")\n",
    "    else: print(\"Not enough task names for huge correlation matrix (Holmes Main vs Harness All).\")\n",
    "\n",
    "\n",
    "    # --- Holmes Linguistic Competencies vs Harness Leaderboard Groups Correlation Map (Group-Aggregated Taus) ---\n",
    "    print(\"\\n--- Calculating Holmes Linguistic Competencies vs Harness Leaderboard Groups Correlation Matrix (Group-Aggregated Taus) ---\")\n",
    "    \n",
    "    # Check prerequisites\n",
    "    if not holmes_subtask_ranks_df.empty and \\\n",
    "       isinstance(holmes_subtask_ranks_df.index, pd.MultiIndex) and \\\n",
    "       'holmes_linguistic_competency' in holmes_subtask_ranks_df.index.names and \\\n",
    "       'holmes_subtask_id' in holmes_subtask_ranks_df.index.names and \\\n",
    "       not harness_subtask_ranks_df.empty and \\\n",
    "       isinstance(harness_subtask_ranks_df.index, pd.MultiIndex) and \\\n",
    "       'harness_group' in harness_subtask_ranks_df.index.names and \\\n",
    "       'subtask_cleaned' in harness_subtask_ranks_df.index.names:\n",
    "\n",
    "        unique_holmes_competencies = sorted([\n",
    "            str(c) for c in holmes_subtask_ranks_df.index.get_level_values('holmes_linguistic_competency').unique()\n",
    "            if str(c) not in ['Unknown_Ling_Comp', 'nan', 'none', '']\n",
    "        ])\n",
    "        \n",
    "        unique_harness_groups = sorted([\n",
    "            str(g) for g in harness_subtask_ranks_df.index.get_level_values('harness_group').unique()\n",
    "            if str(g) not in ['Unknown_Harness_Group', 'nan', 'none', '']\n",
    "        ])\n",
    "\n",
    "        if not unique_holmes_competencies or not unique_harness_groups:\n",
    "            print(\"No valid Holmes competencies or Harness groups found for group-aggregated correlation.\")\n",
    "        else:\n",
    "            group_vs_group_corr_matrix = pd.DataFrame(index=unique_holmes_competencies, columns=unique_harness_groups, dtype=float)\n",
    "\n",
    "            for competency in unique_holmes_competencies:\n",
    "                try:\n",
    "                    # Get all rank series for subtasks under this Holmes competency\n",
    "                    holmes_ranks_for_competency_df = holmes_subtask_ranks_df.xs(competency, level='holmes_linguistic_competency')\n",
    "                    holmes_competency_subtask_rankings_list = []\n",
    "                    for _, row_series in holmes_ranks_for_competency_df.iterrows():\n",
    "                        ranks = row_series.dropna().tolist()\n",
    "                        if ranks: # Only add if there are actual ranks\n",
    "                            holmes_competency_subtask_rankings_list.append(ranks)\n",
    "                    if not holmes_competency_subtask_rankings_list:\n",
    "                        # print(f\"No rank series found for Holmes competency: {competency}\")\n",
    "                        continue\n",
    "                except KeyError:\n",
    "                    print(f\"KeyError: Holmes competency '{competency}' not found in holmes_subtask_ranks_df index.\")\n",
    "                    continue\n",
    "                \n",
    "                for harness_grp_name in unique_harness_groups:\n",
    "                    try:\n",
    "                        # Get all rank series for subtasks under this Harness group\n",
    "                        harness_ranks_for_group_df = harness_subtask_ranks_df.xs(harness_grp_name, level='harness_group')\n",
    "                        harness_group_subtask_rankings_list = []\n",
    "                        for _, row_series in harness_ranks_for_group_df.iterrows():\n",
    "                            ranks = row_series.dropna().tolist()\n",
    "                            if ranks: # Only add if there are actual ranks\n",
    "                                harness_group_subtask_rankings_list.append(ranks)\n",
    "                        if not harness_group_subtask_rankings_list:\n",
    "                            # print(f\"No rank series found for Harness group: {harness_grp_name}\")\n",
    "                            continue\n",
    "                    except KeyError:\n",
    "                        print(f\"KeyError: Harness group '{harness_grp_name}' not found in harness_subtask_ranks_df index.\")\n",
    "                        continue\n",
    "\n",
    "                    # Calculate all pairwise Taus between subtasks of the two groups\n",
    "                    current_pair_taus = []\n",
    "                    for holmes_s_rank in holmes_competency_subtask_rankings_list:\n",
    "                        for harness_s_rank in harness_group_subtask_rankings_list:\n",
    "                            tau = calculate_kendall_tau_with_pandas(holmes_s_rank, harness_s_rank, COMPARABLE_MODEL_SHORT_NAMES)\n",
    "                            if not pd.isna(tau):\n",
    "                                current_pair_taus.append(tau)\n",
    "                    \n",
    "                    if current_pair_taus:\n",
    "                        group_vs_group_corr_matrix.at[competency, harness_grp_name] = np.mean(current_pair_taus)\n",
    "            \n",
    "            group_vs_group_corr_matrix.dropna(how='all', axis=0, inplace=True) \n",
    "            group_vs_group_corr_matrix.dropna(how='all', axis=1, inplace=True)  \n",
    "            \n",
    "            if not group_vs_group_corr_matrix.empty:\n",
    "                # Save the group-aggregated correlation matrix to a CSV file\n",
    "                group_corr_csv_path = os.path.join(OUTPUT_DIR, \"correlation_holmes_ling_competencies_vs_harness_groups.csv\")\n",
    "                group_vs_group_corr_matrix.to_csv(group_corr_csv_path, index=True)\n",
    "                print(f\"Saved group-aggregated correlation matrix to {group_corr_csv_path}\")\n",
    "\n",
    "                print(\"Holmes Linguistic Competencies vs Harness Leaderboard Groups Correlation Matrix (sample):\\n\", group_vs_group_corr_matrix.head())\n",
    "                fig_group_corr = px.imshow(\n",
    "                    group_vs_group_corr_matrix.astype(float).sort_index(axis=0).sort_index(axis=1), \n",
    "                    text_auto=\".2f\", aspect=\"auto\",\n",
    "                    color_continuous_scale=heatmap_color_scale, range_color=[-1,1],\n",
    "                    title=\"Kendall's Tau: Holmes Ling. Competencies vs. Harness Leaderboard Groups<br>(Avg. of Subtask-Pair Taus)\"\n",
    "                )\n",
    "                fig_group_corr.update_xaxes(tickangle=45, automargin=True, title_text=\"Harness Leaderboard Groups\")\n",
    "                fig_group_corr.update_yaxes(automargin=True, title_text=\"Holmes Linguistic Competencies\")\n",
    "                fig_group_corr.update_layout(\n",
    "                    height=max(700, 25 * len(group_vs_group_corr_matrix.index)), \n",
    "                    width=max(1500, 25 * len(group_vs_group_corr_matrix.columns)),\n",
    "                    **font_config\n",
    "                )\n",
    "                fig_group_corr.show()\n",
    "            else: print(\"Holmes Linguistic Competencies vs Harness Leaderboard Groups correlation matrix is empty after NaN drop.\")\n",
    "    else:\n",
    "        print(\"Skipping Holmes Linguistic Competencies vs Harness Leaderboard Groups Correlation: Prerequisite data or correct DataFrame structure missing.\")\n",
    "        if holmes_subtask_ranks_df.empty: print(\"- Holmes subtask ranks DF is empty.\")\n",
    "        elif not isinstance(holmes_subtask_ranks_df.index, pd.MultiIndex): print(\"- Holmes subtask ranks DF is not MultiIndexed as expected.\")\n",
    "        # Add more specific checks if needed for debugging\n",
    "        if harness_subtask_ranks_df.empty: print(\"- Harness subtask ranks DF is empty.\")\n",
    "        elif not isinstance(harness_subtask_ranks_df.index, pd.MultiIndex): print(\"- Harness subtask ranks DF is not MultiIndexed as expected.\")\n",
    "\n",
    "\n",
    "    print(\"\\n--- Script Finished ---\")\n"
   ]
  }
 ],
 "metadata": {
  "kernelspec": {
   "display_name": "3.12.7",
   "language": "python",
   "name": "python3"
  },
  "language_info": {
   "codemirror_mode": {
    "name": "ipython",
    "version": 3
   },
   "file_extension": ".py",
   "mimetype": "text/x-python",
   "name": "python",
   "nbconvert_exporter": "python",
   "pygments_lexer": "ipython3",
   "version": "3.12.7"
  }
 },
 "nbformat": 4,
 "nbformat_minor": 5
}
